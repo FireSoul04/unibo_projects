{
 "cells": [
  {
   "cell_type": "markdown",
   "id": "bf169812-94dc-4b34-83ff-c84a3e29571a",
   "metadata": {},
   "source": [
    "## Esercitazione 6 - 25 Marzo 2024"
   ]
  },
  {
   "cell_type": "markdown",
   "id": "6776a84b-7a0a-4001-bb1c-2316249e1bb4",
   "metadata": {},
   "source": [
    "Scrivere le funzioni python `bisezione.py`, `falsi.py`,  che implementino rispettivamente il metodo di bisezione, di falsa posizione, delle corde, delle secanti e di Newton.\n",
    "\n",
    "Le funzioni `bisezione.py`, `falsi.py` devono assumere come input:\n",
    "\n",
    "-  gli estremi dell'intervallo [a,b], dominio di f.\n",
    "-  il nome `fname` della funzione di cui calcolare lo zero\n",
    "-  tolx: tolleranza per il testi di arresto per l'errore relativo tra due iterati successivi\n",
    "-  tolf: tolleranza per il test di arresto sul valore della funzione\n",
    "-  nmax= numero massimo di iterazioni\n",
    "    \n",
    "In output:\n",
    "-      lo zero della funzione\n",
    "-      il numero di iterazioni effettuate\n",
    "-      una lista contenente tutti gli iterati xk\n",
    "\n"
   ]
  },
  {
   "cell_type": "code",
   "execution_count": 2,
   "id": "2ab73f62-b2bf-4692-9765-76b0a7fcd9c1",
   "metadata": {},
   "outputs": [],
   "source": [
    "import math\n",
    "def sign(x):\n",
    "    return math.copysign(1,x)"
   ]
  },
  {
   "cell_type": "code",
   "execution_count": 4,
   "id": "3b06c688-6f99-48f5-8f79-7d21f0366108",
   "metadata": {},
   "outputs": [],
   "source": [
    "def metodo_bisezione(fname, a, b, tolx):\n",
    "    #tolx è la tolleranza\n",
    "    fa = fname(a)\n",
    "    fb = fname(b)\n",
    "    if sign(fa*fb) >= 0:\n",
    "        print(\"Impossibile applicare il metodo di bisezione\")\n",
    "        return None, None, None\n",
    "    it = 0\n",
    "    v_xk = []\n",
    "\n",
    "    while abs(b - a) > tolx:\n",
    "        xk = a + (b - a)/2\n",
    "        v_xk.append(xk)\n",
    "        it += 1\n",
    "        fxk = fname(xk)\n",
    "        if fxk == 0:\n",
    "            return xk, it, v_xk\n",
    "        \n",
    "        if sign(fa*fxk) < 0:\n",
    "            b = xk\n",
    "            fb = fxk\n",
    "        elif sign(fb*fxk) < 0:\n",
    "            a = xk\n",
    "            fa = fxk\n",
    "\n",
    "    return xk, it, v_xk"
   ]
  },
  {
   "cell_type": "code",
   "execution_count": 6,
   "id": "6b46334b-ca05-4e9c-82d5-da6cfa278c1e",
   "metadata": {},
   "outputs": [],
   "source": [
    "def metodo_regula_falsi(fname, a, b, tolx, tolf, maxit):\n",
    "    #tolx è la tolleranza su x e tolf è la tolleranza sulla funzione\n",
    "    fa = fname(a)\n",
    "    fb = fname(b)\n",
    "    if sign(fa*fb) >= 0:\n",
    "        print(\"Impossibile applicare il metodo di regula falsi\")\n",
    "        return None, None, None\n",
    "    it = 0\n",
    "    v_xk = []\n",
    "    errore_x = 1 + tolx #così sicuro entra --> errore_x è l'errore relativo, a meno che xk sia == 0\n",
    "    fxk = 1 + tolf #così sicuro entra\n",
    "    xprec = a #inizializzo con un estremo\n",
    "\n",
    "    while it < maxit and np.abs(fxk) > tolf and errore_x > tolx:\n",
    "        xk = a - fa*(b - a)/(fb - fa)\n",
    "        v_xk.append(xk)\n",
    "        it += 1\n",
    "        fxk = fname(xk)\n",
    "        if fxk == 0:\n",
    "            return xk, it, v_xk\n",
    "\n",
    "        if sign(fa*fxk) < 0:\n",
    "            b = xk\n",
    "            fb = fxk\n",
    "        elif sign(fb*fxk) < 0:\n",
    "            a = xk\n",
    "            fa = fxk\n",
    "        if xk != 0:\n",
    "            errore_x = abs(xk - xprec)/abs(xk)\n",
    "        else:\n",
    "            errore_x = abs(xk - xprec)\n",
    "        xprec = xk\n",
    "    return xk, it, v_xk"
   ]
  },
  {
   "cell_type": "markdown",
   "id": "20bbe42c-264f-40aa-887c-1505be3c0d50",
   "metadata": {},
   "source": [
    "**Sperimentazione numerica**"
   ]
  },
  {
   "cell_type": "markdown",
   "id": "22339d84-a5cc-4950-a537-104611a315f8",
   "metadata": {},
   "source": [
    "## Esercizio 1 \n",
    "\n",
    " Confrontare i metodi sopra implementati nei casi seguenti:\n",
    "- f(x) = $x^3-6x^2-4x+24$ in [-3,8], tolx = 1.e − 12, tolf = 1.e − 12, (soluzione esatta alfa=-2,2,6);\n",
    "- f(x) = exp(−x) − (x + 1) in [−1, 2]  tolx = 1.e − 12, tolf = 1.e − 12, (soluzione esatta alfa=0);\n",
    "- f(x) = log2(x + 3) − 2 in [−1, 2]  tolx = 1.e − 12, tolf = 1.e − 12, (soluzione esatta alfa=1);\n",
    "- f(x) =sqrt(x)-(x^2)/4 in [1, 3]  tolx = 1.e − 12, tolf =1.e − 12, (soluzione esatta alfa=2**(4/3))\n",
    "\n",
    "Mostrare in un grafico in scala semilogaritmica sulle ordinate (comando semilogy) l’andamento di ek = |xk − α|, k = 1, ..., nit, sapendo che α = 0, 1, 2**(4/3) nei casi 2-4.\n"
   ]
  },
  {
   "cell_type": "code",
   "execution_count": 10,
   "id": "4646efbc-cf23-4273-a14a-56f1a92537e1",
   "metadata": {},
   "outputs": [
    {
     "data": {
      "text/plain": [
       "[<matplotlib.lines.Line2D at 0x23c40bab680>,\n",
       " <matplotlib.lines.Line2D at 0x23c40bab6b0>]"
      ]
     },
     "execution_count": 10,
     "metadata": {},
     "output_type": "execute_result"
    },
    {
     "data": {
      "image/png": "[encoded data removed]",
      "text/plain": [
       "<Figure size 640x480 with 1 Axes>"
      ]
     },
     "metadata": {},
     "output_type": "display_data"
    }
   ],
   "source": [
    "import numpy as np\n",
    "import matplotlib.pyplot as plt\n",
    "f = lambda x: x**3 - 6*x**2 - 4*x + 24\n",
    "x = np.linspace(-3.0, 8.0, 100)\n",
    "plt.plot(x, f(x), x, np.zeros_like(x)) #la prof aveva messo np.ones_like(x)"
   ]
  },
  {
   "cell_type": "code",
   "execution_count": 11,
   "id": "2ef87d51-69f1-46fb-9bc3-f14270f7ba75",
   "metadata": {},
   "outputs": [
    {
     "name": "stdout",
     "output_type": "stream",
     "text": [
      "Soluzione di bisezione -2.0000000000002274 Numero di iterazioni del nostro algoritmo --> 42\n"
     ]
    }
   ],
   "source": [
    "a1 = -3.0\n",
    "b1 = 0.0\n",
    "tolx = 1e-12\n",
    "xk, it, v_xk = metodo_bisezione(f, a1, b1, tolx)\n",
    "print(\"Soluzione di bisezione\", xk, \"Numero di iterazioni del nostro algoritmo -->\", it)"
   ]
  },
  {
   "cell_type": "code",
   "execution_count": 14,
   "id": "ee683774-8fd9-453c-9fbd-cf2ba74aa434",
   "metadata": {},
   "outputs": [
    {
     "name": "stdout",
     "output_type": "stream",
     "text": [
      "Errore assoluto [5.00000000e-01 2.50000000e-01 1.25000000e-01 6.25000000e-02\n",
      " 3.12500000e-02 1.56250000e-02 7.81250000e-03 3.90625000e-03\n",
      " 1.95312500e-03 9.76562500e-04 4.88281250e-04 2.44140625e-04\n",
      " 1.22070312e-04 6.10351562e-05 3.05175781e-05 1.52587891e-05\n",
      " 7.62939453e-06 3.81469727e-06 1.90734863e-06 9.53674316e-07\n",
      " 4.76837158e-07 2.38418579e-07 1.19209290e-07 5.96046448e-08\n",
      " 2.98023224e-08 1.49011612e-08 7.45058060e-09 3.72529030e-09\n",
      " 1.86264515e-09 9.31322575e-10 4.65661287e-10 2.32830644e-10\n",
      " 1.16415322e-10 5.82076609e-11 2.91038305e-11 1.45519152e-11\n",
      " 7.27595761e-12 3.63797881e-12 1.81898940e-12 9.09494702e-13\n",
      " 4.54747351e-13 2.27373675e-13]\n",
      "Errore assoluto [9.56521739e-01 3.44079950e-01 1.07137672e-01 3.16678766e-02\n",
      " 9.21026687e-03 2.66594705e-03 7.70597905e-04 2.22653540e-04\n",
      " 6.43251696e-05 1.85830802e-05 5.36846653e-06 1.55089209e-06\n",
      " 4.48035641e-07 1.29432531e-07 3.73916211e-08 1.08020242e-08\n",
      " 3.12058468e-09 9.01502206e-10 2.60433897e-10 7.52364837e-11\n",
      " 2.17352802e-11 6.27919938e-12 1.81410442e-12 5.24025268e-13]\n"
     ]
    },
    {
     "data": {
      "image/png": "[encoded data removed]",
      "text/plain": [
       "<Figure size 640x480 with 1 Axes>"
      ]
     },
     "metadata": {},
     "output_type": "display_data"
    }
   ],
   "source": [
    "alpha = -2.0 #soluzione esatta dello zero nell'intervallo dato \n",
    "ek_bis = abs(np.array(v_xk) - alpha) #devo fare la conversione visto che v_xk è una lista e quindi un'operazione così darebbe errore\n",
    "tolf = 1e-12\n",
    "maxit = 100\n",
    "xk_falsi, it_falsi, v_xk_falsi = metodo_regula_falsi(f, a1, b1, tolx, tolf, maxit)\n",
    "ek_falsi = np.abs(np.array(v_xk_falsi) - alpha)\n",
    "plt.semilogy(np.arange(it), ek_bis, \"ro\" )\n",
    "plt.semilogy(np.arange(it_falsi), ek_falsi, \"bs\" )\n",
    "print(\"Errore assoluto\", ek_bis)\n",
    "print(\"Errore assoluto\", ek_falsi)\n",
    "\n",
    "#ci vogliono tre iterazioni per trovare una cifra decimale in più"
   ]
  },
  {
   "cell_type": "code",
   "execution_count": 16,
   "id": "12266d82-5161-42bc-aa9c-9ed6e132bfd4",
   "metadata": {},
   "outputs": [
    {
     "name": "stdout",
     "output_type": "stream",
     "text": [
      "Soluzione di bisezione 2.0 Numero di iterazioni del nostro algoritmo --> 1\n"
     ]
    }
   ],
   "source": [
    "a2 = 0.0\n",
    "b2 = 4.0\n",
    "tolx = 1e-12\n",
    "xk, it, v_xk = metodo_bisezione(f, a2, b2, tolx)\n",
    "print(\"Soluzione di bisezione\", xk, \"Numero di iterazioni del nostro algoritmo -->\", it)"
   ]
  },
  {
   "cell_type": "code",
   "execution_count": 18,
   "id": "e804481b-8a47-457c-a5f0-00dd671969b0",
   "metadata": {},
   "outputs": [
    {
     "data": {
      "text/plain": [
       "[<matplotlib.lines.Line2D at 0x23c40fafda0>]"
      ]
     },
     "execution_count": 18,
     "metadata": {},
     "output_type": "execute_result"
    },
    {
     "name": "stderr",
     "output_type": "stream",
     "text": [
      "C:\\Users\\dedde\\anaconda3\\Lib\\site-packages\\IPython\\core\\events.py:82: UserWarning: Data has no positive values, and therefore cannot be log-scaled.\n",
      "  func(*args, **kwargs)\n"
     ]
    },
    {
     "data": {
      "image/png": "[encoded data removed]",
      "text/plain": [
       "<Figure size 640x480 with 1 Axes>"
      ]
     },
     "metadata": {},
     "output_type": "display_data"
    }
   ],
   "source": [
    "alpha = 2.0 #soluzione esatta dello zero nell'intervallo dato \n",
    "ek = abs(np.array(v_xk) - alpha) #devo fare la conversione visto che v_xk è una lista e quindi un'operazione così darebbe errore\n",
    "plt.semilogy(np.arange(it), ek, \"ro\") \n",
    "#non si vede nulla visto che per la sola iterazione trova subito il risultato corretto -> np.array(v_xk)-alpha = 0"
   ]
  },
  {
   "cell_type": "code",
   "execution_count": 20,
   "id": "e26c57d5-ab7b-498b-a62c-614cef813e8c",
   "metadata": {},
   "outputs": [
    {
     "name": "stdout",
     "output_type": "stream",
     "text": [
      "Soluzione di bisezione 6.0 Numero di iterazioni del nostro algoritmo --> 1\n"
     ]
    }
   ],
   "source": [
    "a3 = 4.0\n",
    "b3 = 8.0\n",
    "tolx = 1e-12\n",
    "xk, it, v_xk = metodo_bisezione(f, a3, b3, tolx)\n",
    "print(\"Soluzione di bisezione\", xk, \"Numero di iterazioni del nostro algoritmo -->\", it)"
   ]
  },
  {
   "cell_type": "code",
   "execution_count": 22,
   "id": "0ffbe342-14ab-4cab-81e2-5cc15bb07392",
   "metadata": {},
   "outputs": [
    {
     "data": {
      "text/plain": [
       "[<matplotlib.lines.Line2D at 0x23c42198a10>]"
      ]
     },
     "execution_count": 22,
     "metadata": {},
     "output_type": "execute_result"
    },
    {
     "data": {
      "image/png": "[encoded data removed]",
      "text/plain": [
       "<Figure size 640x480 with 1 Axes>"
      ]
     },
     "metadata": {},
     "output_type": "display_data"
    }
   ],
   "source": [
    "alpha = 6.0 #soluzione esatta dello zero nell'intervallo dato \n",
    "ek = abs(np.array(v_xk) - alpha) #devo fare la conversione visto che v_xk è una lista e quindi un'operazione così darebbe errore\n",
    "plt.semilogy(np.arange(it), ek, \"ro\") \n",
    "#non si vede nulla visto che per la sola iterazione trova subito il risultato corretto -> np.array(v_xk)-alpha = 0"
   ]
  },
  {
   "cell_type": "code",
   "execution_count": 24,
   "id": "d82e275f-5ee4-45ba-8b4c-aabcb7b75d38",
   "metadata": {},
   "outputs": [
    {
     "data": {
      "text/plain": [
       "[<matplotlib.lines.Line2D at 0x23c40df8aa0>,\n",
       " <matplotlib.lines.Line2D at 0x23c40df9fa0>]"
      ]
     },
     "execution_count": 24,
     "metadata": {},
     "output_type": "execute_result"
    },
    {
     "data": {
      "image/png": "[encoded data removed]",
      "text/plain": [
       "<Figure size 640x480 with 1 Axes>"
      ]
     },
     "metadata": {},
     "output_type": "display_data"
    }
   ],
   "source": [
    "f1 = lambda x: np.exp(-x) - (x + 1) \n",
    "x = np.linspace(-1.0, 2.0, 100)\n",
    "plt.plot(x, f1(x), x, np.zeros_like(x)) #la prof aveva messo np.ones_like(x)"
   ]
  },
  {
   "cell_type": "code",
   "execution_count": 26,
   "id": "c8687f08-b3d4-4f59-be5f-f1716491305e",
   "metadata": {},
   "outputs": [
    {
     "name": "stdout",
     "output_type": "stream",
     "text": [
      "Soluzione di bisezione 2.8421709430404007e-13 Numero di iterazioni del nostro algoritmo --> 44\n"
     ]
    }
   ],
   "source": [
    "a4 = -1.0\n",
    "b4 = 2.0\n",
    "tolx = 1e-12\n",
    "xk, it, v_xk = metodo_bisezione(f1, a4, b3, tolx)\n",
    "print(\"Soluzione di bisezione\", xk, \"Numero di iterazioni del nostro algoritmo -->\", it)"
   ]
  },
  {
   "cell_type": "markdown",
   "id": "d9787fdd-725e-4803-b148-8a137e4335c8",
   "metadata": {},
   "source": [
    "## Esercizio 2\n",
    "\n",
    "- Utilizzare il metodo di bisezione per calcolare la radice quadrata di 2. Analizzate i risultati."
   ]
  },
  {
   "cell_type": "code",
   "execution_count": 85,
   "id": "4131cfe2-0043-4d5b-8f83-6e26cf035122",
   "metadata": {},
   "outputs": [
    {
     "name": "stdout",
     "output_type": "stream",
     "text": [
      "1.4142135623724243 40\n"
     ]
    }
   ],
   "source": [
    "f2 = lambda x: x**2 - 2\n",
    "a5 = 1.0\n",
    "b5 = 2.0\n",
    "xk2, it2, v_xk2 = metodo_bisezione(f2, a5, b5, tolx)\n",
    "print(xk2, it2)"
   ]
  },
  {
   "cell_type": "code",
   "execution_count": 88,
   "id": "c2980bbe-0b4d-4fca-8e03-2644dc8866e1",
   "metadata": {},
   "outputs": [
    {
     "name": "stdout",
     "output_type": "stream",
     "text": [
      "1.0000000000002274 42\n"
     ]
    }
   ],
   "source": [
    "g = lambda x: math.log2(x + 3) - 2\n",
    "a6 = -1\n",
    "b6 = 2\n",
    "xk3, it3, v_xk3 = metodo_bisezione(g, a6, b6, tolx)\n",
    "print(xk3, it3)"
   ]
  },
  {
   "cell_type": "markdown",
   "id": "b83adaa1-7bed-4e12-9c11-4b0cd149a541",
   "metadata": {},
   "source": [
    "## Esercizio 3\n",
    "Scrivere una funzione numpy che calcola la norma infinito e la norma 1 di un vettore ed una matrice  e testarla su vettori e matrici  a propria scelta. Confrontarne i risultati con quelli ottenuti utilizzando la funzione norm di numpy.linalg\n",
    "\n",
    "(Ricorda la formula della norma infinito e della norma 1 di una matrice\n",
    "$||A||_\\infty= \\max_{j=1,n} \\sum_{i} |a_{ij}| $\n",
    "$\\quad ||A||_1= \\max_{i=1,n} \\sum_{j} |a_{ij}| $)"
   ]
  },
  {
   "cell_type": "code",
   "execution_count": 63,
   "id": "920bc050-bcd9-4afa-89c1-e8ad65103f4c",
   "metadata": {},
   "outputs": [],
   "source": [
    "import numpy.linalg as npl"
   ]
  },
  {
   "cell_type": "code",
   "execution_count": 65,
   "id": "4a1e6251-0d18-4254-beb5-30527754854d",
   "metadata": {},
   "outputs": [],
   "source": [
    "#npl.norm(matrice, tipo_norma)\n",
    "def mynorm1(B):\n",
    "    c = np.sum(np.abs(B), axis=0) #vettore con i valori assoluti delle somme delle colonne\n",
    "    n1 = np.max(c)\n",
    "    return n1"
   ]
  },
  {
   "cell_type": "code",
   "execution_count": 66,
   "id": "76050aaf-1a47-45e4-a1f5-8d0d36e97328",
   "metadata": {},
   "outputs": [
    {
     "name": "stdout",
     "output_type": "stream",
     "text": [
      "[[ 3.   7.   8.5]\n",
      " [-2.  -3.   5. ]\n",
      " [-8.  12.  13. ]]\n"
     ]
    }
   ],
   "source": [
    "A = np.array([[3.0, 7.0, 8.5],[-2, -3, 5],[-8, 12, 13]])\n",
    "print(A)"
   ]
  },
  {
   "cell_type": "code",
   "execution_count": 67,
   "id": "68829ddf-ec46-4693-b3d7-87fa03a6b97a",
   "metadata": {},
   "outputs": [
    {
     "name": "stdout",
     "output_type": "stream",
     "text": [
      "26.5\n"
     ]
    }
   ],
   "source": [
    "n1 = mynorm1(A)\n",
    "print(n1)"
   ]
  },
  {
   "cell_type": "code",
   "execution_count": 68,
   "id": "ce7dfdd5-9bd9-4d76-91b2-d315b0f07dab",
   "metadata": {},
   "outputs": [
    {
     "name": "stdout",
     "output_type": "stream",
     "text": [
      "norma in numpy linalg 26.5\n"
     ]
    }
   ],
   "source": [
    "norma1 = npl.norm(A, 1)\n",
    "print(\"norma in numpy linalg\", norma1)"
   ]
  },
  {
   "cell_type": "code",
   "execution_count": 71,
   "id": "a1109ea6-9530-49cd-b87f-b6ad7a72e509",
   "metadata": {},
   "outputs": [],
   "source": [
    "#npl.norm(matrice, tipo_norma)\n",
    "def mynormInf(B):\n",
    "    c = np.sum(np.abs(B), axis=1) #vettore con i valori assoluti delle somme delle righe\n",
    "    n_inf = np.max(c)\n",
    "    return n_inf"
   ]
  },
  {
   "cell_type": "code",
   "execution_count": 76,
   "id": "8c31f0a7-c8c7-472d-b2ae-f73b1707f1c3",
   "metadata": {},
   "outputs": [
    {
     "name": "stdout",
     "output_type": "stream",
     "text": [
      "33.0\n",
      "norma in numpy linalg 33.0\n"
     ]
    }
   ],
   "source": [
    "n_inf = mynormInf(A)\n",
    "print(n_inf)\n",
    "norma_inf = npl.norm(A, np.inf)\n",
    "print(\"norma in numpy linalg\", norma_inf)"
   ]
  },
  {
   "cell_type": "code",
   "execution_count": 80,
   "id": "6ab70873-f7ff-4851-9abc-a7060ce2db47",
   "metadata": {},
   "outputs": [],
   "source": [
    "#npl.norm(matrice, tipo_norma)\n",
    "def mynorm2(B):\n",
    "    p = np.max(npl.eigvals(B.T@B))\n",
    "    n2 = np.sqrt(p)\n",
    "    return n2"
   ]
  },
  {
   "cell_type": "code",
   "execution_count": 82,
   "id": "0b91b9ab-81e4-45a0-bbf3-efa347c4dd68",
   "metadata": {},
   "outputs": [
    {
     "name": "stdout",
     "output_type": "stream",
     "text": [
      "21.66176399564415\n",
      "norma in numpy linalg 21.66176399564415\n"
     ]
    }
   ],
   "source": [
    "n2 = mynorm2(A)\n",
    "print(n2)\n",
    "norma2 = npl.norm(A, 2)\n",
    "print(\"norma in numpy linalg\", norma2)"
   ]
  },
  {
   "cell_type": "markdown",
   "id": "1529f44f-dd62-4109-b9da-edd840811f55",
   "metadata": {},
   "source": [
    "## Esercizio 4\n",
    "Implementare una funzione che calcola la norma 2 di una  matrice facendo uso della funzione eigvals del pacchetto numpy.linalg, (np.linalg.eigvals(A)). Testarla sulla matrice A=np.array([[4,-1,6],[2,3,-3],[1,-2,9/2]])   e confrontarne i risultati con quelli ottenuti utilizzando la funzione norm di numpy.linalg"
   ]
  },
  {
   "cell_type": "code",
   "execution_count": 83,
   "id": "51cd63ee-fe65-415f-811c-90646a08b5a4",
   "metadata": {},
   "outputs": [
    {
     "name": "stdout",
     "output_type": "stream",
     "text": [
      "9.056251013341882\n",
      "norma in numpy linalg 9.056251013341878\n"
     ]
    }
   ],
   "source": [
    "A = np.array([[4, -1, 6],[2, 3, -3],[1, -2, 9/2]])\n",
    "n2 = mynorm2(A)\n",
    "print(n2)\n",
    "norma2 = npl.norm(A, 2)\n",
    "print(\"norma in numpy linalg\", norma2)"
   ]
  },
  {
   "cell_type": "code",
   "execution_count": 84,
   "id": "c0399196-d7ef-4cf3-923d-f970ef36b3e9",
   "metadata": {},
   "outputs": [
    {
     "name": "stdout",
     "output_type": "stream",
     "text": [
      "Errore relativo 3.92294082128086e-16\n"
     ]
    }
   ],
   "source": [
    "errore_rel = np.abs(n2 - norma2)/np.abs(norma2)\n",
    "print(\"Errore relativo\", errore_rel)"
   ]
  }
 ],
 "metadata": {
  "kernelspec": {
   "display_name": "Python [conda env:base] *",
   "language": "python",
   "name": "conda-base-py"
  },
  "language_info": {
   "codemirror_mode": {
    "name": "ipython",
    "version": 3
   },
   "file_extension": ".py",
   "mimetype": "text/x-python",
   "name": "python",
   "nbconvert_exporter": "python",
   "pygments_lexer": "ipython3",
   "version": "3.12.7"
  }
 },
 "nbformat": 4,
 "nbformat_minor": 5
}
