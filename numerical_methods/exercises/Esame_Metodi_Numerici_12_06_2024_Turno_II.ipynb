{
 "cells": [
  {
   "cell_type": "markdown",
   "id": "60ff1e86-85a2-45b1-9295-5d8e1897c7bc",
   "metadata": {},
   "source": [
    "## Esame Metodi Numerici  12 Giugno 2024 - Turno II Ore 12,30\n",
    "\n",
    "## Esercizio 1\n",
    "Si condiderino i due sistemi lineari:\n",
    "\n",
    "     A  x = b \n",
    "\n",
    "    A1 x1 = b1\n",
    "\n",
    "dove A, A1 sono le matrici dei coefficienti, b e b1 sono i termini noti, ed x ed x1 sono i vettori incongiti da determinare.\n",
    "I dati di questi due sistemi lineari sono contenuti nel file **testII.mat**.\n",
    "\n",
    "\n",
    "- Si implementino e si testino sui dati forniti almeno due metodi che sono adatti a risolvere sistemi lineari con le caratteristiche delle matrici dei coefficienti date in input.\n",
    "                                      **punti 8**\n",
    "- Si confrontino i risultati ottenuti e si giustifichino utilizzando  e richiamando gli aspetti teorici dei metodi implementati.\n",
    "                                      **punti 3**\n",
    "\n",
    "\n",
    "**Totale Punti 11**\n",
    "\n",
    "Per la lettura dei dati procedere nel seguente modo:\n",
    "\n",
    "``from scipy.io import loadmat``\n",
    "\n",
    "``import numpy as np``\n",
    "\n",
    "``dati = loadmat('testII')``\n",
    "\n",
    "``A=dati[\"A\"] ``\n",
    "\n",
    "``A=A.astype(float)``\n",
    "\n",
    "`` b=dati[\"b\"] ``\n",
    "\n",
    "`` b=b.astype(float)``\n",
    "\n",
    "``A1=dati[\"A1\"] ``\n",
    "\n",
    "``A1=A1.astype(float)``\n",
    "\n",
    "`` b1=dati[\"b1\"] ``\n",
    "\n",
    "`` b1=b1.astype(float)``\n"
   ]
  },
  {
   "cell_type": "code",
   "execution_count": 9,
   "id": "e513f0a7-3ac7-4eda-a64d-3c06e2deba0d",
   "metadata": {},
   "outputs": [],
   "source": [
    "from scipy.io import loadmat\n",
    "import numpy as np\n",
    "\n",
    "dati = loadmat('testII')\n",
    "A=dati[\"A\"] \n",
    "A=A.astype(float)\n",
    "b=dati[\"b\"]\n",
    "b=b.astype(float)\n",
    "A1=dati[\"A1\"] \n",
    "A1=A1.astype(float)\n",
    "b1=dati[\"b1\"]\n",
    "b1=b1.astype(float)"
   ]
  },
  {
   "cell_type": "code",
   "execution_count": 10,
   "id": "73133bd1-dc53-4850-a1b7-60beb97a67a6",
   "metadata": {},
   "outputs": [
    {
     "name": "stdout",
     "output_type": "stream",
     "text": [
      "A è densa?: False\n",
      "Dimensione A: (500, 500)\n",
      "A1 è densa?: False\n",
      "Dimensione A1: (500, 500)\n",
      "A simm? True\n",
      "A def pos? True\n",
      "A1 simm? True\n",
      "A1 def pos? True\n"
     ]
    }
   ],
   "source": [
    "sizeA = A.size\n",
    "densA = np.count_nonzero(A) / sizeA\n",
    "\n",
    "print(\"A è densa?:\", densA > 0.33)\n",
    "print(\"Dimensione A:\", A.shape)\n",
    "\n",
    "sizeA1 = A1.size\n",
    "densA1 = np.count_nonzero(A1) / sizeA1\n",
    "\n",
    "print(\"A1 è densa?:\", densA1 > 0.33)\n",
    "print(\"Dimensione A1:\", A1.shape)\n",
    "\n",
    "eigA = np.linalg.eigvals(A)\n",
    "print(\"A simm?\", np.all(A.T == A))\n",
    "print(\"A def pos?\", np.all(eigA > 0))\n",
    "\n",
    "eigA1 = np.linalg.eigvals(A1)\n",
    "print(\"A1 simm?\", np.all(A1.T == A1))\n",
    "print(\"A1 def pos?\", np.all(eigA1 > 0))\n",
    "\n",
    "# Le matrici sono sparse di dimensione 500x500, utilizzo quindi i metodi iterativi"
   ]
  },
  {
   "cell_type": "code",
   "execution_count": 12,
   "id": "10cbb3d3-c55c-4ad7-a8bb-affab7f2b883",
   "metadata": {},
   "outputs": [],
   "source": [
    "def gauss_seidel(A,b,x0,toll,it_max):\n",
    "    errore=1000\n",
    "    d=np.diag(A) \n",
    "    D=np.diag(d)\n",
    "    E=np.tril(A, -1)\n",
    "    F=np.triu(A, 1)\n",
    "    M=D + E\n",
    "    N= -F \n",
    "    T=np.linalg.inv(M)@N\n",
    "    autovalori=np.linalg.eigvals(T)\n",
    "    raggiospettrale=np.max(np.abs(autovalori))\n",
    "    print(\"raggio spettrale Gauss-Seidel \",raggiospettrale)\n",
    "    it=0\n",
    "    er_vet=[]\n",
    "    while errore >= toll and it < it_max:\n",
    "        x=np.linalg.solve(M, N@x0 + b)\n",
    "        errore=np.linalg.norm(x - x0) / np.linalg.norm(x)\n",
    "        er_vet.append(errore)\n",
    "        x0=x.copy()\n",
    "        it=it+1\n",
    "    return x,it,er_vet"
   ]
  },
  {
   "cell_type": "code",
   "execution_count": 15,
   "id": "1248e01a-ecf3-46cd-a793-d99ab76e3829",
   "metadata": {},
   "outputs": [],
   "source": [
    "def conjugate_gradient(A,b,x0,itmax,tol):\n",
    "    n,m=A.shape\n",
    "    if n!=m:\n",
    "        print(\"Matrice non quadrata\")\n",
    "        return [],[]\n",
    "    # inizializzare le variabili necessarie\n",
    "    x = x0\n",
    "    r = A@x - b\n",
    "    p = -r\n",
    "    it = 0\n",
    "    nb=np.linalg.norm(b)\n",
    "    errore=np.linalg.norm(r)/nb\n",
    "    vec_sol=[]\n",
    "    vec_sol.append(x0.copy())\n",
    "    vet_r=[]\n",
    "    vet_r.append(errore)\n",
    "    # utilizzare il metodo del gradiente coniugato per calcolare la soluzione\n",
    "    while errore >= tol and it < itmax:\n",
    "        it=it+1\n",
    "        Ap=A.dot(p)\n",
    "        alpha = -(r.T@p) / (p.T@Ap)\n",
    "        x = x + alpha * p \n",
    "        vec_sol.append(x.copy())\n",
    "        rtr_old= r.T@r\n",
    "        r= r + alpha * Ap\n",
    "        gamma= (r.T@r) / rtr_old \n",
    "        errore=np.linalg.norm(r)/nb\n",
    "        vet_r.append(errore)\n",
    "        p = -r + gamma * p\n",
    "    iterates_array = np.vstack([arr.T for arr in vec_sol])\n",
    "    return x,vet_r,iterates_array,it"
   ]
  },
  {
   "cell_type": "code",
   "execution_count": 88,
   "id": "853a719d-e193-4079-9a0e-7b2c38051163",
   "metadata": {},
   "outputs": [
    {
     "name": "stdout",
     "output_type": "stream",
     "text": [
      "100.00000000000234\n",
      "5467.440676421871\n",
      "raggio spettrale Gauss-Seidel  0.9399020442983509\n",
      "Fattore conv A CG: 0.8181818181818201\n",
      "It A gs: 365\n",
      "It A cg: 125\n",
      "raggio spettrale Gauss-Seidel  0.9993658641407411\n",
      "Fattore conv A1 CG: 0.9838023218695694\n",
      "It A1 gs: 1\n",
      "It A1 cg: 0\n"
     ]
    },
    {
     "name": "stderr",
     "output_type": "stream",
     "text": [
      "C:\\Users\\dedde\\AppData\\Local\\Temp\\ipykernel_17324\\3102484017.py:17: RuntimeWarning: invalid value encountered in scalar divide\n",
      "  errore=np.linalg.norm(x - x0) / np.linalg.norm(x)\n",
      "C:\\Users\\dedde\\AppData\\Local\\Temp\\ipykernel_17324\\3653230648.py:12: RuntimeWarning: invalid value encountered in scalar divide\n",
      "  errore=np.linalg.norm(r)/nb\n"
     ]
    }
   ],
   "source": [
    "x0 = np.zeros_like(b)\n",
    "tol = 1e-12\n",
    "itmax = 2000\n",
    "\n",
    "\n",
    "KA = np.linalg.cond(A)\n",
    "print(KA)\n",
    "print(np.linalg.norm(A)*np.linalg.norm(np.linalg.inv(A)))\n",
    "x_gs, it_gs, er_vet_gs = gauss_seidel(A, b, x0, tol, itmax)\n",
    "x_cg, er_vet_gc, xk_vet_cg, it_cg = conjugate_gradient(A, b, x0, itmax, tol)\n",
    "\n",
    "KA = np.linalg.cond(A)\n",
    "sKA = np.sqrt(KA)\n",
    "print(\"Fattore conv A CG:\", (sKA - 1) / (sKA + 1))\n",
    "\n",
    "print(\"It A gs:\", it_gs)\n",
    "print(\"It A cg:\", it_cg)\n",
    "\n",
    "x_gs1, it_gs1, er_vet_gs1 = gauss_seidel(A1, b1, x0, tol, itmax)\n",
    "x_cg1, er_vet_gc1, xk_vet_cg1, it_cg1 = conjugate_gradient(A1, b1, x0, itmax, tol)\n",
    "\n",
    "KA1 = np.linalg.cond(A1)\n",
    "sKA1 = np.sqrt(KA1)\n",
    "print(\"Fattore conv A1 CG:\", (sKA1 - 1) / (sKA1 + 1))\n",
    "\n",
    "print(\"It A1 gs:\", it_gs1)\n",
    "print(\"It A1 cg:\", it_cg1)"
   ]
  },
  {
   "cell_type": "markdown",
   "id": "7491ee34-a6a8-470e-9ee7-64e0adea9381",
   "metadata": {},
   "source": [
    "Il fattore di convergenza è il nostro indicatore della velocità di convergenza del problema, dove nel caso di Gauss Seidel è il raggio spettrale di T, ovvero della matrice di iterazione, mentre il fattore di convergenza del metodo del gradiente coniugato è (sqrt(K(A)) - 1) / (sqrt(K(A)) + 1). Poiché nel caso di Gauss Seidel il fattore di convergenza è più basso rispetto a quello del gradiente coniugato per entrambe le matrici, si può dire che il gradiente coniugato è più veloce per questo tipo di matrici. Sono entrambi molto lenti poiché più il fattore di convergenza è vicino ad 1 più il metodo è lento a convergere. Sono entrambi metodi con ordine di convergenza lineari."
   ]
  },
  {
   "cell_type": "markdown",
   "id": "3f689ff8-a214-461d-9cd9-e9edbf9e230d",
   "metadata": {},
   "source": [
    "# Esercizio 2\n",
    "\n",
    "-  Si consideri la funzione $$f(x)=2\\cdot x^4-(7/2) \\cdot x^3+(3/4) \\cdot x^2+x-1/4$$  \n",
    "\n",
    "-  Si rappresenti il grafico della funzione in [-1,2] e si determini in quanti punti la funzione si annulla.  **[punti: 1]**\n",
    "\n",
    "-  Si implementi  il metodo di Newton per il calcolo degli zeri di una funzione non lineare. **[punti: 3]**\n",
    "\n",
    "-  Si implementi il metodo di Bisezione per il calcolo degli zeri di una funzione non lineare. **[punti: 3]**\n",
    "\n",
    "-  Osservando il grafico della funzione, si identifichi,  per ogni punto in cui si annulla, un opportuno intervallo che lo contenga. Si applichi il metodo di Bisezione per determinare lo zero della funzione in tale sottointervallo.  Si dica se è possibile calcolare tutti gli zeri facendo uso del metodo di bisezione, richiamando il teorema su cui si basa il metodo di bisezione.  **[punti: 2]**\n",
    "\n",
    "-  Osservando il grafico della funzione, si identifichi,  per ogni punto in cui si annulla, un opportuno iterato iniziale in un intorno dello zero e si utilizzi  il metodo di Newton per determinare lo zero della funzione. Si calcoli l'ordine del metodo usando la funzione stima_ordine.\n",
    "   **[punti: 2]**\n",
    "\n",
    "-  Nel caso in cui si verifichi che il metodo di Newton abbia ordine 1, spiegare il perchè richiamando la teoria e modificare il metodo affinchè il suo ordine sia 2.  **[punti: 3]**\n",
    "\n",
    "  **Totale punti 14**\n",
    "\n",
    "\n",
    "\n"
   ]
  },
  {
   "cell_type": "code",
   "execution_count": 20,
   "id": "2feb55f1-5fa2-447f-a8b2-c7aad06ad633",
   "metadata": {},
   "outputs": [
    {
     "data": {
      "image/png": "[encoded data removed]",
      "text/plain": [
       "<Figure size 640x480 with 1 Axes>"
      ]
     },
     "metadata": {},
     "output_type": "display_data"
    }
   ],
   "source": [
    "import sympy as sym\n",
    "import matplotlib.pyplot as plt\n",
    "\n",
    "xs = sym.symbols('x')\n",
    "fs = 2 * xs**4 - (7 / 2) * xs**3 + (3 / 4) * xs**2 + xs - 1 / 4\n",
    "fds = sym.diff(fs, xs)\n",
    "f = sym.lambdify(xs, fs, np)\n",
    "fd = sym.lambdify(xs, fds, np)\n",
    "\n",
    "x = np.linspace(-1, 2, 100)\n",
    "\n",
    "plt.plot(x, np.zeros_like(x), 'r-', x, f(x))\n",
    "plt.show()\n",
    "\n",
    "# Dal grafico si percepisce che la funzione intersechi in 3 punti con l'asse delle x"
   ]
  },
  {
   "cell_type": "code",
   "execution_count": 21,
   "id": "d5c4143a-8233-4ed3-88a9-b0ebcd864f90",
   "metadata": {},
   "outputs": [],
   "source": [
    "def newton(fname,fpname,x0,tolx,tolf,nmax):\n",
    "    xk=[]\n",
    "    it=0\n",
    "    errorex=1+tolx\n",
    "    erroref=1+tolf\n",
    "    while errorex >= tolx and erroref >= tolf and it < nmax:\n",
    "       fx0=fname(x0)\n",
    "       if fpname(x0) == 0:\n",
    "            print(\" derivata prima nulla in x0\")\n",
    "            return None, None,None\n",
    "       d=fx0 / fpname(x0)\n",
    "       x1= x0 - d\n",
    "       fx1=fname(x1)\n",
    "       erroref=np.abs(fx1)\n",
    "       if x1!=0:\n",
    "            errore=np.abs(x0 - x1) / np.abs(x1)\n",
    "       else:\n",
    "            errore=np.abs(x0 - x1)\n",
    "       it=it+1\n",
    "       x0=x1\n",
    "       xk.append(x1)\n",
    "    if it==nmax:\n",
    "        print('Newton: raggiunto massimo numero di iterazioni \\n')\n",
    "    return x1,it,xk"
   ]
  },
  {
   "cell_type": "code",
   "execution_count": 22,
   "id": "d383c156-8db0-4c85-9add-7da8a5b1d649",
   "metadata": {},
   "outputs": [],
   "source": [
    "def newton_modificato(fname,fpname,x0,tolx,tolf,nmax,m):\n",
    "    #m è la molteplicità dello zero\n",
    "    xk=[]\n",
    "    it=0\n",
    "    errorex=1+tolx\n",
    "    erroref=1+tolf\n",
    "    while erroref >= tolf and errorex >= tolx and it < nmax:\n",
    "       fx0=fname(x0)\n",
    "       if fpname(x0) == 0:\n",
    "            print(\" derivata prima nulla in x0\")\n",
    "            return None, None,None\n",
    "       d= m * fx0 / fpname(x0)\n",
    "       x1=x0 - d\n",
    "       fx1=fname(x1)\n",
    "       erroref=np.abs(fx1)\n",
    "       if x1!=0:\n",
    "            errore=np.abs(x0 - x1) / np.abs(x1)\n",
    "       else:\n",
    "            errore=np.abs(x0 - x1)\n",
    "       it=it+1\n",
    "       x0=x1\n",
    "       xk.append(x1)\n",
    "    if it==nmax:\n",
    "        print('Newton modificato: raggiunto massimo numero di iterazioni \\n')\n",
    "    return x1,it,xk"
   ]
  },
  {
   "cell_type": "code",
   "execution_count": 23,
   "id": "79ce21ca-a8ca-47bf-8fb1-580a0d0301b3",
   "metadata": {},
   "outputs": [],
   "source": [
    "def metodo_bisezione(fname, a, b, tolx):\n",
    "    fa=fname(a)\n",
    "    fb=fname(b)\n",
    "    if fb * fa >= 0:\n",
    "        print(\"Non è possibile applicare il metodo di bisezione \\n\")\n",
    "        return None, None,None\n",
    "    it = 0\n",
    "    v_xk = []\n",
    "    while np.abs(b - a) >= tolx:\n",
    "        xk = a + (b - a) / 2\n",
    "        v_xk.append(xk)\n",
    "        it += 1\n",
    "        fxk=fname(xk)\n",
    "        if fxk==0:\n",
    "            return xk, it, v_xk\n",
    "        if fxk * fb < 0:\n",
    "            a = xk\n",
    "            fa= fxk \n",
    "        elif fxk * fa < 0:\n",
    "            b = xk\n",
    "            fb= fxk\n",
    "    return xk, it, v_xk"
   ]
  },
  {
   "cell_type": "code",
   "execution_count": 24,
   "id": "33af4f46-5ad9-4725-aced-64709731bfcd",
   "metadata": {},
   "outputs": [
    {
     "name": "stdout",
     "output_type": "stream",
     "text": [
      "Non è possibile applicare il metodo di bisezione \n",
      "\n",
      "Bisezione:\n",
      "x1: -0.5 x2: 0.25 x3: None\n"
     ]
    }
   ],
   "source": [
    "a1 = -1.0\n",
    "b1 = 0.0\n",
    "a2 = 0.0\n",
    "b2 = 0.5\n",
    "a3 = 0.5\n",
    "b3 = 1.0\n",
    "\n",
    "tolx = 1e-12\n",
    "tolf = 1e-12\n",
    "itmax = 2000\n",
    "\n",
    "x1_b, it1_b, xk1_b = metodo_bisezione(f, a1, b1, tolx)\n",
    "x2_b, it2_b, xk2_b = metodo_bisezione(f, a2, b2, tolx)\n",
    "x3_b, it3_b, xk3_b = metodo_bisezione(f, a3, b3, tolx)\n",
    "\n",
    "print(\"Bisezione:\")\n",
    "print(\"x1:\", x1_b, \"x2:\", x2_b, \"x3:\", x3_b)"
   ]
  },
  {
   "cell_type": "markdown",
   "id": "92bcefc6-f728-4898-a667-bcd7ef616be4",
   "metadata": {},
   "source": [
    "Poiché il metodo di bisezione chiede per ipotesi che la funzione sia discorde nell'intervallo selezionata, cioè f: [a, b] -> R con f(a) * f(b) < 0, nel terzo intervallo la funzione tocca x3, ma non passa sotto la funzione, risultando in f(b) = 0 e quindi non è possibile applicare il metodo di bisezione in quell'intervallo."
   ]
  },
  {
   "cell_type": "code",
   "execution_count": 26,
   "id": "cd0b6ffb-8744-40ff-a8f7-65eb7fa90a7d",
   "metadata": {},
   "outputs": [
    {
     "name": "stdout",
     "output_type": "stream",
     "text": [
      "Newton:\n",
      "x1: -0.5 x2: 0.25 x3: 1.0000003582753487\n"
     ]
    }
   ],
   "source": [
    "x0_1 = -1.0\n",
    "x0_2 = 0.2\n",
    "x0_3 = 1.25\n",
    "\n",
    "x1_n, it1_n, xk1_n = newton(f, fd, x0_1, tolx, tolf, itmax)\n",
    "x2_n, it2_n, xk2_n = newton(f, fd, x0_2, tolx, tolf, itmax)\n",
    "x3_n, it3_n, xk3_n = newton(f, fd, x0_3, tolx, tolf, itmax)\n",
    "\n",
    "print(\"Newton:\")\n",
    "print(\"x1:\", x1_n, \"x2:\", x2_n, \"x3:\", x3_n)"
   ]
  },
  {
   "cell_type": "code",
   "execution_count": 27,
   "id": "eac33bd0-f7c3-4eb2-aaf3-6b652fed8f61",
   "metadata": {},
   "outputs": [],
   "source": [
    "def stima_ordine(xk,iterazioni):\n",
    "    k=iterazioni-4\n",
    "    p=np.log(abs(xk[k+2]-xk[k+3])/abs(xk[k+1]-xk[k+2]))/np.log(abs(xk[k+1]-xk[k+2])/abs(xk[k]-xk[k+1]));\n",
    "    ordine=p\n",
    "    return ordine"
   ]
  },
  {
   "cell_type": "code",
   "execution_count": 28,
   "id": "7c8368b8-287d-42a8-a449-0a75f6fbab54",
   "metadata": {},
   "outputs": [
    {
     "name": "stdout",
     "output_type": "stream",
     "text": [
      "Ordine x1 newton: 2.000109062033738\n",
      "Ordine x2 newton: 1.9987978265301272\n",
      "Ordine x3 newton: 0.9999744959612717\n"
     ]
    }
   ],
   "source": [
    "print(\"Ordine x1 newton:\", stima_ordine(xk1_n, it1_n))\n",
    "print(\"Ordine x2 newton:\", stima_ordine(xk2_n, it2_n))\n",
    "print(\"Ordine x3 newton:\", stima_ordine(xk3_n, it3_n))"
   ]
  },
  {
   "cell_type": "markdown",
   "id": "aef8bf3d-40c9-4c61-913c-39d7bdd52d7c",
   "metadata": {},
   "source": [
    "Il metodo di Newton risulta a convergenza lineare nel caso la radice calcolata sia di molteplicità m > 1. Per risolvere il problema, nasce il metodo di Newton modificato, dove si moltiplica la molteplicità della radice m ad ogni iterato xk+1 = xk + m*f(xk)/f'(xk)."
   ]
  },
  {
   "cell_type": "code",
   "execution_count": 31,
   "id": "79733c64-3bcf-4e01-95c8-ee287b09e27e",
   "metadata": {},
   "outputs": [
    {
     "name": "stdout",
     "output_type": "stream",
     "text": [
      "Newton modificato:\n",
      "x3: 1.000000000148932\n",
      "Ordine x3 newton modificato: 1.9977638676753289\n"
     ]
    }
   ],
   "source": [
    "m = 2\n",
    "\n",
    "x3_nm, it3_nm, xk3_nm = newton_modificato(f, fd, x0_3, tolx, tolf, itmax, m)\n",
    "\n",
    "print(\"Newton modificato:\")\n",
    "print(\"x3:\", x3_nm)\n",
    "\n",
    "print(\"Ordine x3 newton modificato:\", stima_ordine(xk3_nm, it3_nm))"
   ]
  },
  {
   "cell_type": "markdown",
   "id": "2e317e55-6983-4f36-9f54-91ab25ee6e3e",
   "metadata": {},
   "source": [
    "## Domande Intelligenza Artificiale\n",
    "**NB: Ogni risposta esatta +0.5 punti, ogni risposta errata -0.5 punti. La mancanza di risposta 0 punti**"
   ]
  },
  {
   "cell_type": "markdown",
   "id": "11eacd04-c27a-44de-9d44-47c0431c9275",
   "metadata": {},
   "source": [
    "**1 Risolvere un problema mediante Machine Learning significa:**\n",
    "\n",
    " x  Fornire alla macchina i dati affinchè impari da sola a risolvere il problema\n",
    "\n",
    " - Fornire alla macchina solo dati etichettati affinchè impari da sola a risolvere il problema\n",
    "\n",
    " - Fornire alla macchina solo dati non etichettati affinchè impari da sola a risolvere il problema\n",
    "\n",
    " - Fornire alla macchina le esatte istruzioni per risolvere il problema"
   ]
  },
  {
   "cell_type": "markdown",
   "id": "52b1e385-3ea5-4137-88f0-4661d5e23745",
   "metadata": {},
   "source": [
    "**2  A cosa serve il validation set?**\n",
    "\n",
    "x  A trovare i migliori iperparametri del modello\n",
    "\n",
    "- Ad addestrare il modello\n",
    "\n",
    "-  A testare il modello\n",
    "\n",
    "-  A trovare le etichette dei dati di input"
   ]
  },
  {
   "cell_type": "markdown",
   "id": "aeccbc74-c0d5-46ca-9e99-646df20e8f84",
   "metadata": {},
   "source": [
    "**3  Cosa è un Multi-Layer Perceptron?**\n",
    "\n",
    "x  Una rete multi-livello composta da neuroni completamente connessi\n",
    "\n",
    "-  Una rete muti-livello composta da livelli convolutivi e neuroni completamente connessi\n",
    "\n",
    "-  Una rete a singolo livello composta da neuroni completamente connessi\n",
    "\n",
    "- Un neurone artificiale con un determinato input e determinati valori di uscita"
   ]
  },
  {
   "cell_type": "markdown",
   "id": "4ab0b3aa-6477-4cba-b2ce-cdb4d34ecdfb",
   "metadata": {},
   "source": [
    "**4 Il livello softmax**\n",
    "\n",
    "x Trasforma i digits della rete in probabilità\n",
    "\n",
    "- Trasforma le probabilità della rete in digits\n",
    "\n",
    "-  Normalizza i valori di input della rete\n",
    "\n",
    "-  È indispensabile nel task di regressione"
   ]
  },
  {
   "cell_type": "markdown",
   "id": "0e870471-00c9-44d6-8668-b173ca092cfb",
   "metadata": {},
   "source": [
    "**5 In cosa consiste il task di regressione?**\n",
    "\n",
    "x Nel predire un valore continuo in output\n",
    "\n",
    "· Nel predire una classe in output\n",
    "\n",
    "· Nel predire un gruppo di appartenenza del dato di input\n",
    "\n",
    "· Nel predire una categoria in output"
   ]
  },
  {
   "cell_type": "markdown",
   "id": "1466859c-cbac-432f-a9f5-f175cfda1516",
   "metadata": {},
   "source": [
    "## Domande Aperte"
   ]
  },
  {
   "cell_type": "markdown",
   "id": "adf5621b-a9f0-473f-b7f3-316f78e317d1",
   "metadata": {},
   "source": [
    "**6. ** Forward e backward Propagation per l'allenamento di una rete neurale** [punti 1.5]\n",
    "\n",
    "**7 Metodo di ottimizzazione del gradient descent con momento**. Motivazioni e formula di aggiornamento dei pesi e commenti. [punti 3]"
   ]
  },
  {
   "cell_type": "code",
   "execution_count": null,
   "id": "58a12c0c-fac5-4727-a892-5c09895895b0",
   "metadata": {},
   "outputs": [],
   "source": [
    "** "
   ]
  }
 ],
 "metadata": {
  "kernelspec": {
   "display_name": "Python [conda env:base] *",
   "language": "python",
   "name": "conda-base-py"
  },
  "language_info": {
   "codemirror_mode": {
    "name": "ipython",
    "version": 3
   },
   "file_extension": ".py",
   "mimetype": "text/x-python",
   "name": "python",
   "nbconvert_exporter": "python",
   "pygments_lexer": "ipython3",
   "version": "3.12.7"
  }
 },
 "nbformat": 4,
 "nbformat_minor": 5
}
