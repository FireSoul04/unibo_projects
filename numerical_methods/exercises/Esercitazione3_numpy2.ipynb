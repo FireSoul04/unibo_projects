{
 "cells": [
  {
   "cell_type": "markdown",
   "id": "2f16cd51-b728-47c0-b39e-f22777b738f3",
   "metadata": {},
   "source": [
    "# Esercitazione 4 Marzo 2025"
   ]
  },
  {
   "cell_type": "markdown",
   "id": "cea7be83-908f-4132-b3df-6eb9633855a9",
   "metadata": {},
   "source": [
    "## Esercizio 1\n",
    "- Costruire due array numpy-array 2d di dimensione 5000x5000 i cui valori sono campionati da una distribuzione gaussiana con media 0 e varianza 1.\n",
    "- Effetuare la somma tra le due matrici con due metodi:\n",
    "\n",
    "        -  utilizzando le operazioni vettoriali \n",
    "        -  considerando due cicli espliciti annidati, su righe e colonne\n",
    "- Confrontare le prestazioni in termini di tempo di esecuzione.\n",
    "        \n"
   ]
  },
  {
   "cell_type": "code",
   "execution_count": 460,
   "id": "30932b0b-12a3-49ae-91cc-631aa969929c",
   "metadata": {},
   "outputs": [
    {
     "name": "stdout",
     "output_type": "stream",
     "text": [
      "Numpy's sum: 0.07752752304077148\n",
      "Python's sum: 18.715664386749268\n"
     ]
    }
   ],
   "source": [
    "import numpy as np\n",
    "import time as t\n",
    "\n",
    "arr1 = np.random.randn(5000, 5000)\n",
    "arr2 = np.random.randn(5000, 5000)\n",
    "\n",
    "start = t.time()\n",
    "arr3 = arr1 + arr2\n",
    "print(\"Numpy's sum:\", t.time() - start)\n",
    "\n",
    "start = t.time()\n",
    "arr4 = np.zeros_like(arr1)\n",
    "for i in range(5000):\n",
    "    for j in range(5000):\n",
    "        arr4[i, j] = arr1[i, j] + arr2[i, j]\n",
    "print(\"Python's sum:\", t.time() - start)"
   ]
  },
  {
   "cell_type": "markdown",
   "id": "2cc104af-5376-4b18-9945-9316885a30ed",
   "metadata": {},
   "source": [
    "## Esercizio 2\n",
    "-      Costruire il numpy array  s  formato da 40 valori equidistanti in  [0,20],\n",
    "-      considerarne il reshape in un array 2d che ha 4 righe con un numero opportuno di colonne e dire se il reshape crea una vista o una copia"
   ]
  },
  {
   "cell_type": "code",
   "execution_count": 12,
   "id": "a371718b-7371-443f-a8dc-0b4d3f4f776c",
   "metadata": {},
   "outputs": [
    {
     "name": "stdout",
     "output_type": "stream",
     "text": [
      "[ 0.          0.51282051  1.02564103  1.53846154  2.05128205  2.56410256\n",
      "  3.07692308  3.58974359  4.1025641   4.61538462  5.12820513  5.64102564\n",
      "  6.15384615  6.66666667  7.17948718  7.69230769  8.20512821  8.71794872\n",
      "  9.23076923  9.74358974 10.25641026 10.76923077 11.28205128 11.79487179\n",
      " 12.30769231 12.82051282 13.33333333 13.84615385 14.35897436 14.87179487\n",
      " 15.38461538 15.8974359  16.41025641 16.92307692 17.43589744 17.94871795\n",
      " 18.46153846 18.97435897 19.48717949 20.        ]\n"
     ]
    }
   ],
   "source": [
    "s = np.linspace(0, 20, 40)\n",
    "b = s.reshape(4, -1)\n",
    "print(b.base)"
   ]
  },
  {
   "cell_type": "markdown",
   "id": "8984c411-28fa-4590-9942-3d6d5bc5c665",
   "metadata": {},
   "source": [
    "## Esercizio 3\n",
    "-     Costruire il numpy array t formato da 100 valori equidistanti in  [0,4]\n",
    "-     considerarne il reshape in un array 2d che ha 4 colonne con un numero opportuno di righe"
   ]
  },
  {
   "cell_type": "code",
   "execution_count": 13,
   "id": "0bc039bc-f67a-4245-a938-85dc2f424c0a",
   "metadata": {},
   "outputs": [
    {
     "name": "stdout",
     "output_type": "stream",
     "text": [
      "[0.         0.04040404 0.08080808 0.12121212 0.16161616 0.2020202\n",
      " 0.24242424 0.28282828 0.32323232 0.36363636 0.4040404  0.44444444\n",
      " 0.48484848 0.52525253 0.56565657 0.60606061 0.64646465 0.68686869\n",
      " 0.72727273 0.76767677 0.80808081 0.84848485 0.88888889 0.92929293\n",
      " 0.96969697 1.01010101 1.05050505 1.09090909 1.13131313 1.17171717\n",
      " 1.21212121 1.25252525 1.29292929 1.33333333 1.37373737 1.41414141\n",
      " 1.45454545 1.49494949 1.53535354 1.57575758 1.61616162 1.65656566\n",
      " 1.6969697  1.73737374 1.77777778 1.81818182 1.85858586 1.8989899\n",
      " 1.93939394 1.97979798 2.02020202 2.06060606 2.1010101  2.14141414\n",
      " 2.18181818 2.22222222 2.26262626 2.3030303  2.34343434 2.38383838\n",
      " 2.42424242 2.46464646 2.50505051 2.54545455 2.58585859 2.62626263\n",
      " 2.66666667 2.70707071 2.74747475 2.78787879 2.82828283 2.86868687\n",
      " 2.90909091 2.94949495 2.98989899 3.03030303 3.07070707 3.11111111\n",
      " 3.15151515 3.19191919 3.23232323 3.27272727 3.31313131 3.35353535\n",
      " 3.39393939 3.43434343 3.47474747 3.51515152 3.55555556 3.5959596\n",
      " 3.63636364 3.67676768 3.71717172 3.75757576 3.7979798  3.83838384\n",
      " 3.87878788 3.91919192 3.95959596 4.        ]\n"
     ]
    }
   ],
   "source": [
    "t = np.linspace(0, 4, 100)\n",
    "b = t.reshape(-1, 4)\n",
    "print(b.base)"
   ]
  },
  {
   "cell_type": "markdown",
   "id": "497ccc48-1ab8-4247-8e36-0c61e43c643c",
   "metadata": {},
   "source": [
    "## Esercizio 4\n",
    "Costruire il numpy array 1d C  di valori che variano tra 15 e 41 con step 2\n",
    "\n",
    "-     Trasformarlo in un numpy array 2d con shape(7,2) usando il metodo . resize(7,2)  che lavora in-place,  (cioè  modifica l'array esistente).  "
   ]
  },
  {
   "cell_type": "code",
   "execution_count": 14,
   "id": "be34593b-ea43-4ad9-b1e0-6e2dbb2fec65",
   "metadata": {},
   "outputs": [
    {
     "name": "stdout",
     "output_type": "stream",
     "text": [
      "[[15 17]\n",
      " [19 21]\n",
      " [23 25]\n",
      " [27 29]\n",
      " [31 33]\n",
      " [35 37]\n",
      " [39 41]]\n"
     ]
    }
   ],
   "source": [
    "c = np.arange(15, 42, 2)\n",
    "c.resize(7, 2)\n",
    "print(c)"
   ]
  },
  {
   "cell_type": "markdown",
   "id": "222a582d-184b-47b9-804b-72673a42102e",
   "metadata": {},
   "source": [
    " ## Esercizio 5\n",
    " Creare un array NumPy di 10 numeri interi casuali tra 1 e 100.\n",
    " "
   ]
  },
  {
   "cell_type": "code",
   "execution_count": 15,
   "id": "d78f996f-b49b-4e44-b8d1-4158fa7251c9",
   "metadata": {},
   "outputs": [
    {
     "name": "stdout",
     "output_type": "stream",
     "text": [
      "[86 18 84 38  5 97 96 93  6 74]\n"
     ]
    }
   ],
   "source": [
    "arr = np.random.randint(1, 101, 10)\n",
    "print(arr)"
   ]
  },
  {
   "cell_type": "markdown",
   "id": "26b0aef0-fa88-4ec5-923f-8fa9d0664044",
   "metadata": {},
   "source": [
    " ## Esercizio 6\n",
    " Eseguire uno shuffle degli elementi di un numpy-array di 30 numeri interi casuali tra 100 e 200.\n"
   ]
  },
  {
   "cell_type": "code",
   "execution_count": 17,
   "id": "76c8e4c1-caf9-4eeb-b810-9c371ea1c324",
   "metadata": {},
   "outputs": [
    {
     "name": "stdout",
     "output_type": "stream",
     "text": [
      "[193 162 189 108 120 124 154 116 150 174 141 197 145 136 179 118 122 196\n",
      " 107 148 134 162 156 167 122 156 122 200 134 122]\n"
     ]
    }
   ],
   "source": [
    "arr = np.random.randint(100, 201, 30)\n",
    "np.random.shuffle(arr)\n",
    "print(arr)"
   ]
  },
  {
   "cell_type": "markdown",
   "id": "9e1c800f-6ae8-41cc-94c0-c36445e2ea55",
   "metadata": {},
   "source": [
    "  ## Esercizio 7\n",
    " Creare una permutazione casuale degli elementi di un numpy-array di 20 valori campionati da una distribuzione  gaussiana con media zero e varianza 1, senza modificarlo."
   ]
  },
  {
   "cell_type": "code",
   "execution_count": 18,
   "id": "95ded435-88a9-4324-bf0f-c9ac250eb949",
   "metadata": {},
   "outputs": [
    {
     "name": "stdout",
     "output_type": "stream",
     "text": [
      "[-3.76636572e-01 -4.10300399e-01  4.37374761e-01 -1.39029360e-01\n",
      " -1.31198544e+00  6.02271825e-01 -7.83354249e-01 -8.96357861e-02\n",
      " -4.10567615e-01  2.31544402e-01 -1.00047555e+00 -1.87631309e-01\n",
      " -5.69938501e-01  1.73545430e+00 -6.76232183e-04 -1.70982718e+00\n",
      "  1.34313502e+00  9.86620427e-01  1.29848392e-02  8.38827726e-01]\n"
     ]
    }
   ],
   "source": [
    "arr = np.random.randn(20)\n",
    "arr = np.random.permutation(arr)\n",
    "print(arr)"
   ]
  },
  {
   "cell_type": "markdown",
   "id": "14fa94ab-ffd5-425a-8a18-f1b6d53bc87b",
   "metadata": {},
   "source": [
    " ## Esercizio 8\n",
    "-     Scrivere il numpy  array 2d, A, [[10,11,12],[13,14,15],[16,17,18]] \n",
    "-     trasformarlo in un numpy array 1d usando il metodo .ravel()  \n",
    "-     Si tratta di una copia o di una vista?"
   ]
  },
  {
   "cell_type": "code",
   "execution_count": 43,
   "id": "88c4143f-0a1f-4f04-8f03-ce06ef66fbeb",
   "metadata": {},
   "outputs": [
    {
     "name": "stdout",
     "output_type": "stream",
     "text": [
      "[10 11 12 13 14 15 16 17 18]\n",
      "[10 11 12 13 14 15 16 17 18]\n"
     ]
    }
   ],
   "source": [
    "a = np.array(range(10, 19)).reshape(3, 3)\n",
    "b = a.ravel()\n",
    "print(b)\n",
    "print(b.base)"
   ]
  },
  {
   "cell_type": "markdown",
   "id": "8cef420c-3ee7-487a-b872-83c1460e11fe",
   "metadata": {},
   "source": [
    "## Esercizio 9\n",
    "-     Scrivere il numpy  array 2d, A, [[10,11,12],[13,14,15],[16,17,18]] \n",
    "-     trasformarlo in un numpy array 1d usando il metodo  .flatten().\n",
    "-     Si tratta di una copia o di una vista?"
   ]
  },
  {
   "cell_type": "code",
   "execution_count": 42,
   "id": "8f951f80-eca6-41ac-abb6-72f24efa8ccb",
   "metadata": {},
   "outputs": [
    {
     "name": "stdout",
     "output_type": "stream",
     "text": [
      "[10 11 12 13 14 15 16 17 18]\n",
      "None\n"
     ]
    }
   ],
   "source": [
    "a = np.array(range(10, 19)).reshape(3, 3)\n",
    "b = a.flatten()\n",
    "print(b)\n",
    "print(b.base)"
   ]
  },
  {
   "cell_type": "markdown",
   "id": "a0b881a4-1836-4e2a-83aa-e03f4398feb5",
   "metadata": {},
   "source": [
    " ## Esercizio 10\n",
    "-     creare i due  numpy array 1d\n",
    "        f1= [ 0  1  2  3  4  5  6  7  8  9 10 11 12 13 14 15]  \n",
    "        f2= [16 17 18 19 20 21 22 23 24 25 26 27 28 29 30 31]\n",
    "-     \"vederli\" come matrici  4x4 ed effettuarne il prodotto scalare, memorizzando in f3 la matrice che nasce dal loro prodotto."
   ]
  },
  {
   "cell_type": "code",
   "execution_count": 29,
   "id": "c7e42585-5b33-48a0-9596-f7f941ade60d",
   "metadata": {},
   "outputs": [
    {
     "name": "stdout",
     "output_type": "stream",
     "text": [
      "[[ 152  158  164  170]\n",
      " [ 504  526  548  570]\n",
      " [ 856  894  932  970]\n",
      " [1208 1262 1316 1370]]\n"
     ]
    }
   ],
   "source": [
    "f1 = np.array(range(16))\n",
    "f2 = np.array(range(16, 32))\n",
    "a = f1.view()\n",
    "b = f2.view()\n",
    "a.resize(4, 4)\n",
    "b.resize(4, 4)\n",
    "f3 = a @ b\n",
    "\n",
    "print(f3)"
   ]
  },
  {
   "cell_type": "markdown",
   "id": "681aca16-584c-451f-b9da-cba4b11faa5e",
   "metadata": {},
   "source": [
    "## Esercizio 11\n",
    "Costruire:\n",
    " -     Numpy Array A di shape (2,10) : array di valori random campionati da una distribuzione gaussiana con media 0 e varianza 1.\n",
    " -     Numpy array 1D B di shape (20,) formato dagli interi da 0 a 19.\n",
    " \n",
    " \"Vedere\" A come un array 1D di 20 elementi ed effettuare la somma di A+B\n"
   ]
  },
  {
   "cell_type": "code",
   "execution_count": 41,
   "id": "05b0cf38-519a-49e2-83bf-835153813d68",
   "metadata": {},
   "outputs": [
    {
     "name": "stdout",
     "output_type": "stream",
     "text": [
      "[ 0.65477449  1.15263871  2.35041857  3.84731846  4.74708757  5.17475554\n",
      "  6.40969777  7.11717226  8.37875026  9.48764688 10.71963199 11.34255193\n",
      " 12.17139282 13.71484712 14.76908991 15.1318351  16.1259768  17.10369479\n",
      " 18.01824266 19.23566042]\n",
      "None\n"
     ]
    }
   ],
   "source": [
    "a = np.random.rand(20).reshape(2, 10)\n",
    "b = np.array(range(20))\n",
    "a = a.ravel() + b\n",
    "\n",
    "print(a)\n",
    "print(a.base)"
   ]
  },
  {
   "cell_type": "markdown",
   "id": "020920a7-7554-4815-b6a6-c9579d0b566c",
   "metadata": {},
   "source": [
    "## Esercizio 12\n",
    "-     Costruire f, un numpy array 1D , di shape (10,) costituito da 10 valori equidistanti nell'intervallo [0,1]\n",
    "-     aumentarne la dimensionalità, in maniera tale che abbia shape (10,1)"
   ]
  },
  {
   "cell_type": "code",
   "execution_count": 36,
   "id": "3136a77e-f4a5-4a12-adbd-102c13ea9f8d",
   "metadata": {},
   "outputs": [
    {
     "name": "stdout",
     "output_type": "stream",
     "text": [
      "[[0.        ]\n",
      " [0.11111111]\n",
      " [0.22222222]\n",
      " [0.33333333]\n",
      " [0.44444444]\n",
      " [0.55555556]\n",
      " [0.66666667]\n",
      " [0.77777778]\n",
      " [0.88888889]\n",
      " [1.        ]]\n"
     ]
    }
   ],
   "source": [
    "f = np.linspace(0, 1, 10).reshape(10, 1)\n",
    "\n",
    "print(f)"
   ]
  },
  {
   "cell_type": "markdown",
   "id": "610f98b2-3f2b-46e0-8a51-ac682a7b46a3",
   "metadata": {},
   "source": [
    "## Esercizio 13\n",
    "-     Costruire i seguenti numpy array\n",
    "      a= np.array([14,13,12,11])\n",
    "      b=np.array([[4,3,2,1],[9,10,11,12]])\n",
    "\n",
    "  Costruire il numpy array che si ottiene concatenando a e b per righe"
   ]
  },
  {
   "cell_type": "code",
   "execution_count": 57,
   "id": "4c3fc5ef-1af5-4ee7-b20d-5f9c634a99d9",
   "metadata": {},
   "outputs": [
    {
     "name": "stdout",
     "output_type": "stream",
     "text": [
      "[[14 13 12 11]\n",
      " [ 4  3  2  1]\n",
      " [ 9 10 11 12]]\n"
     ]
    }
   ],
   "source": [
    "a = np.array([14,13,12,11]).reshape(1, 4)\n",
    "b = np.array([[4,3,2,1],[9,10,11,12]])\n",
    "arr = np.concatenate((a, b), axis=0)\n",
    "\n",
    "print(arr)"
   ]
  },
  {
   "cell_type": "markdown",
   "id": "51740675-7696-4803-9506-e593431e8a27",
   "metadata": {},
   "source": [
    "## Esercizio 14\n",
    "-     Costruire i seguenti numpy array\n",
    "      a= np.array([14,13,12,11])\n",
    "      b=np.array([[4,3,2,1],[9,10,11,12],[4,3,2,1],[9,10,11,12]])\n",
    "\n",
    "-\n",
    "- Costruire il numpy array che si ottiene concatenando a e b per colonne"
   ]
  },
  {
   "cell_type": "code",
   "execution_count": 18,
   "id": "5b89bf51-d4a7-47df-87f0-4f5d83291406",
   "metadata": {},
   "outputs": [
    {
     "name": "stdout",
     "output_type": "stream",
     "text": [
      "[[14  4  3  2  1]\n",
      " [13  9 10 11 12]\n",
      " [12  4  3  2  1]\n",
      " [11  9 10 11 12]]\n"
     ]
    }
   ],
   "source": [
    "a = np.array([14,13,12,11]).reshape(4, 1)\n",
    "b = np.array([[4,3,2,1],[9,10,11,12],[4,3,2,1],[9,10,11,12]])\n",
    "arr = np.concatenate((a, b), axis=1)\n",
    "\n",
    "print(arr)"
   ]
  },
  {
   "cell_type": "markdown",
   "id": "0cd10bd7-8d9e-4e99-827e-83cf83393782",
   "metadata": {},
   "source": [
    "## Esercizio 15\n",
    "Costruire, facendo uso di una sola riga di codice, la matrice A di ordine 10, che ha gli unici elementi diversi da zero, sulla diagonale principale, sulla codiagonale inferiore e sulla codiagonale superiore:\n",
    "\n",
    "elementi diagonali $A_{i,i}=10 \\quad$, i=1,20\n",
    "\n",
    "elementi nella codiagonale inferiore $A_{i-1,i}=-12, \\quad$ i=2,..,20, \n",
    "\n",
    "elementi nella codiagonale superiore $A_{i,i+1}=-2 \\quad$ i=1,..,19"
   ]
  },
  {
   "cell_type": "code",
   "execution_count": 30,
   "id": "f662ae58-4fbb-4c39-a778-71771f50c6c4",
   "metadata": {},
   "outputs": [
    {
     "name": "stdout",
     "output_type": "stream",
     "text": [
      "[[ 10.  -2.   0.   0.   0.   0.   0.   0.   0.   0.   0.   0.   0.   0.\n",
      "    0.   0.   0.   0.   0.   0.]\n",
      " [-12.  10.  -2.   0.   0.   0.   0.   0.   0.   0.   0.   0.   0.   0.\n",
      "    0.   0.   0.   0.   0.   0.]\n",
      " [  0. -12.  10.  -2.   0.   0.   0.   0.   0.   0.   0.   0.   0.   0.\n",
      "    0.   0.   0.   0.   0.   0.]\n",
      " [  0.   0. -12.  10.  -2.   0.   0.   0.   0.   0.   0.   0.   0.   0.\n",
      "    0.   0.   0.   0.   0.   0.]\n",
      " [  0.   0.   0. -12.  10.  -2.   0.   0.   0.   0.   0.   0.   0.   0.\n",
      "    0.   0.   0.   0.   0.   0.]\n",
      " [  0.   0.   0.   0. -12.  10.  -2.   0.   0.   0.   0.   0.   0.   0.\n",
      "    0.   0.   0.   0.   0.   0.]\n",
      " [  0.   0.   0.   0.   0. -12.  10.  -2.   0.   0.   0.   0.   0.   0.\n",
      "    0.   0.   0.   0.   0.   0.]\n",
      " [  0.   0.   0.   0.   0.   0. -12.  10.  -2.   0.   0.   0.   0.   0.\n",
      "    0.   0.   0.   0.   0.   0.]\n",
      " [  0.   0.   0.   0.   0.   0.   0. -12.  10.  -2.   0.   0.   0.   0.\n",
      "    0.   0.   0.   0.   0.   0.]\n",
      " [  0.   0.   0.   0.   0.   0.   0.   0. -12.  10.  -2.   0.   0.   0.\n",
      "    0.   0.   0.   0.   0.   0.]\n",
      " [  0.   0.   0.   0.   0.   0.   0.   0.   0. -12.  10.  -2.   0.   0.\n",
      "    0.   0.   0.   0.   0.   0.]\n",
      " [  0.   0.   0.   0.   0.   0.   0.   0.   0.   0. -12.  10.  -2.   0.\n",
      "    0.   0.   0.   0.   0.   0.]\n",
      " [  0.   0.   0.   0.   0.   0.   0.   0.   0.   0.   0. -12.  10.  -2.\n",
      "    0.   0.   0.   0.   0.   0.]\n",
      " [  0.   0.   0.   0.   0.   0.   0.   0.   0.   0.   0.   0. -12.  10.\n",
      "   -2.   0.   0.   0.   0.   0.]\n",
      " [  0.   0.   0.   0.   0.   0.   0.   0.   0.   0.   0.   0.   0. -12.\n",
      "   10.  -2.   0.   0.   0.   0.]\n",
      " [  0.   0.   0.   0.   0.   0.   0.   0.   0.   0.   0.   0.   0.   0.\n",
      "  -12.  10.  -2.   0.   0.   0.]\n",
      " [  0.   0.   0.   0.   0.   0.   0.   0.   0.   0.   0.   0.   0.   0.\n",
      "    0. -12.  10.  -2.   0.   0.]\n",
      " [  0.   0.   0.   0.   0.   0.   0.   0.   0.   0.   0.   0.   0.   0.\n",
      "    0.   0. -12.  10.  -2.   0.]\n",
      " [  0.   0.   0.   0.   0.   0.   0.   0.   0.   0.   0.   0.   0.   0.\n",
      "    0.   0.   0. -12.  10.  -2.]\n",
      " [  0.   0.   0.   0.   0.   0.   0.   0.   0.   0.   0.   0.   0.   0.\n",
      "    0.   0.   0.   0. -12.  10.]]\n"
     ]
    }
   ],
   "source": [
    "a = np.identity(20)*10 + np.eye(20, k=-1)*(-12) + np.eye(20, k=1)*(-2)\n",
    "\n",
    "print(a)"
   ]
  },
  {
   "cell_type": "markdown",
   "id": "53d3ad23-63ab-4719-b2d2-f2b1cb942063",
   "metadata": {},
   "source": [
    "## Esercizio 16\n",
    "Costruire la matrice identità, denominata *I*,  della stessa dimensione di *A*"
   ]
  },
  {
   "cell_type": "code",
   "execution_count": 48,
   "id": "ecf5df35-1be9-40ea-936f-97807c2acbbe",
   "metadata": {},
   "outputs": [
    {
     "name": "stdout",
     "output_type": "stream",
     "text": [
      "[[1. 0. 0. 0. 0. 0. 0. 0. 0. 0. 0. 0. 0. 0. 0. 0. 0. 0. 0. 0.]\n",
      " [0. 1. 0. 0. 0. 0. 0. 0. 0. 0. 0. 0. 0. 0. 0. 0. 0. 0. 0. 0.]\n",
      " [0. 0. 1. 0. 0. 0. 0. 0. 0. 0. 0. 0. 0. 0. 0. 0. 0. 0. 0. 0.]\n",
      " [0. 0. 0. 1. 0. 0. 0. 0. 0. 0. 0. 0. 0. 0. 0. 0. 0. 0. 0. 0.]\n",
      " [0. 0. 0. 0. 1. 0. 0. 0. 0. 0. 0. 0. 0. 0. 0. 0. 0. 0. 0. 0.]\n",
      " [0. 0. 0. 0. 0. 1. 0. 0. 0. 0. 0. 0. 0. 0. 0. 0. 0. 0. 0. 0.]\n",
      " [0. 0. 0. 0. 0. 0. 1. 0. 0. 0. 0. 0. 0. 0. 0. 0. 0. 0. 0. 0.]\n",
      " [0. 0. 0. 0. 0. 0. 0. 1. 0. 0. 0. 0. 0. 0. 0. 0. 0. 0. 0. 0.]\n",
      " [0. 0. 0. 0. 0. 0. 0. 0. 1. 0. 0. 0. 0. 0. 0. 0. 0. 0. 0. 0.]\n",
      " [0. 0. 0. 0. 0. 0. 0. 0. 0. 1. 0. 0. 0. 0. 0. 0. 0. 0. 0. 0.]\n",
      " [0. 0. 0. 0. 0. 0. 0. 0. 0. 0. 1. 0. 0. 0. 0. 0. 0. 0. 0. 0.]\n",
      " [0. 0. 0. 0. 0. 0. 0. 0. 0. 0. 0. 1. 0. 0. 0. 0. 0. 0. 0. 0.]\n",
      " [0. 0. 0. 0. 0. 0. 0. 0. 0. 0. 0. 0. 1. 0. 0. 0. 0. 0. 0. 0.]\n",
      " [0. 0. 0. 0. 0. 0. 0. 0. 0. 0. 0. 0. 0. 1. 0. 0. 0. 0. 0. 0.]\n",
      " [0. 0. 0. 0. 0. 0. 0. 0. 0. 0. 0. 0. 0. 0. 1. 0. 0. 0. 0. 0.]\n",
      " [0. 0. 0. 0. 0. 0. 0. 0. 0. 0. 0. 0. 0. 0. 0. 1. 0. 0. 0. 0.]\n",
      " [0. 0. 0. 0. 0. 0. 0. 0. 0. 0. 0. 0. 0. 0. 0. 0. 1. 0. 0. 0.]\n",
      " [0. 0. 0. 0. 0. 0. 0. 0. 0. 0. 0. 0. 0. 0. 0. 0. 0. 1. 0. 0.]\n",
      " [0. 0. 0. 0. 0. 0. 0. 0. 0. 0. 0. 0. 0. 0. 0. 0. 0. 0. 1. 0.]\n",
      " [0. 0. 0. 0. 0. 0. 0. 0. 0. 0. 0. 0. 0. 0. 0. 0. 0. 0. 0. 1.]]\n"
     ]
    }
   ],
   "source": [
    "i = np.identity(a.shape[0])\n",
    "\n",
    "print(i)"
   ]
  },
  {
   "cell_type": "markdown",
   "id": "b5257ffc-b9c9-4d22-a3b4-427b03f2e8dc",
   "metadata": {},
   "source": [
    "## Esercizio 17\n",
    "Facendo uso dell'operatore slicing *:* ,costruire la matrice AA selezionando dalla matrice A le righe che vanno dalla 2 alla 9 con step 2 e le colonne che vanno dalla 3 alla 6 con step 2.\n",
    "La matrice AA è una vista o una copia?"
   ]
  },
  {
   "cell_type": "code",
   "execution_count": 52,
   "id": "b48d7c8f-e749-44ec-8f35-afcb8d1ff343",
   "metadata": {},
   "outputs": [
    {
     "name": "stdout",
     "output_type": "stream",
     "text": [
      "[[ -2.   0.]\n",
      " [-12.  -2.]\n",
      " [  0. -12.]\n",
      " [  0.   0.]]\n",
      "[[ 10.  -2.   0.   0.   0.   0.   0.   0.   0.   0.   0.   0.   0.   0.\n",
      "    0.   0.   0.   0.   0.   0.]\n",
      " [-12.  10.  -2.   0.   0.   0.   0.   0.   0.   0.   0.   0.   0.   0.\n",
      "    0.   0.   0.   0.   0.   0.]\n",
      " [  0. -12.  10.  -2.   0.   0.   0.   0.   0.   0.   0.   0.   0.   0.\n",
      "    0.   0.   0.   0.   0.   0.]\n",
      " [  0.   0. -12.  10.  -2.   0.   0.   0.   0.   0.   0.   0.   0.   0.\n",
      "    0.   0.   0.   0.   0.   0.]\n",
      " [  0.   0.   0. -12.  10.  -2.   0.   0.   0.   0.   0.   0.   0.   0.\n",
      "    0.   0.   0.   0.   0.   0.]\n",
      " [  0.   0.   0.   0. -12.  10.  -2.   0.   0.   0.   0.   0.   0.   0.\n",
      "    0.   0.   0.   0.   0.   0.]\n",
      " [  0.   0.   0.   0.   0. -12.  10.  -2.   0.   0.   0.   0.   0.   0.\n",
      "    0.   0.   0.   0.   0.   0.]\n",
      " [  0.   0.   0.   0.   0.   0. -12.  10.  -2.   0.   0.   0.   0.   0.\n",
      "    0.   0.   0.   0.   0.   0.]\n",
      " [  0.   0.   0.   0.   0.   0.   0. -12.  10.  -2.   0.   0.   0.   0.\n",
      "    0.   0.   0.   0.   0.   0.]\n",
      " [  0.   0.   0.   0.   0.   0.   0.   0. -12.  10.  -2.   0.   0.   0.\n",
      "    0.   0.   0.   0.   0.   0.]\n",
      " [  0.   0.   0.   0.   0.   0.   0.   0.   0. -12.  10.  -2.   0.   0.\n",
      "    0.   0.   0.   0.   0.   0.]\n",
      " [  0.   0.   0.   0.   0.   0.   0.   0.   0.   0. -12.  10.  -2.   0.\n",
      "    0.   0.   0.   0.   0.   0.]\n",
      " [  0.   0.   0.   0.   0.   0.   0.   0.   0.   0.   0. -12.  10.  -2.\n",
      "    0.   0.   0.   0.   0.   0.]\n",
      " [  0.   0.   0.   0.   0.   0.   0.   0.   0.   0.   0.   0. -12.  10.\n",
      "   -2.   0.   0.   0.   0.   0.]\n",
      " [  0.   0.   0.   0.   0.   0.   0.   0.   0.   0.   0.   0.   0. -12.\n",
      "   10.  -2.   0.   0.   0.   0.]\n",
      " [  0.   0.   0.   0.   0.   0.   0.   0.   0.   0.   0.   0.   0.   0.\n",
      "  -12.  10.  -2.   0.   0.   0.]\n",
      " [  0.   0.   0.   0.   0.   0.   0.   0.   0.   0.   0.   0.   0.   0.\n",
      "    0. -12.  10.  -2.   0.   0.]\n",
      " [  0.   0.   0.   0.   0.   0.   0.   0.   0.   0.   0.   0.   0.   0.\n",
      "    0.   0. -12.  10.  -2.   0.]\n",
      " [  0.   0.   0.   0.   0.   0.   0.   0.   0.   0.   0.   0.   0.   0.\n",
      "    0.   0.   0. -12.  10.  -2.]\n",
      " [  0.   0.   0.   0.   0.   0.   0.   0.   0.   0.   0.   0.   0.   0.\n",
      "    0.   0.   0.   0. -12.  10.]]\n"
     ]
    }
   ],
   "source": [
    "aa = a[2:9:2, 3:6:2]\n",
    "\n",
    "print(aa)\n",
    "print(aa.base)"
   ]
  },
  {
   "cell_type": "markdown",
   "id": "090aeaa9-fb12-44bc-9560-5b11a0e6f503",
   "metadata": {},
   "source": [
    "## Esercizio 18\n",
    "Facendo uso dell'operatore slicing *:*, costruire la matrice A1 selezionando dalla matrice A le colonne che vanno dalla 1 alla 5 con step 2.  Trasforma la matrice A1 in una copia."
   ]
  },
  {
   "cell_type": "code",
   "execution_count": 62,
   "id": "66fdd597-8593-4147-95b1-173ed3487c75",
   "metadata": {},
   "outputs": [
    {
     "name": "stdout",
     "output_type": "stream",
     "text": [
      "[[ -2.   0.   0.]\n",
      " [ 10.   0.   0.]\n",
      " [-12.  -2.   0.]\n",
      " [  0.  10.   0.]\n",
      " [  0. -12.  -2.]\n",
      " [  0.   0.  10.]\n",
      " [  0.   0. -12.]\n",
      " [  0.   0.   0.]\n",
      " [  0.   0.   0.]\n",
      " [  0.   0.   0.]\n",
      " [  0.   0.   0.]\n",
      " [  0.   0.   0.]\n",
      " [  0.   0.   0.]\n",
      " [  0.   0.   0.]\n",
      " [  0.   0.   0.]\n",
      " [  0.   0.   0.]\n",
      " [  0.   0.   0.]\n",
      " [  0.   0.   0.]\n",
      " [  0.   0.   0.]\n",
      " [  0.   0.   0.]]\n",
      "None\n"
     ]
    }
   ],
   "source": [
    "a1 = a[:,1:6:2].copy()\n",
    "\n",
    "print(a1)\n",
    "print(a1.base)"
   ]
  },
  {
   "cell_type": "markdown",
   "id": "a5449d1f-1232-4ba0-a2d6-4d2e2d9c7a36",
   "metadata": {},
   "source": [
    "## Esercizio 19\n",
    "\n",
    "Costruisci due numpy array A e B di shape (5,5) \n",
    "   - A formata da numeri interi casuali  nell'intervallo [1,20]\n",
    "   - B formata da numeri interi casuali  nell'intervallo [1,6]\n",
    " \n",
    "  Costruisci con una sola riga di codice le seguenti matrici\n",
    "  \n",
    "  C=A+B   dove  $\\quad c_{ij}=a_{ij}+b_{ij} \\quad i=0,..,n, \\quad j=0,...,n$\n",
    "  \n",
    "  D=A-B   dove  $\\quad d_{ij}=a_{ij}-b_{ij} \\quad i=0,..,n, \\quad j=0,...,n$\n",
    "  \n",
    "  E=A*B   dove  $\\quad e_{ij}=a_{ij}*b_{ij} \\quad i=0,..,n, \\quad j=0,...,n$\n",
    "  \n",
    "  F=A/B   dove  $\\quad f_{ij}=a_{ij}/b_{ij} \\quad i=0,..,n, \\quad j=0,...,n$"
   ]
  },
  {
   "cell_type": "code",
   "execution_count": 68,
   "id": "7242ccaf-a9b9-4fdd-83b5-ebb2c68b88aa",
   "metadata": {},
   "outputs": [
    {
     "name": "stdout",
     "output_type": "stream",
     "text": [
      "[[15 12  7 12 10]\n",
      " [ 2  4  4  6 16]\n",
      " [13  3  6  4 10]\n",
      " [14 16 20  2 18]\n",
      " [20 19 11  9  7]]\n",
      "[[6 5 6 6 5]\n",
      " [4 6 1 4 6]\n",
      " [6 3 5 1 5]\n",
      " [6 6 6 4 3]\n",
      " [3 5 6 3 5]]\n",
      "[[21 17 13 18 15]\n",
      " [ 6 10  5 10 22]\n",
      " [19  6 11  5 15]\n",
      " [20 22 26  6 21]\n",
      " [23 24 17 12 12]]\n",
      "[[ 9  7  1  6  5]\n",
      " [-2 -2  3  2 10]\n",
      " [ 7  0  1  3  5]\n",
      " [ 8 10 14 -2 15]\n",
      " [17 14  5  6  2]]\n",
      "[[ 90  60  42  72  50]\n",
      " [  8  24   4  24  96]\n",
      " [ 78   9  30   4  50]\n",
      " [ 84  96 120   8  54]\n",
      " [ 60  95  66  27  35]]\n",
      "[[2.5        2.4        1.16666667 2.         2.        ]\n",
      " [0.5        0.66666667 4.         1.5        2.66666667]\n",
      " [2.16666667 1.         1.2        4.         2.        ]\n",
      " [2.33333333 2.66666667 3.33333333 0.5        6.        ]\n",
      " [6.66666667 3.8        1.83333333 3.         1.4       ]]\n"
     ]
    }
   ],
   "source": [
    "a = np.random.randint(1, 21, (5, 5))\n",
    "b = np.random.randint(1, 7, (5, 5))\n",
    "\n",
    "c = a + b\n",
    "d = a - b\n",
    "e = a*b\n",
    "f = a/b\n",
    "\n",
    "print(a)\n",
    "print(b)\n",
    "print(c)\n",
    "print(d)\n",
    "print(e)\n",
    "print(f)"
   ]
  },
  {
   "cell_type": "markdown",
   "id": "5a4ad10c-ccfa-45ce-b6ba-b7ddab44db3d",
   "metadata": {},
   "source": [
    "## Esercizio 20\n",
    "Dato array NumPy che rappresenta le vendite giornaliere di un negozio per un mese,\n",
    "vendite = np.random.randint(50, 200, 30) \n",
    "\n",
    "        Trova tutti i giorni in cui le vendite sono state superiori a 150.\n",
    "\n",
    "        Calcola la media delle vendite solo per i giorni in cui sono state superiori a 150.\n",
    "\n",
    "        Imposta le vendite a 0 per tutti i giorni in cui sono state inferiori a 100.\n"
   ]
  },
  {
   "cell_type": "code",
   "execution_count": 116,
   "id": "90d1107d-1e3b-4d8d-8cce-c199889806b3",
   "metadata": {},
   "outputs": [
    {
     "name": "stdout",
     "output_type": "stream",
     "text": [
      "vendite: [111  95  62  64  74  86 184 107 107 109 136 147  80  96  98  84 100 194\n",
      "  89 194 159  50 121  92 125 197  87 194  68 111]\n",
      "giorni con vendite > 150: [ 6 17 19 20 25 27]\n",
      "media vendite: 19.0\n",
      "vendite inf 100: [111   0   0   0   0   0 184 107 107 109 136 147   0   0   0   0 100 194\n",
      "   0 194 159   0 121   0 125 197   0 194   0 111]\n"
     ]
    }
   ],
   "source": [
    "vendite = np.random.randint(50, 200, 30)\n",
    "print(\"vendite:\",vendite)\n",
    "print(\"giorni con vendite > 150:\",np.argwhere(vendite > 150).reshape(1, -1)[0])\n",
    "print(\"media vendite:\",np.mean(np.where(vendite > 150)))\n",
    "vendite[vendite < 100] = 0\n",
    "print(\"vendite inf 100:\",vendite)"
   ]
  },
  {
   "cell_type": "markdown",
   "id": "d90da717-8cd5-425f-937e-588d6ccb045a",
   "metadata": {
    "tags": []
   },
   "source": [
    "## Esercizio 21\n",
    "Costruisci A, un numpy array 2d di shape (3,3) e b,  un numpy array 2d di shape (3,1)\n",
    "e somma b ad ogni colonna di A b\n"
   ]
  },
  {
   "cell_type": "code",
   "execution_count": 158,
   "id": "6c26adb9-e416-4f6f-805e-a88846f2cb01",
   "metadata": {},
   "outputs": [
    {
     "name": "stdout",
     "output_type": "stream",
     "text": [
      "[[2. 2. 2.]\n",
      " [2. 2. 2.]\n",
      " [2. 2. 2.]]\n"
     ]
    }
   ],
   "source": [
    "a = np.ones((3, 3))\n",
    "b = np.ones((3, 1))\n",
    "s = a + b\n",
    "print(s)"
   ]
  },
  {
   "cell_type": "markdown",
   "id": "ece2f514-aea7-4883-9b5f-8671d698c761",
   "metadata": {},
   "source": [
    "# Esercizio 22\n",
    "dato il numpy array 2d G=np.linspace(0,10,20).reshape(-1,4), scambia in G la seconda riga con la quarta riga"
   ]
  },
  {
   "cell_type": "code",
   "execution_count": 164,
   "id": "3e79764d-8014-46ef-a8fb-1d1a52bf0409",
   "metadata": {},
   "outputs": [
    {
     "name": "stdout",
     "output_type": "stream",
     "text": [
      "[[ 0.          0.52631579  1.05263158  1.57894737]\n",
      " [ 2.10526316  2.63157895  3.15789474  3.68421053]\n",
      " [ 4.21052632  4.73684211  5.26315789  5.78947368]\n",
      " [ 6.31578947  6.84210526  7.36842105  7.89473684]\n",
      " [ 8.42105263  8.94736842  9.47368421 10.        ]]\n",
      "[[ 0.          0.52631579  1.05263158  1.57894737]\n",
      " [ 6.31578947  6.84210526  7.36842105  7.89473684]\n",
      " [ 4.21052632  4.73684211  5.26315789  5.78947368]\n",
      " [ 2.10526316  2.63157895  3.15789474  3.68421053]\n",
      " [ 8.42105263  8.94736842  9.47368421 10.        ]]\n"
     ]
    }
   ],
   "source": [
    "g = np.linspace(0, 10, 20).reshape(-1, 4)\n",
    "print(g)\n",
    "g[[1, 3]] = g[[3, 1]]\n",
    "print(g)"
   ]
  },
  {
   "cell_type": "markdown",
   "id": "a2c733be-fc9f-4a0a-80e0-fa1570468da3",
   "metadata": {},
   "source": [
    "## Esercizio 23\n",
    "Visualizzare il grafico della funzione $f(x)=sin^2(x)/x$ in 200 punti equidistanti nell'intervallo $[0.1,2\\pi]$"
   ]
  },
  {
   "cell_type": "code",
   "execution_count": 461,
   "id": "b33373ba-dc53-4c11-961d-b958e9e9e07c",
   "metadata": {},
   "outputs": [
    {
     "data": {
      "image/png": "[encoded data removed]",
      "text/plain": [
       "<Figure size 640x480 with 1 Axes>"
      ]
     },
     "metadata": {},
     "output_type": "display_data"
    }
   ],
   "source": [
    "import matplotlib.pyplot as plt\n",
    "\n",
    "f = lambda x: np.sin(x)**2/x\n",
    "x = np.linspace(0.1, 2*np.pi, 200)\n",
    "\n",
    "plt.plot(x, f(x))\n",
    "plt.show()"
   ]
  },
  {
   "cell_type": "markdown",
   "id": "32f6ae8b-ccce-47f1-b196-820a96c325fd",
   "metadata": {},
   "source": [
    "## Esercizio 24\n",
    "\n",
    "Data il numpy arra2d ottenuto facendo un reshape a (4,4) di un numpy array 1d di 16 valori equidistanti nell'intervallo [0,4]\n",
    "ed un numpy array 1d di 4 valori  interi casuali nell'intervallo [10,60], costruire il prodotto scalare A per b,\n",
    "usando A@b, e vettorizzando solo il ciclo interno.\n"
   ]
  },
  {
   "cell_type": "code",
   "execution_count": 184,
   "id": "5befd873-1c1d-496a-ab9a-36e133aeec01",
   "metadata": {},
   "outputs": [
    {
     "name": "stdout",
     "output_type": "stream",
     "text": [
      "[ 81.33333333 287.2        493.06666667 698.93333333]\n"
     ]
    }
   ],
   "source": [
    "a = np.linspace(0, 4, 16).reshape(4, 4)\n",
    "b = np.random.randint(10, 61, 4)\n",
    "print(a@b)"
   ]
  },
  {
   "cell_type": "markdown",
   "id": "fb626777-c3f2-423b-a01b-c9e80032e308",
   "metadata": {},
   "source": [
    "## Esercizio 25\n",
    "Dato g un numpy array 2d, estendilo di una riga in alto ed di una riga in basso, di una colonna a sinistra ed di una colonna a destra, usa la funzione g_est= np.pad(g,(1,1),mode='reflect'). Visualizza 'g_est' e commenta cosa vedi."
   ]
  },
  {
   "cell_type": "code",
   "execution_count": 224,
   "id": "42fac44a-aa1f-4d12-ab0d-5b248d0b172c",
   "metadata": {},
   "outputs": [
    {
     "name": "stdout",
     "output_type": "stream",
     "text": [
      "[[0.08165856 0.43147761 0.79418689]\n",
      " [0.26199722 0.74090214 0.96107032]\n",
      " [0.59302553 0.32248891 0.06696399]]\n",
      "[[0.74090214 0.26199722 0.74090214 0.96107032 0.74090214]\n",
      " [0.43147761 0.08165856 0.43147761 0.79418689 0.43147761]\n",
      " [0.74090214 0.26199722 0.74090214 0.96107032 0.74090214]\n",
      " [0.32248891 0.59302553 0.32248891 0.06696399 0.32248891]\n",
      " [0.74090214 0.26199722 0.74090214 0.96107032 0.74090214]]\n"
     ]
    }
   ],
   "source": [
    "g = np.random.rand(3, 3)\n",
    "print(g)\n",
    "g_est = np.pad(g, (1,1), mode='reflect')\n",
    "print(g_est)"
   ]
  },
  {
   "cell_type": "markdown",
   "id": "958c2100-787e-438b-a162-0aa08465f476",
   "metadata": {},
   "source": [
    "## Esercizio 26\n",
    "Scrivi un programma Python che esegua l'elaborazione di un'immagine utilizzando un filtro di media. \n",
    "\n",
    "Utilizza il padding per gestire i pixel del bordo durante l'applicazione del filtro.\n",
    "\n",
    "Il programma deve seguire questi passaggi:\n",
    "\n",
    "- Carica l'immagine: Carica l'immagine 'cameraman.png' utilizzando la libreria Matplotlib.**image=plt.imread('cameraman.png')**\n",
    "- Visualizza l'immagine originale **plt.imshow(image,cmap='gray')**\n",
    "- definisce la dimensione del filtro, dim_filtro\n",
    "- Applica il padding: Applica un padding costante di dim_filtro//2 pixel a tutti i bordi dell'immagine (utilizzando il metodo di numpy **image_bordered=np.pad(image,(dim_filtro//2,dim_filtro//2),, mode='reflect')**\n",
    "- Crea il filtro di media: Crea un filtro di media di dimensioni *dim_filtroxdim_filtro*, dove tutti gli elementi sono pari a 1/(dim_filtroxdim_filtro)\n",
    "- Applica il filtro: Scorri ogni pixel dell'immagine con padding (escludendo i bordi aggiunti) e applica il filtro di media.\n",
    "\n",
    "   *Per ogni pixel, calcola la somma dei prodotti tra i pixel della sottomatrice dim_filtroxdim_filtro centrata sul pixel corrente e il filtro.*\n",
    "   \n",
    "- Crea l'immagine filtrata: Crea un nuovo array NumPy che rappresenta l'immagine filtrata, dove ogni pixel contiene il risultato dell'applicazione del filtro.\n",
    "- Visualizza l'immagine filtrata: Visualizza l'immagine filtrata utilizzando Matplotlib con la mappa di colori 'gray'.\n",
    "- Aggiungi una colorbar per visualizzare la scala dei valori dell'immagine filtrata.\n",
    "- Mostra l'immagine filtrata con Matplotlib.\n",
    "\n",
    "\n",
    "Requisiti:\n",
    "\n",
    "-  Utilizzare la libreria Matplotlib per caricare e visualizzare l'immagine.\n",
    "-  Utilizzare la libreria NumPy per la manipolazione degli array e per il padding."
   ]
  },
  {
   "cell_type": "code",
   "execution_count": 524,
   "id": "3c506802-58a1-4bf7-9275-1b9c55b92790",
   "metadata": {},
   "outputs": [
    {
     "name": "stdout",
     "output_type": "stream",
     "text": [
      "0 256\n",
      "1 256\n",
      "2 256\n",
      "3 256\n",
      "4 256\n",
      "5 256\n",
      "6 256\n",
      "7 256\n",
      "8 256\n",
      "9 256\n",
      "10 256\n",
      "11 256\n",
      "12 256\n",
      "13 256\n",
      "14 256\n",
      "15 256\n",
      "16 256\n",
      "17 256\n",
      "18 256\n",
      "19 256\n",
      "20 256\n",
      "21 256\n",
      "22 256\n",
      "23 256\n",
      "24 256\n",
      "25 256\n",
      "26 256\n",
      "27 256\n",
      "28 256\n",
      "29 256\n",
      "30 256\n",
      "31 256\n",
      "32 256\n",
      "33 256\n",
      "34 256\n",
      "35 256\n",
      "36 256\n",
      "37 256\n",
      "38 256\n",
      "39 256\n",
      "40 256\n",
      "41 256\n",
      "42 256\n",
      "43 256\n",
      "44 256\n",
      "45 256\n",
      "46 256\n",
      "47 256\n",
      "48 256\n",
      "49 256\n",
      "50 256\n",
      "51 256\n",
      "52 256\n",
      "53 256\n",
      "54 256\n",
      "55 256\n",
      "56 256\n",
      "57 256\n",
      "58 256\n",
      "59 256\n",
      "60 256\n",
      "61 256\n",
      "62 256\n",
      "63 256\n",
      "64 256\n",
      "65 256\n",
      "66 256\n",
      "67 256\n",
      "68 256\n",
      "69 256\n",
      "70 256\n",
      "71 256\n",
      "72 256\n",
      "73 256\n",
      "74 256\n",
      "75 256\n",
      "76 256\n",
      "77 256\n",
      "78 256\n",
      "79 256\n",
      "80 256\n",
      "81 256\n",
      "82 256\n",
      "83 256\n",
      "84 256\n",
      "85 256\n",
      "86 256\n",
      "87 256\n",
      "88 256\n",
      "89 256\n",
      "90 256\n",
      "91 256\n",
      "92 256\n",
      "93 256\n",
      "94 256\n",
      "95 256\n",
      "96 256\n",
      "97 256\n",
      "98 256\n",
      "99 256\n",
      "100 256\n",
      "101 256\n",
      "102 256\n",
      "103 256\n",
      "104 256\n",
      "105 256\n",
      "106 256\n",
      "107 256\n",
      "108 256\n",
      "109 256\n",
      "110 256\n",
      "111 256\n",
      "112 256\n",
      "113 256\n",
      "114 256\n",
      "115 256\n",
      "116 256\n",
      "117 256\n",
      "118 256\n",
      "119 256\n",
      "120 256\n",
      "121 256\n",
      "122 256\n",
      "123 256\n",
      "124 256\n",
      "125 256\n",
      "126 256\n",
      "127 256\n",
      "128 256\n",
      "129 256\n",
      "130 256\n",
      "131 256\n",
      "132 256\n",
      "133 256\n",
      "134 256\n",
      "135 256\n",
      "136 256\n",
      "137 256\n",
      "138 256\n",
      "139 256\n",
      "140 256\n",
      "141 256\n",
      "142 256\n",
      "143 256\n",
      "144 256\n",
      "145 256\n",
      "146 256\n",
      "147 256\n",
      "148 256\n",
      "149 256\n",
      "150 256\n",
      "151 256\n",
      "152 256\n",
      "153 256\n",
      "154 256\n",
      "155 256\n",
      "156 256\n",
      "157 256\n",
      "158 256\n",
      "159 256\n",
      "160 256\n",
      "161 256\n",
      "162 256\n",
      "163 256\n",
      "164 256\n",
      "165 256\n",
      "166 256\n",
      "167 256\n",
      "168 256\n",
      "169 256\n",
      "170 256\n",
      "171 256\n",
      "172 256\n",
      "173 256\n",
      "174 256\n",
      "175 256\n",
      "176 256\n",
      "177 256\n",
      "178 256\n",
      "179 256\n",
      "180 256\n",
      "181 256\n",
      "182 256\n",
      "183 256\n",
      "184 256\n",
      "185 256\n",
      "186 256\n",
      "187 256\n",
      "188 256\n",
      "189 256\n",
      "190 256\n",
      "191 256\n",
      "192 256\n",
      "193 256\n",
      "194 256\n",
      "195 256\n",
      "196 256\n",
      "197 256\n",
      "198 256\n",
      "199 256\n",
      "200 256\n",
      "201 256\n",
      "202 256\n",
      "203 256\n",
      "204 256\n",
      "205 256\n",
      "206 256\n",
      "207 256\n",
      "208 256\n",
      "209 256\n",
      "210 256\n",
      "211 256\n",
      "212 256\n",
      "213 256\n",
      "214 256\n",
      "215 256\n",
      "216 256\n",
      "217 256\n",
      "218 256\n",
      "219 256\n",
      "220 256\n",
      "221 256\n",
      "222 256\n",
      "223 256\n",
      "224 256\n",
      "225 256\n",
      "226 256\n",
      "227 256\n",
      "228 256\n",
      "229 256\n",
      "230 256\n",
      "231 256\n",
      "232 256\n",
      "233 256\n",
      "234 256\n",
      "235 256\n",
      "236 256\n",
      "237 256\n",
      "238 256\n",
      "239 256\n",
      "240 256\n",
      "241 256\n",
      "242 256\n",
      "243 256\n",
      "244 256\n",
      "245 256\n",
      "246 256\n",
      "247 256\n",
      "248 256\n",
      "249 256\n",
      "250 256\n"
     ]
    },
    {
     "ename": "IndexError",
     "evalue": "index 256 is out of bounds for axis 0 with size 256",
     "output_type": "error",
     "traceback": [
      "\u001b[1;31m---------------------------------------------------------------------------\u001b[0m",
      "\u001b[1;31mIndexError\u001b[0m                                Traceback (most recent call last)",
      "Cell \u001b[1;32mIn[524], line 18\u001b[0m\n\u001b[0;32m     16\u001b[0m                 out \u001b[38;5;241m+\u001b[39m\u001b[38;5;241m=\u001b[39m filtro_media[pad \u001b[38;5;241m+\u001b[39m i][pad \u001b[38;5;241m+\u001b[39m j]\u001b[38;5;241m*\u001b[39mimage_bordered[x \u001b[38;5;241m-\u001b[39m i][y \u001b[38;5;241m-\u001b[39m j]\n\u001b[0;32m     17\u001b[0m         \u001b[38;5;28mprint\u001b[39m(y\u001b[38;5;241m-\u001b[39mpad, h)\n\u001b[1;32m---> 18\u001b[0m         imout[x][y \u001b[38;5;241m-\u001b[39m \u001b[38;5;241m1\u001b[39m] \u001b[38;5;241m=\u001b[39m out\n\u001b[0;32m     20\u001b[0m plt\u001b[38;5;241m.\u001b[39mimshow(imout, cmap\u001b[38;5;241m=\u001b[39m\u001b[38;5;124m'\u001b[39m\u001b[38;5;124mgray\u001b[39m\u001b[38;5;124m'\u001b[39m)\n\u001b[0;32m     21\u001b[0m plt\u001b[38;5;241m.\u001b[39mcolorbar(orientation\u001b[38;5;241m=\u001b[39m\u001b[38;5;124m'\u001b[39m\u001b[38;5;124mhorizontal\u001b[39m\u001b[38;5;124m'\u001b[39m)\n",
      "\u001b[1;31mIndexError\u001b[0m: index 256 is out of bounds for axis 0 with size 256"
     ]
    }
   ],
   "source": [
    "image = plt.imread('cameraman.png')\n",
    "# plt.imshow(image, cmap='gray')\n",
    "dim_filtro = 14\n",
    "pad = dim_filtro//2\n",
    "image_bordered = np.pad(image, (pad, pad), mode='reflect')\n",
    "filtro_media = np.full((dim_filtro, dim_filtro), 1/(dim_filtro*dim_filtro))\n",
    "h, w = image.shape\n",
    "imout = image.copy()\n",
    "\n",
    "offset = dim_filtro%2 != 0\n",
    "for x in range(pad, h + pad):\n",
    "    for y in range(pad, w + pad):\n",
    "        out = 0\n",
    "        for i in range(-pad, pad + offset):\n",
    "            for j in range(-pad, pad + offset):\n",
    "                out += filtro_media[pad + i][pad + j]*image_bordered[x - i][y - j]\n",
    "        print(y-pad, h)\n",
    "        imout[x][y - 1] = out\n",
    "\n",
    "plt.imshow(imout, cmap='gray')\n",
    "plt.colorbar(orientation='horizontal')"
   ]
  }
 ],
 "metadata": {
  "kernelspec": {
   "display_name": "Python [conda env:base] *",
   "language": "python",
   "name": "conda-base-py"
  },
  "language_info": {
   "codemirror_mode": {
    "name": "ipython",
    "version": 3
   },
   "file_extension": ".py",
   "mimetype": "text/x-python",
   "name": "python",
   "nbconvert_exporter": "python",
   "pygments_lexer": "ipython3",
   "version": "3.12.7"
  }
 },
 "nbformat": 4,
 "nbformat_minor": 5
}
