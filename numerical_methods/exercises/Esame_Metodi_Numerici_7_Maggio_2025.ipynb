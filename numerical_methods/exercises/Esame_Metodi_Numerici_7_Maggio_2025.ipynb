{
 "cells": [
  {
   "cell_type": "markdown",
   "id": "a930e8ce-df3a-4b93-b967-4421ef43f915",
   "metadata": {},
   "source": [
    "# Esame di Metodi Numerici del 7 Maggio 2025\n",
    "\n",
    "## Ore 14"
   ]
  },
  {
   "cell_type": "markdown",
   "id": "e9915d08-a404-47ad-bd4b-9eb31057a0df",
   "metadata": {},
   "source": [
    "## Esercizio 1"
   ]
  },
  {
   "cell_type": "markdown",
   "id": "b4a0d09f-5603-49d0-9072-50675c119d71",
   "metadata": {},
   "source": [
    "\n",
    " Nel file ````test_7_maggio_2025.mat```` sono memorizzati  le matrici di due sistemi lineari:\n",
    " \n",
    "    A  x = b \n",
    "\n",
    "    A1 x1 = b1\n",
    " \n",
    " dove A, A1 sono le matrici dei coefficienti, b e b1 sono i termini noti, ed x ed x1 sono i vettori incogniti da determinare.\n",
    "\n",
    " - Verificare che per risolvere ciascuno dei due sistemi sia possibile utilizzare i due metodi di discesa (visti a lezione) ed il metodo di Gauss-Seidel, richiamando i risultati teorici opportuni.\n",
    " **Punti 1**\n",
    " - implementare i tre  algoritmi e  dire quante iterazioni richiede ciascuno di essi  per calcolare la soluzione con una toll=1e-6 e maxit=2000. Visualizzare in un grafico l'errore in scala logaritmica ad ogni iterazione per ciascuno dei due metodi. **Punti 7**\n",
    " - Analizzare l'indice di condizionamento delle due matrici e richiamare teoricamente cosa questo implica in termini della velocità di convergenza  dei tre metodi alla soluzione, richiamando i risultati teorici visti a lezione.**Punti 3**\n",
    "\n",
    "\n",
    "**Punti totali 11**\n",
    "\n",
    "Per la lettura dei dati procedere nel seguente modo:\n",
    "\n",
    "``from scipy.io import loadmat``\n",
    "\n",
    "``import numpy as np``\n",
    "\n",
    "``dati = loadmat('test_7_maggio_2025')``\n",
    "\n",
    "``A=dati[\"A\"] ``\n",
    "\n",
    "``A=A.astype(float)``\n",
    "\n",
    "`` b=dati[\"b\"] ``\n",
    "\n",
    "`` b=b.astype(float)``\n",
    "\n",
    "``A1=dati[\"A1\"] ``\n",
    "\n",
    "``A1=A1.astype(float)``\n",
    "\n",
    "`` b1=dati[\"b1\"] ``\n",
    "\n",
    "`` b1=b1.astype(float)``\n"
   ]
  },
  {
   "cell_type": "code",
   "execution_count": 8,
   "id": "adcc4420-e07b-45a7-ba32-c95a7a5167f3",
   "metadata": {},
   "outputs": [],
   "source": [
    "from scipy.io import loadmat\n",
    "from SolveTriangular import *\n",
    "import matplotlib.pyplot as plt\n",
    "import numpy as np\n",
    "\n",
    "dati = loadmat('test_7_maggio_2025')\n",
    "A = dati[\"A\"]\n",
    "A = A.astype(float)\n",
    "b = dati[\"b\"]\n",
    "b = b.astype(float)\n",
    "A1 = dati[\"A1\"]\n",
    "A1 = A1.astype(float)\n",
    "b1 = dati[\"b1\"]\n",
    "b1 = b1.astype(float)"
   ]
  },
  {
   "cell_type": "code",
   "execution_count": 9,
   "id": "dc498a4f-46d0-4373-b2f2-9fc2cc63d6c0",
   "metadata": {},
   "outputs": [
    {
     "name": "stdout",
     "output_type": "stream",
     "text": [
      "Dimensione A: 500 x 500\n",
      "Percentuale sparsità 0.076368\n"
     ]
    }
   ],
   "source": [
    "m, n = A.shape\n",
    "print(\"Dimensione A:\", m, \"x\", n)\n",
    "sp = np.count_nonzero(A) / (m * n)\n",
    "print(\"Percentuale sparsità\", sp)"
   ]
  },
  {
   "cell_type": "code",
   "execution_count": 10,
   "id": "ed662d89-4453-421e-8394-a17799e392e0",
   "metadata": {},
   "outputs": [
    {
     "name": "stdout",
     "output_type": "stream",
     "text": [
      "A Matrice simmetrica\n"
     ]
    }
   ],
   "source": [
    "flagS = A == A.T # A è simmetrica?\n",
    "\n",
    "if np.all(flagS):\n",
    "    print(\"A Matrice simmetrica\")\n",
    "else:\n",
    "    print(\"A Matrice non simmetrica\")"
   ]
  },
  {
   "cell_type": "code",
   "execution_count": 11,
   "id": "c355d270-947f-412b-a7d5-2879a67f566b",
   "metadata": {},
   "outputs": [
    {
     "name": "stdout",
     "output_type": "stream",
     "text": [
      "A Matrice definita positiva\n"
     ]
    }
   ],
   "source": [
    "eigenvalue = np.linalg.eigvals(A) # A è def pos?\n",
    "\n",
    "if np.all(eigenvalue) > 0:\n",
    "    print(\"A Matrice definita positiva\")"
   ]
  },
  {
   "cell_type": "code",
   "execution_count": 12,
   "id": "a64deb03-1967-4bbe-aa91-d2b1f252e9f4",
   "metadata": {},
   "outputs": [
    {
     "name": "stdout",
     "output_type": "stream",
     "text": [
      "Indice di condizionamento A: 500.00000000001205\n"
     ]
    }
   ],
   "source": [
    "# Indice di condizionamento\n",
    "condA = np.linalg.cond(A)\n",
    "print(\"Indice di condizionamento A:\", condA)"
   ]
  },
  {
   "cell_type": "code",
   "execution_count": 13,
   "id": "c8adce93-497d-47a5-8070-55aba20f2b95",
   "metadata": {},
   "outputs": [],
   "source": [
    "def steepestdescent(A, b, x0, itmax, tol):\n",
    "    n, m = A.shape\n",
    "    if n != m:\n",
    "        print(\"Matrice non quadrata\")\n",
    "        return [], []    \n",
    "    \n",
    "    # inizializzare le variabili necessarie\n",
    "    x = x0\n",
    "    r = A@x - b\n",
    "    p = -r\n",
    "    it = 0\n",
    "    nb = np.linalg.norm(b)\n",
    "    errore = np.linalg.norm(r) / nb\n",
    "    vec_sol = []\n",
    "    vec_sol.append(x.copy())\n",
    "    vet_r = []\n",
    "    vet_r.append(errore)\n",
    "     \n",
    "    # utilizzare il metodo del gradiente per trovare la soluzione\n",
    "    while errore >= tol and it < itmax:\n",
    "        it = it+1\n",
    "        Ap = A@p\n",
    "        alpha = -(r.T@p) / (p.T@Ap)\n",
    "        x = x + alpha * p\n",
    "         \n",
    "        vec_sol.append(x.copy())\n",
    "        r = r + alpha * Ap\n",
    "        errore = np.linalg.norm(r) / nb\n",
    "        vet_r.append(errore)\n",
    "        p = -r\n",
    "        \n",
    "    iterates_array = np.vstack([arr.T for arr in vec_sol])\n",
    "    return x, vet_r, iterates_array, it"
   ]
  },
  {
   "cell_type": "code",
   "execution_count": 14,
   "id": "5e73a2af-a763-4ddf-88fd-41935e855c2e",
   "metadata": {},
   "outputs": [],
   "source": [
    "def conjugate_gradient(A, b, x0, itmax, tol):\n",
    "    n, m = A.shape\n",
    "    if n != m:\n",
    "        print(\"Matrice non quadrata\")\n",
    "        return [], []    \n",
    "    \n",
    "    # inizializzare le variabili necessarie\n",
    "    x = x0\n",
    "    r = A@x - b\n",
    "    p = -r\n",
    "    it = 0\n",
    "    nb = np.linalg.norm(b)\n",
    "    errore = np.linalg.norm(r) / nb\n",
    "    vec_sol = []\n",
    "    vec_sol.append(x.copy())\n",
    "    vet_r = []\n",
    "    vet_r.append(errore)\n",
    "     \n",
    "    # utilizzare il metodo del gradiente per trovare la soluzione\n",
    "    while errore >= tol and it < itmax:\n",
    "        it = it+1\n",
    "        Ap = A@p\n",
    "        alpha = -(r.T@p) / (p.T@Ap)\n",
    "        x = x + alpha * p\n",
    "         \n",
    "        vec_sol.append(x.copy())\n",
    "        rtr_old = r.T@r\n",
    "        r = r + alpha * Ap\n",
    "        errore = np.linalg.norm(r) / nb\n",
    "        vet_r.append(errore)\n",
    "        gamma = r.T@r / rtr_old\n",
    "        p = -r + gamma * p\n",
    "        \n",
    "    iterates_array = np.vstack([arr.T for arr in vec_sol])\n",
    "    return x, vet_r, iterates_array, it"
   ]
  },
  {
   "cell_type": "code",
   "execution_count": 15,
   "id": "71f2c51f-cdaf-4fb5-8e91-26fd18e3fd70",
   "metadata": {},
   "outputs": [],
   "source": [
    "def gauss_seidel(A, b, x0, toll, itmax):\n",
    "    errore = 1000\n",
    "    d = np.diag(A)\n",
    "    D = np.diag(d)\n",
    "    E = np.tril(A, -1)\n",
    "    F = np.triu(A, 1)\n",
    "    M = D + E\n",
    "    N = -F \n",
    "    T = np.linalg.inv(M)@N \n",
    "    autovalori = np.linalg.eigvals(T)\n",
    "    raggiospettrale = np.max(np.abs(autovalori))\n",
    "    print(\"raggio spettrale Gauss-Seidel\", raggiospettrale)\n",
    "    it = 0\n",
    "    er_vet = []\n",
    "    while errore >= tol and it < itmax:\n",
    "        x = Lsolve(M, b - F@x0)\n",
    "        errore = np.linalg.norm(x - x0) / np.linalg.norm(x)\n",
    "        er_vet.append(errore)\n",
    "        x0 = x.copy()\n",
    "        it = it + 1\n",
    "    return x, it, er_vet"
   ]
  },
  {
   "cell_type": "code",
   "execution_count": 16,
   "id": "a1d3145f-c21a-43c6-88fd-9097fb656a44",
   "metadata": {},
   "outputs": [
    {
     "name": "stdout",
     "output_type": "stream",
     "text": [
      "Numero iterazioni 1715\n"
     ]
    },
    {
     "data": {
      "image/png": "[encoded data removed]",
      "text/plain": [
       "<Figure size 640x480 with 1 Axes>"
      ]
     },
     "metadata": {},
     "output_type": "display_data"
    },
    {
     "name": "stdout",
     "output_type": "stream",
     "text": [
      "Numero iterazioni 118\n"
     ]
    },
    {
     "data": {
      "image/png": "[encoded data removed]",
      "text/plain": [
       "<Figure size 640x480 with 1 Axes>"
      ]
     },
     "metadata": {},
     "output_type": "display_data"
    },
    {
     "name": "stdout",
     "output_type": "stream",
     "text": [
      "raggio spettrale Gauss-Seidel 0.9749675725307501\n"
     ]
    },
    {
     "ename": "ValueError",
     "evalue": "setting an array element with a sequence. The requested array has an inhomogeneous shape after 1 dimensions. The detected shape was (2,) + inhomogeneous part.",
     "output_type": "error",
     "traceback": [
      "\u001b[1;31m---------------------------------------------------------------------------\u001b[0m",
      "\u001b[1;31mValueError\u001b[0m                                Traceback (most recent call last)",
      "Cell \u001b[1;32mIn[16], line 12\u001b[0m\n\u001b[0;32m     10\u001b[0m plt\u001b[38;5;241m.\u001b[39msemilogy(\u001b[38;5;28mrange\u001b[39m(\u001b[38;5;28mlen\u001b[39m(vet_rCG)), vet_rCG)\n\u001b[0;32m     11\u001b[0m plt\u001b[38;5;241m.\u001b[39mshow()\n\u001b[1;32m---> 12\u001b[0m xGS, itGS, vet_rGS \u001b[38;5;241m=\u001b[39m gauss_seidel(A, b, x0, itmax, tol)\n\u001b[0;32m     13\u001b[0m \u001b[38;5;28mprint\u001b[39m(\u001b[38;5;124m\"\u001b[39m\u001b[38;5;124mNumero iterazioni\u001b[39m\u001b[38;5;124m\"\u001b[39m, itGS)\n\u001b[0;32m     14\u001b[0m plt\u001b[38;5;241m.\u001b[39msemilogy(\u001b[38;5;28mrange\u001b[39m(\u001b[38;5;28mlen\u001b[39m(vet_rGS)), vet_rGS)\n",
      "Cell \u001b[1;32mIn[15], line 17\u001b[0m, in \u001b[0;36mgauss_seidel\u001b[1;34m(A, b, x0, toll, itmax)\u001b[0m\n\u001b[0;32m     15\u001b[0m \u001b[38;5;28;01mwhile\u001b[39;00m errore \u001b[38;5;241m>\u001b[39m\u001b[38;5;241m=\u001b[39m tol \u001b[38;5;129;01mand\u001b[39;00m it \u001b[38;5;241m<\u001b[39m itmax:\n\u001b[0;32m     16\u001b[0m     x \u001b[38;5;241m=\u001b[39m Lsolve(M, b \u001b[38;5;241m-\u001b[39m F\u001b[38;5;129m@x0\u001b[39m)\n\u001b[1;32m---> 17\u001b[0m     errore \u001b[38;5;241m=\u001b[39m np\u001b[38;5;241m.\u001b[39mlinalg\u001b[38;5;241m.\u001b[39mnorm(x \u001b[38;5;241m-\u001b[39m x0) \u001b[38;5;241m/\u001b[39m np\u001b[38;5;241m.\u001b[39mlinalg\u001b[38;5;241m.\u001b[39mnorm(x)\n\u001b[0;32m     18\u001b[0m     er_vet\u001b[38;5;241m.\u001b[39mappend(errore)\n\u001b[0;32m     19\u001b[0m     x0 \u001b[38;5;241m=\u001b[39m x\u001b[38;5;241m.\u001b[39mcopy()\n",
      "\u001b[1;31mValueError\u001b[0m: setting an array element with a sequence. The requested array has an inhomogeneous shape after 1 dimensions. The detected shape was (2,) + inhomogeneous part."
     ]
    }
   ],
   "source": [
    "x0 = np.zeros_like(b)\n",
    "tol = 1e-6\n",
    "itmax = 2000\n",
    "x, vet_r, iterates_array, it = steepestdescent(A, b, x0, itmax, tol)\n",
    "print(\"Numero iterazioni\", it)\n",
    "plt.semilogy(range(len(vet_r)), vet_r)\n",
    "plt.show()\n",
    "xCG, vet_rCG, iterates_arrayCG, itCG = conjugate_gradient(A, b, x0, itmax, tol)\n",
    "print(\"Numero iterazioni\", itCG)\n",
    "plt.semilogy(range(len(vet_rCG)), vet_rCG)\n",
    "plt.show()\n",
    "xGS, itGS, vet_rGS = gauss_seidel(A, b, x0, itmax, tol)\n",
    "print(\"Numero iterazioni\", itGS)\n",
    "plt.semilogy(range(len(vet_rGS)), vet_rGS)\n",
    "plt.show()"
   ]
  },
  {
   "cell_type": "code",
   "execution_count": null,
   "id": "0dc7a81b-27d1-409f-a7e2-3ce376525cbd",
   "metadata": {},
   "outputs": [],
   "source": [
    "condA1 = np.linalg.cond(A1)\n",
    "print(\"Indice di condizionamento A1:\", condA1)"
   ]
  },
  {
   "cell_type": "code",
   "execution_count": null,
   "id": "c6737466-0d5d-4e6d-8f5b-180c8e897222",
   "metadata": {},
   "outputs": [],
   "source": [
    "x0_1 = np.zeros_like(b1)\n",
    "x1, vet_r1, iterates_array1, it1 = steepestdescent(A1, b1, x0_1, itmax, tol)\n",
    "print(\"Numero iterazioni\", it1)\n",
    "plt.semilogy(range(len(vet_r1)), vet_r1)\n",
    "plt.show()\n",
    "\n",
    "x1CG, vet_r1CG, iterates_array1CG, it1CG = conjugate_gradient(A1, b1, x0_1, itmax, tol)\n",
    "print(\"Numero iterazioni\", it1CG)\n",
    "plt.semilogy(range(len(vet_r1CG)), vet_r1CG)\n",
    "plt.show()"
   ]
  },
  {
   "cell_type": "markdown",
   "id": "15bef4ac-ffd6-4318-8098-fd4d057cd256",
   "metadata": {},
   "source": [
    "## Esercizio  2\n",
    "\n",
    "**Siano assegnati i punti del piano di coordinate $(x_i, y_i)$, $i=1,\\ldots,3$ con**\n",
    "$$\n",
    "\\begin{array}{c}\n",
    "x_1=1, \\quad x_2=4, \\quad x_3=0, \\\\\n",
    "y_1=1, \\quad y_2=0, \\quad y_3=4 .\n",
    "\\end{array}\n",
    "$$ \n",
    "Scrivere lo script Python  in cui\n",
    "- si costruisce il sistema lineare  ottenuto imponendo il passaggio della circonferenza di equazione $x^2+y^2+a_1x+a_2y+a_3=0$ per i tre punti assegnati, e si denotino con ${\\bf M}$ e ${\\bf b}$ la matrice dei coefficienti e il termine noto ottenuti;   [**punti 3**]\n",
    "\n",
    "- si calcola la soluzione del sistema lineare ${\\bf M}{\\bf a}={\\bf b}$ usando il metodo di fattorizzazione adatto alle caratteristiche della matrice $M$[**punti 2**]\n",
    "\n",
    "- dopo averne determinato centro e raggio (vedi sotto formula), si rappresentino in una stessa figura la circonferenza di equazione $x^2+y^2+a_1x+a_2y+a_3=0$ (dove i coefficienti $a_i$ rappresentano la soluzione del sistema lineare del punto precedente) e i tre punti assegnati dal problema.[**punti 1**]\n",
    "- Abbiamo costruito la circonferenza  ................... i punti del piano\n",
    "  [**punti 1**] \n",
    "  (completare al posto dei puntini)\n"
   ]
  },
  {
   "cell_type": "markdown",
   "id": "1d0eb852-99ec-4174-a4b5-aaa14899cc9f",
   "metadata": {},
   "source": [
    "**Siano assegnati i punti del piano di coordinate $(x_i, y_i)$, $i=1,\\ldots,4$ con**\n",
    "$$\n",
    "\\begin{array}{c}\n",
    "x_1=1, \\quad x_2=4, \\quad x_3=0, \\quad x_4=5 \\\\\n",
    "y_1=1, \\quad y_2=0, \\quad y_3=4  \\quad y_4=6.\n",
    "\\end{array}\n",
    "$$ \n",
    "Scrivere lo script Python  in cui\n",
    "- si costruisce il sistema lineare sovradeterminanto ottenuto imponendo il passaggio della circonferenza di equazione $x^2+y^2+a_1x+a_2y+a_3=0$ per i quattro punti assegnati, e si denotino con ${\\bf A}$ e ${\\bf c}$ la matrice dei coefficienti e il termine noto ottenuti;   [**punti 1**]\n",
    "\n",
    "- si sfrutti la decomposizione QR  della matrice A  per ottenere la soluzione ${\\bf a}^*$ del problema ai minimi quadrati $\\min_{{\\bf a} \\in \\mathbb{R}^3} \\|{\\bf A}{\\bf a}-{\\bf c}\\|_2^2$  e  si calcoli il valore di $\\|{\\bf A}{\\bf a}^*-{\\bf c}\\|_2^2$;   [**punti 5**]\n",
    "\n",
    "-  dopo averne determinato centro e raggio, si rappresentino in una stessa figura la circonferenza di equazione $x^2+y^2+a^*_1x+a^*_2y+a^*_3=0$ (individuata dalla soluzione ${\\bf a}^*$ del problema ai minimi quadrati) e i quattro punti assegnati dal problema.[**punti 1**]\n",
    "-  \n",
    "**Nota Bene**: Si ricorda che data una circonferenza nella forma canonica\n",
    "$$ x^2+y^2+a_1 x+a_2 x+a_3=0$$\n",
    "\n",
    "le coordinate del suo centro sono \n",
    "$$C≡(-a_1/2,-a_2/2)$$\n",
    "\n",
    "e la lunghezza del suo raggio è data da:\n",
    "\n",
    "$$r=\\sqrt{\\frac{a_1^2}{4}+\\frac{a_2^2}{4} -a_3}$$\n",
    "\n",
    "e la circoferenza può essere rappresentata in forma parametrica $C(t),  t \\in [0, 2 \\cdot \\pi]$ e le due componenti parametriche sono $$x(t)= C_0+r\\cdot cos(t);$$ $$ y(t)= C_1+r\\cdot sin(t)$$\n",
    "\n",
    "\n",
    "**Punti totali 14**"
   ]
  },
  {
   "cell_type": "code",
   "execution_count": 29,
   "id": "e2b97d9c-34a5-4afc-b27f-1bb39f52ff87",
   "metadata": {},
   "outputs": [],
   "source": [
    "import numpy as np\n",
    "import scipy as sp\n",
    "import matplotlib.pyplot as plt\n",
    "import math\n",
    "from SolveTriangular import *\n",
    "M = np.array([[1, 1, 1], [4, 0, 1], [0, 4, 1]])\n",
    "b = np.array([-2, -16, -16]).T\n",
    "pxi = np.array([1, 4, 0])\n",
    "pyi = np.array([1, 0, 4])"
   ]
  },
  {
   "cell_type": "code",
   "execution_count": 30,
   "id": "32cbfc59-a17c-47a0-8a4b-5c9a561c2dfa",
   "metadata": {},
   "outputs": [
    {
     "name": "stdout",
     "output_type": "stream",
     "text": [
      "Cond di M: 10.403882032022073\n"
     ]
    }
   ],
   "source": [
    "condM = np.linalg.cond(M)\n",
    "print(\"Cond di M:\", condM)\n",
    "PT, L, U = sp.linalg.lu(M)\n",
    "t, flag = Lsolve(L, PT.T@b)\n",
    "a, flag = Usolve(U, t)"
   ]
  },
  {
   "cell_type": "code",
   "execution_count": 31,
   "id": "5e441eb2-b3cb-4f06-bc7a-9908ae73cfe1",
   "metadata": {},
   "outputs": [
    {
     "name": "stderr",
     "output_type": "stream",
     "text": [
      "C:\\Users\\davide.mancini10\\AppData\\Local\\Temp\\ipykernel_10760\\1791305174.py:3: DeprecationWarning: Conversion of an array with ndim > 0 to a scalar is deprecated, and will error in future. Ensure you extract a single element from your array before performing this operation. (Deprecated NumPy 1.25.)\n",
      "  r1 = math.sqrt((a[0]**2) / 4 + (a[1]**2) / 4 - a[2])\n"
     ]
    },
    {
     "data": {
      "image/png": "[encoded data removed]",
      "text/plain": [
       "<Figure size 640x480 with 1 Axes>"
      ]
     },
     "metadata": {},
     "output_type": "display_data"
    }
   ],
   "source": [
    "Cx = -a[0] / 2\n",
    "Cy = -a[1] / 2\n",
    "r1 = math.sqrt((a[0]**2) / 4 + (a[1]**2) / 4 - a[2])\n",
    "t = np.linspace(0, 2 * np.pi, 100)\n",
    "x = Cx + r1 * np.cos(t)\n",
    "y = Cy + r1 * np.sin(t)\n",
    "\n",
    "plt.plot(x, y, 'r-', pxi, pyi, 'bo')\n",
    "plt.show()"
   ]
  },
  {
   "cell_type": "code",
   "execution_count": 36,
   "id": "3601e041-0782-4083-a88d-e2ce1558f6cf",
   "metadata": {},
   "outputs": [],
   "source": [
    "A = np.array([[1, 1, 1], [4, 0, 1], [0, 4, 1], [5.0, 6, 1]])\n",
    "c1 = np.array([-2, -16, -16, -61.0]).T\n",
    "pxi1 = np.array([1, 4, 0.0])\n",
    "pyi1 = np.array([1, 0, 4.0])"
   ]
  },
  {
   "cell_type": "code",
   "execution_count": 41,
   "id": "4c92e590-04e6-4ad3-a1ce-651145a54bfe",
   "metadata": {},
   "outputs": [],
   "source": [
    "def qrLS(A, b):\n",
    "    n = A.shape[1]\n",
    "    Q, R = sp.linalg.qr(A)\n",
    "    h = Q.T@b\n",
    "    a, flag = Usolve(R[:n, :n], h[:n])\n",
    "    residuo = np.linalg.norm(h[n:])\n",
    "    return x, residuo"
   ]
  },
  {
   "cell_type": "code",
   "execution_count": 43,
   "id": "215fc919-b196-4120-8460-a9a5dc0ef998",
   "metadata": {},
   "outputs": [
    {
     "data": {
      "image/png": "[encoded data removed]",
      "text/plain": [
       "<Figure size 640x480 with 1 Axes>"
      ]
     },
     "metadata": {},
     "output_type": "display_data"
    }
   ],
   "source": [
    "a1, residuo = qrLS(A, c1)\n",
    "Cx1 = -a1[0] / 2\n",
    "Cy1 = -a1[1] / 2\n",
    "r1_ = math.sqrt((a1[0]**2) / 4 + (a1[1]**2) / 4 - a1[2])\n",
    "t1 = np.linspace(0, 2 * np.pi, 100)\n",
    "x1 = Cx1 + r1_ * np.cos(t1)\n",
    "y1 = Cy1 + r1_ * np.sin(t1)\n",
    "\n",
    "plt.plot(x1, y1, 'r-', pxi1, pyi1, 'bo')\n",
    "plt.show()"
   ]
  },
  {
   "cell_type": "markdown",
   "id": "88a2fea6-a63d-48f7-be37-36ad15e53c10",
   "metadata": {},
   "source": [
    "## Domande Intelligenza Artificiale\n",
    "**NB: Ogni risposta esatta:  +0.5 punti, ogni risposta errata: -0.5 punti. La mancanza di risposta:  0 punti**"
   ]
  },
  {
   "cell_type": "markdown",
   "id": "70f0e898-df6c-4bfa-b4f9-ca09beca66fc",
   "metadata": {},
   "source": [
    "**1** \n",
    "Quale delle seguenti affermazioni è FALSA riguardo alle reti MLP (Multilayer Perceptron)?\n",
    "\n",
    "- Le reti MLP sono composte da uno o più strati nascosti di neuroni.\n",
    "- Le reti MLP utilizzano una funzione di attivazione non lineare per introdurre una non linearità nel modello.\n",
    "\n",
    "- Le reti MLP sono in grado di apprendere solo relazioni lineari tra i dati di input e output.\n",
    "\n",
    "- Le reti MLP possono essere utilizzate per risolvere una vasta gamma di problemi di apprendimento automatico, tra cui la classificazione e la regressione.\n"
   ]
  },
  {
   "cell_type": "markdown",
   "id": "2c623990-f0ee-4c6a-9bb3-798fdb8566b1",
   "metadata": {},
   "source": [
    "**2.**  Quale delle seguenti affermazioni è la definizione CORRETTA di learning rate nel training di una rete neurale?\n",
    "\n",
    "A) Il numero di volte in cui l'intero set di dati viene utilizzato durante il training.\n",
    "\n",
    "B) Un parametro che controlla la velocità con cui i pesi della rete vengono aggiornati durante il training.\n",
    "\n",
    "C) Il numero di neuroni presenti nello strato di output della rete.\n",
    "\n",
    "D) La funzione di attivazione utilizzata dai neuroni della rete\n"
   ]
  },
  {
   "cell_type": "markdown",
   "id": "57b67147-0196-4d9c-b165-43c489a1e8b3",
   "metadata": {},
   "source": [
    "3- Quale delle seguenti affermazioni è vera riguardo ai layer convoluzionali in una rete CNN?\n",
    "\n",
    "(a) I layer convoluzionali applicano una funzione di attivazione a ciascun elemento della feature map in ingresso.\n",
    "\n",
    "(b) I layer convoluzionali eseguono una convoluzione tra i filtri convoluzionali e la feature map in ingresso, producendo una nuova feature map.\n",
    "\n",
    "(c) I layer convoluzionali riducono la dimensione spaziale della feature map in ingresso.\n",
    "\n",
    "(d) I layer convoluzionali aumentano la dimensione spaziale della feature map in ingresso."
   ]
  },
  {
   "cell_type": "markdown",
   "id": "109563b2-32a8-430a-bf6e-107733ef69f4",
   "metadata": {},
   "source": [
    "**4.**  \n",
    "Quale tra le seguenti affermazioni descrive   il compito della funzione di attivazione nel training di una rete neurale?\n",
    "\n",
    "- Trasformare i dati di input in un formato compatibile con la rete neurale\n",
    "\n",
    "- Introdurre una non linearità nel flusso di informazioni della rete\n",
    "\n",
    "- Calcolare l'errore tra l'output previsto e quello effettivo\n",
    "\n",
    "- Aggiornare i pesi delle connessioni tra i neuroni softmax\n"
   ]
  },
  {
   "cell_type": "markdown",
   "id": "01eb159d-42f7-48fd-8775-9271fbe08968",
   "metadata": {},
   "source": [
    "**5.** Quale tra le seguenti affermazioni è FALSA riguardo alla suddivisione del dataset in un contesto di machine learning?\n",
    "\n",
    "- La suddivisione del dataset in set di training, validation e test è fondamentale per valutare correttamente le prestazioni di un modello di machine learning.\n",
    "- Il set di training viene utilizzato per addestrare il modello sui dati.\n",
    "- Il set di validation viene utilizzato per trovare le etichette dei dati di input\n",
    "- Il set di test viene utilizzato per valutare le prestazioni finali del modello su dati che non sono stati utilizzati per il training o la validation"
   ]
  },
  {
   "cell_type": "markdown",
   "id": "ee30dd96-03b6-4bee-963a-fc5dbb70179f",
   "metadata": {},
   "source": [
    "# Domande aperte"
   ]
  },
  {
   "cell_type": "markdown",
   "id": "d3c2ec08-fe6b-4f3e-b5b9-e28aab8991d5",
   "metadata": {},
   "source": [
    "**6. Descrivi in cosa consiste la fase di forward-propagation e back-propagation nell'ambito del training di una rete neurale, soffermandoti sull'importanza dell'algoritmo di backpropagation** per il calcolo delle derivate parziali della funzione costo rispetto ai pesi di tutti i layer **[punti 1.5]**"
   ]
  },
  {
   "cell_type": "markdown",
   "id": "0a783a9e-d3e6-41f8-a4de-00e909642aa0",
   "metadata": {},
   "source": [
    "**7** Learning rate adattivo per ogni peso (durante il processo di ottimizzazione) : Adagrad, RMSProp, Adadelta, Adam. (formula di aggiornamento dei pesi e discussioni)\n",
    "**[punti 3]**"
   ]
  },
  {
   "cell_type": "code",
   "execution_count": null,
   "id": "28defd68-5c72-496b-a7c5-71729b24e7de",
   "metadata": {},
   "outputs": [],
   "source": []
  }
 ],
 "metadata": {
  "kernelspec": {
   "display_name": "Python 3 (ipykernel)",
   "language": "python",
   "name": "python3"
  },
  "language_info": {
   "codemirror_mode": {
    "name": "ipython",
    "version": 3
   },
   "file_extension": ".py",
   "mimetype": "text/x-python",
   "name": "python",
   "nbconvert_exporter": "python",
   "pygments_lexer": "ipython3",
   "version": "3.12.4"
  }
 },
 "nbformat": 4,
 "nbformat_minor": 5
}
