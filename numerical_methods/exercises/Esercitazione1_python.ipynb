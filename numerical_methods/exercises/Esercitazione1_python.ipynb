{
 "cells": [
  {
   "cell_type": "markdown",
   "id": "ae8420c8-346b-425b-bf7e-ecabbd4a067e",
   "metadata": {},
   "source": [
    "## Esercitazione Python -- 18/02/2025"
   ]
  },
  {
   "cell_type": "markdown",
   "id": "2dbec7a5-a12e-4693-ab65-a8fd067ff356",
   "metadata": {},
   "source": [
    "**Liste:**\n",
    "\n",
    "Scrivi una funzione che prende una lista di numeri e restituisce una nuova lista contenente solo i numeri pari.\n",
    "\n",
    "Crea una funzione che inverte l'ordine degli elementi in una lista (senza usare reverse() o slicing).\n",
    "\n",
    "Scrivi un programma che trova il valore più grande e il valore più piccolo in una lista.\n",
    "\n",
    "\n"
   ]
  },
  {
   "cell_type": "code",
   "execution_count": 33,
   "id": "bb70d2d2-7ff2-468e-ac94-673c9d362f9f",
   "metadata": {},
   "outputs": [],
   "source": [
    "def list1(l):\n",
    "    ret = []\n",
    "    for n in l:\n",
    "        if n % 2 == 0:\n",
    "            ret.append(n)\n",
    "    return ret"
   ]
  },
  {
   "cell_type": "code",
   "execution_count": null,
   "id": "74d1cedf-ef2d-4174-b3cc-d073172758a4",
   "metadata": {},
   "outputs": [],
   "source": [
    "def list2(l):\n",
    "    i = 1\n",
    "    ret = l.copy()\n",
    "    for n in l:\n",
    "        ret[-i] = n\n",
    "        i = i + 1\n",
    "    return ret"
   ]
  },
  {
   "cell_type": "code",
   "execution_count": null,
   "id": "4939549d-7244-4e1d-9db3-d296d4342d3e",
   "metadata": {},
   "outputs": [],
   "source": [
    "import math\n",
    "\n",
    "l = [0, 4, -2, 3, -2, 5]\n",
    "\n",
    "nmax = -math.inf\n",
    "nmin = math.inf\n",
    "for n in l:\n",
    "    nmax = max(nmax, n)\n",
    "    nmin = min(nmin, n)\n",
    "\n",
    "print(mnax, nmin)"
   ]
  },
  {
   "cell_type": "markdown",
   "id": "1af6bcd2-4c2a-4c67-ae77-c1559b9e3c76",
   "metadata": {},
   "source": [
    "**Stringhe:**\n",
    "\n",
    "Scrivi una funzione che conta il numero di vocali in una stringa.\n",
    "\n",
    "Crea una funzione che verifica se una stringa è un palindromo (si legge allo stesso modo da sinistra a destra e viceversa).\n",
    "\n",
    "Scrivi un programma che converte una stringa in maiuscolo o minuscolo (a scelta dell'utente).\n"
   ]
  },
  {
   "cell_type": "code",
   "execution_count": 31,
   "id": "97cf0267-dc34-4ee0-bcad-364c74cb033e",
   "metadata": {},
   "outputs": [],
   "source": [
    "def string1(string):\n",
    "    i = 0\n",
    "    for c in string:\n",
    "        if c in ['a', 'e', 'i', 'o', 'u']:\n",
    "            i = i + 1\n",
    "    return i"
   ]
  },
  {
   "cell_type": "code",
   "execution_count": null,
   "id": "4a21f9ae-6e01-4fad-8e64-a3ce4898d94d",
   "metadata": {},
   "outputs": [],
   "source": [
    "def string2(word):\n",
    "    i = 1\n",
    "    for c in word:\n",
    "        if word[-i] != c:\n",
    "            return False\n",
    "        i = i + 1\n",
    "    return True"
   ]
  },
  {
   "cell_type": "code",
   "execution_count": null,
   "id": "f8b9eec3-28b2-4664-8836-56fed77ba15e",
   "metadata": {},
   "outputs": [],
   "source": [
    "word = input(\"Scegli una parola: \")\n",
    "choice = int(input(\"Scegli 0 per rendere la parola maiuscola, un qualsiasi altro valore per renderla minuscola: \"))\n",
    "if choice == 0:\n",
    "    word = word.upper()\n",
    "else:\n",
    "    word = word.lower()\n",
    "\n",
    "print(word)"
   ]
  },
  {
   "cell_type": "markdown",
   "id": "c9b84acc-0820-455c-8ca5-3208908ff49a",
   "metadata": {},
   "source": [
    "**Dizionari:**\n",
    "\n",
    "Crea un dizionario che contenga alcune parole italiane e le loro traduzioni in inglese. Scrivi un programma che chieda all'utente una parola italiana e restituisca la sua traduzione inglese, oppure un messaggio se la parola non è presente nel dizionario.\n",
    "\n",
    "\n",
    "Scrivi una funzione che prenda in input un dizionario e una chiave, e restituisca True se la chiave è presente nel dizionario, False altrimenti.\n",
    "\n"
   ]
  },
  {
   "cell_type": "code",
   "execution_count": null,
   "id": "067ea0d8-878b-44ac-ad9c-6d908f8e775a",
   "metadata": {},
   "outputs": [],
   "source": [
    "dic = {\"palla\":\"ball\", \"fine\":\"over\", \"spazzatura\":\"garbage\", \"inutile\":\"useless\"}\n",
    "\n",
    "word = input(\"Inserisci una parola italiana: \")\n",
    "if word not in dic.keys():\n",
    "    print(\"Parola non trovata\")\n",
    "else:\n",
    "    print(dic.get(word))"
   ]
  },
  {
   "cell_type": "code",
   "execution_count": null,
   "id": "2905833e-7bb9-4437-be21-5d5fc6dfb7df",
   "metadata": {},
   "outputs": [],
   "source": [
    "def dic1(dic, key):\n",
    "    return key in dic.keys()"
   ]
  },
  {
   "cell_type": "markdown",
   "id": "c1dd66ca-a61e-41b9-b6a7-b6b49387bac4",
   "metadata": {},
   "source": [
    "**Cicli for:**\n",
    "\n",
    "Scrivi un programma che stampa i numeri da 1 a 10 usando un ciclo for.\n",
    "\n",
    "Crea una funzione che calcola la somma dei numeri in una lista usando un ciclo for.\n",
    "\n",
    "Scrivi un programma che stampa una tabella di moltiplicazione (ad esempio, da 1 a 10) usando cicli for annidati.\n"
   ]
  },
  {
   "cell_type": "code",
   "execution_count": 44,
   "id": "77727952-257b-4682-a5b2-5fe367c4e72d",
   "metadata": {},
   "outputs": [
    {
     "name": "stdout",
     "output_type": "stream",
     "text": [
      "1\n",
      "2\n",
      "3\n",
      "4\n",
      "5\n",
      "6\n",
      "7\n",
      "8\n",
      "9\n",
      "10\n"
     ]
    }
   ],
   "source": [
    "for i in range(1, 11):\n",
    "    print(i)"
   ]
  },
  {
   "cell_type": "code",
   "execution_count": null,
   "id": "c1315377-c22f-44b1-b789-b9144e94a4d0",
   "metadata": {},
   "outputs": [],
   "source": [
    "def for1(l):\n",
    "    s = 0\n",
    "    for n in l:\n",
    "        s = s + n\n",
    "    return s"
   ]
  },
  {
   "cell_type": "code",
   "execution_count": null,
   "id": "737beacc-25e0-4e5a-9aa9-cb079ee73509",
   "metadata": {},
   "outputs": [],
   "source": [
    "for i in range(1, 11):\n",
    "    s = \"\"\n",
    "    for j in range(1, 11):\n",
    "        s = s + str(i * j) + \"\\t\"\n",
    "    print(s)"
   ]
  },
  {
   "cell_type": "markdown",
   "id": "9ac6c2c6-431c-45f9-8962-8e4301422c46",
   "metadata": {},
   "source": [
    "**Cicli while:**\n",
    "\n",
    "\n",
    "Crea una funzione che calcola il fattoriale di un numero usando un ciclo while.\n",
    "\n",
    "Scrivi un programma che stampa i numeri pari da 0 a 100 usando un ciclo while.\n"
   ]
  },
  {
   "cell_type": "code",
   "execution_count": null,
   "id": "62626cb4-5871-46b2-ac01-82ab0e7e34c9",
   "metadata": {},
   "outputs": [],
   "source": [
    "def fact(n):\n",
    "    if (n == 0):\n",
    "        return 1\n",
    "    i = n - 1\n",
    "    while i > 1:\n",
    "        n = n * i\n",
    "        i = i - 1\n",
    "    return n"
   ]
  },
  {
   "cell_type": "code",
   "execution_count": null,
   "id": "71b1e8cb-73c5-4dc1-8c73-c217d750b6f6",
   "metadata": {},
   "outputs": [],
   "source": [
    "i = 0\n",
    "while i <= 100:\n",
    "    print(i)\n",
    "    i = i + 2"
   ]
  },
  {
   "cell_type": "markdown",
   "id": "0af7c6c7-68c3-448a-a297-76fa2875130a",
   "metadata": {},
   "source": [
    "**List comprehension:**\n",
    "\n",
    "Usa una list comprehension per creare una nuova lista contenente i quadrati dei numeri da 1 a 10.\n",
    "\n",
    "Usa una list comprehension per filtrare una lista di stringhe e ottenere solo quelle che iniziano con una determinata lettera.\n",
    "\n",
    "Usa una list comprehension per creare un dizionario dove le chiavi sono i numeri da 1 a 5 e i valori sono i loro quadrati.\n"
   ]
  },
  {
   "cell_type": "code",
   "execution_count": null,
   "id": "cf3727f1-324f-45df-bbdb-ea2ea41c71b7",
   "metadata": {},
   "outputs": [],
   "source": [
    "l1 = [x**2 for x in range(1, 11)]"
   ]
  },
  {
   "cell_type": "code",
   "execution_count": null,
   "id": "44a004ec-58f2-4446-93a4-73758400c4c7",
   "metadata": {},
   "outputs": [],
   "source": [
    "l2 = [x for x in [\"ciao\", \"aiuola\", \"albatro\", \"hotel\"] if x[0] == 'a']"
   ]
  },
  {
   "cell_type": "code",
   "execution_count": null,
   "id": "63e2ad1d-caa5-437c-8ca2-5b5bc16b131f",
   "metadata": {},
   "outputs": [],
   "source": [
    "d = {k:k**2 for k in range(1, 6)}"
   ]
  },
  {
   "cell_type": "markdown",
   "id": "4866ecae-6286-4d11-97ed-dccc4a6ef325",
   "metadata": {},
   "source": [
    "**If, else, elif:**\n",
    "\n",
    "Scrivi una funzione che determina se un numero è positivo, negativo o zero.\n",
    "\n",
    "Scrivi un programma che calcola il prezzo di un biglietto del cinema in base all'eta"
   ]
  },
  {
   "cell_type": "code",
   "execution_count": null,
   "id": "4ab53d1b-24c7-4b8b-8e48-239667046800",
   "metadata": {},
   "outputs": [],
   "source": [
    "def if1(n):\n",
    "    if n < 0:\n",
    "        print(\"Il numero è negativo\")\n",
    "    elif n > 0:\n",
    "        print(\"Il numero è positivo\")\n",
    "    else:\n",
    "        print(\"Il numero è zero\")"
   ]
  },
  {
   "cell_type": "code",
   "execution_count": null,
   "id": "f3a248cc-033f-4c7d-a506-0bf6d7a63f7b",
   "metadata": {},
   "outputs": [],
   "source": [
    "ticket = 10\n",
    "age = int(input(\"Inserisci l'eta': \"))\n",
    "if age <= 3:\n",
    "    ticket = 0\n",
    "elif age <= 12:\n",
    "    ticket = ticket // 2\n",
    "\n",
    "print(ticket)"
   ]
  },
  {
   "cell_type": "markdown",
   "id": "840b7e68-db5a-4919-bfce-54ad348ce17d",
   "metadata": {},
   "source": [
    "**Matchcase**"
   ]
  },
  {
   "cell_type": "markdown",
   "id": "9f329943-6fc4-429a-91c4-1d1210b0eff2",
   "metadata": {},
   "source": [
    "Scrivi una funzione che prenda in input un numero intero compreso tra 0 e 5 e restituisca la sua rappresentazione in parole (zero, uno, due, tre, quattro, cinque). Utilizza match/case per implementare la logica."
   ]
  },
  {
   "cell_type": "code",
   "execution_count": null,
   "id": "1cd2be24-835f-47d2-9c22-6c4780d40a30",
   "metadata": {},
   "outputs": [],
   "source": [
    "def match1(n):\n",
    "    match n:\n",
    "        case 0:\n",
    "            print(\"zero\")\n",
    "        case 1:\n",
    "            print(\"uno\")\n",
    "        case 2:\n",
    "            print(\"due\")\n",
    "        case 3:\n",
    "            print(\"tre\")\n",
    "        case 4:\n",
    "            print(\"quattro\")\n",
    "        case 5:\n",
    "            print(\"cinque\")\n",
    "        case other:\n",
    "            print(\"numero invalido\")"
   ]
  }
 ],
 "metadata": {
  "kernelspec": {
   "display_name": "Python [conda env:base] *",
   "language": "python",
   "name": "conda-base-py"
  },
  "language_info": {
   "codemirror_mode": {
    "name": "ipython",
    "version": 3
   },
   "file_extension": ".py",
   "mimetype": "text/x-python",
   "name": "python",
   "nbconvert_exporter": "python",
   "pygments_lexer": "ipython3",
   "version": "3.12.7"
  }
 },
 "nbformat": 4,
 "nbformat_minor": 5
}
