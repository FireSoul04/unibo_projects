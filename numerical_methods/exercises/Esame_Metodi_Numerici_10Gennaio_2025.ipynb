{
 "cells": [
  {
   "cell_type": "markdown",
   "id": "60ff1e86-85a2-45b1-9295-5d8e1897c7bc",
   "metadata": {},
   "source": [
    "## Esame Metodi Numerici  10 gennaio 2025 - Ore 14\n",
    "\n",
    "Si considerino i due sistemi lineari:\n",
    "\n",
    "     A  x = b \n",
    "\n",
    "    A1 x1 = b1\n",
    "\n",
    "dove A, A1 sono le matrici dei coefficienti, b e b1 sono i termini noti, ed x ed x1 sono i vettori incogniti da determinare.\n",
    "I dati di questi due sistemi lineari sono contenuti nel file **test.mat**.\n",
    "\n",
    "\n",
    "- Si risolva ciascuno dei sistemi lineari assegnati  utilizzato il metodo più adatto in base alle caratteristiche della matrice dei coefficienti, giustificando teoricamente le scelte effettuate.\n",
    "                                      **punti 5**\n",
    "\n",
    "Per il primo sistema lineare A x= b,  aggiungere una perturbazione dell' 1% sulla componente b[0]  del termine noto, e risolvere il sistema con termine noto perturbato. Calcolare quindi  l'errore relativo sulla soluzione e l'errore relativo sui dati e giustificare i risultati alla luce della teoria, richiamando il teorema relativo.\n",
    "                                      **punti 3**\n",
    "\n",
    "\n",
    "Per la lettura dei dati procedere nel seguente modo:\n",
    "\n",
    "``from scipy.io import loadmat``\n",
    "\n",
    "``import numpy as np``\n",
    "\n",
    "``dati = loadmat('test')``\n",
    "\n",
    "``A=dati[\"A\"] ``\n",
    "\n",
    "``A=A.astype(float)``\n",
    "\n",
    "`` b=dati[\"b\"] ``\n",
    "\n",
    "`` b=b.astype(float)``\n",
    "\n",
    "``A1=dati[\"A1\"] ``\n",
    "\n",
    "``A1=A1.astype(float)``\n",
    "\n",
    "`` b1=dati[\"b1\"] ``\n",
    "\n",
    "`` b1=b1.astype(float)``\n",
    "\n",
    " "
   ]
  },
  {
   "cell_type": "code",
   "execution_count": 5,
   "id": "00660c37-18b4-473e-9a31-a860ff9c0f98",
   "metadata": {},
   "outputs": [],
   "source": [
    "from SolveTriangular import *\n",
    "import matplotlib.pyplot as plt\n",
    "import scipy as sp"
   ]
  },
  {
   "cell_type": "code",
   "execution_count": 6,
   "id": "0d3d7af3-9da1-42c8-854c-7d19fc54c370",
   "metadata": {},
   "outputs": [],
   "source": [
    "def gauss_seidel_sor(A,b,x0,toll,it_max,omega):\n",
    "    errore=1000\n",
    "    d=np.diag(A)\n",
    "    D=np.diag(d)\n",
    "    E=np.tril(A, -1) \n",
    "    F=np.triu(A, 1)\n",
    "    Momega=D+omega*E\n",
    "    Nomega=(1-omega)*D-omega*F\n",
    "    T=np.linalg.inv(Momega)@Nomega\n",
    "    autovalori=np.linalg.eigvals(T)\n",
    "    raggiospettrale=np.max(np.abs(autovalori))\n",
    "    print(\"raggio spettrale Gauss-Seidel SOR \", raggiospettrale)\n",
    "    M=D + E\n",
    "    N=-F \n",
    "    it=0\n",
    "    xold=x0.copy()\n",
    "    xnew=x0.copy()\n",
    "    er_vet=[]\n",
    "    while it<=it_max and errore>=toll:\n",
    "        xtilde=np.linalg.solve(M, N@x0 + b)\n",
    "        xnew=(1 - omega) * xold + xtilde * omega\n",
    "        errore=np.linalg.norm(xnew - xold) / np.linalg.norm(xnew)\n",
    "        er_vet.append(errore)\n",
    "        xold=xnew.copy()\n",
    "        it=it+1\n",
    "    return xnew,it,er_vet"
   ]
  },
  {
   "cell_type": "code",
   "execution_count": 7,
   "id": "a7ceaa89-ea44-46d5-836c-f9d88b089837",
   "metadata": {},
   "outputs": [],
   "source": [
    "def gauss_seidel(A,b,x0,toll,it_max):\n",
    "    errore=1000\n",
    "    d=np.diag(A)\n",
    "    D=np.diag(d)\n",
    "    E=np.tril(A, -1) \n",
    "    F=np.triu(A, 1)\n",
    "    M=D + E\n",
    "    N=-F \n",
    "    invM = np.linalg.inv(M)\n",
    "    T=invM@N\n",
    "    autovalori=np.linalg.eigvals(T)\n",
    "    raggiospettrale=np.max(np.abs(autovalori))\n",
    "    print(\"raggio spettrale Gauss-Seidel \",raggiospettrale)\n",
    "    it=0\n",
    "    er_vet=[]\n",
    "    while it < it_max and errore >= toll:\n",
    "        x = np.linalg.solve(M, N@x0 + b)\n",
    "        errore=np.linalg.norm(x - x0) / np.linalg.norm(x)\n",
    "        er_vet.append(errore)\n",
    "        x0=x.copy()\n",
    "        it=it+1\n",
    "    return x,it,er_vet"
   ]
  },
  {
   "cell_type": "code",
   "execution_count": 8,
   "id": "8ac282a4-a409-4c37-973f-65dac5a3c869",
   "metadata": {},
   "outputs": [],
   "source": [
    "def steepestdescent(A,b,x0,tol,itmax):\n",
    "    n,m=A.shape\n",
    "    if n!=m:\n",
    "        print(\"Matrice non quadrata\")\n",
    "        return [],[]\n",
    "    # inizializzare le variabili necessarie\n",
    "    x = x0\n",
    "    r = A.dot(x) - b\n",
    "    p = -r\n",
    "    it = 0\n",
    "    nb=np.linalg.norm(b)\n",
    "    errore=np.linalg.norm(r)/nb\n",
    "    vec_sol=[]\n",
    "    vec_sol.append(x.copy())\n",
    "    vet_r=[]\n",
    "    vet_r.append(errore)\n",
    "    # utilizzare il metodo del gradiente per trovare la soluzione\n",
    "    while it < itmax and errore >= tol:\n",
    "        it=it+1\n",
    "        Ap=A@p\n",
    "        alpha = -(r.T@p) / (p.T@Ap)\n",
    "        x = x + alpha * p\n",
    "        vec_sol.append(x.copy())\n",
    "        r= r + alpha * Ap\n",
    "        errore=np.linalg.norm(r)/nb\n",
    "        vet_r.append(errore)\n",
    "        p = -r\n",
    "    iterates_array = np.vstack([arr.T for arr in vec_sol])\n",
    "    return x,vet_r,iterates_array,it"
   ]
  },
  {
   "cell_type": "code",
   "execution_count": 9,
   "id": "6bd5f9e1-4cb5-43bb-b33c-42b635f6e998",
   "metadata": {},
   "outputs": [],
   "source": [
    "def conjugate_gradient(A,b,x0,tol,itmax):\n",
    "    n,m=A.shape\n",
    "    if n!=m:\n",
    "        print(\"Matrice non quadrata\")\n",
    "        return [],[]\n",
    "    \n",
    "    # inizializzare le variabili necessarie\n",
    "    x = x0\n",
    "    r = A.dot(x) - b\n",
    "    p = -r\n",
    "    it = 0\n",
    "    nb=np.linalg.norm(b)\n",
    "    errore=np.linalg.norm(r)/nb\n",
    "    vec_sol=[]\n",
    "    vec_sol.append(x0.copy())\n",
    "    vet_r=[]\n",
    "    vet_r.append(errore)\n",
    "    # utilizzare il metodo del gradiente coniugato per calcolare la soluzione\n",
    "    while it < itmax and errore >= tol:\n",
    "        it=it+1\n",
    "        Ap=A@p\n",
    "        alpha = -(r.T@p)/(p.T@Ap)\n",
    "        x = x + alpha * p\n",
    "        vec_sol.append(x.copy())\n",
    "        rtr_old=r.T@r\n",
    "        r= r + alpha * Ap \n",
    "        gamma = (r.T@r)/rtr_old\n",
    "        errore=np.linalg.norm(r)/nb\n",
    "        vet_r.append(errore)\n",
    "        p = -r + gamma * p\n",
    "    iterates_array = np.vstack([arr.T for arr in vec_sol])\n",
    "    return x,vet_r,iterates_array,it"
   ]
  },
  {
   "cell_type": "code",
   "execution_count": 15,
   "id": "c409e644-ef76-4eec-bb6b-06de2e92fe37",
   "metadata": {},
   "outputs": [],
   "source": [
    "def SVDLS(A,b):\n",
    "    m,n=A.shape  #numero di righe e  numero di colonne di A\n",
    "    U,s,VT=sp.linalg.svd(A)  \n",
    "    V=VT.T\n",
    "    thresh=np.spacing(1)*m*s[0] ##Calcolo del rango della matrice, numero dei valori singolari maggiori di una soglia\n",
    "    k = np.count_nonzero(s > thresh) # Il rango della matrice A\n",
    "    d=U.T@b \n",
    "    d1=d[:k].reshape(k, 1)\n",
    "    s1=s[:k].reshape(k, 1)\n",
    "    c=d1 / s1\n",
    "    x = V[:, :k]@c\n",
    "    residuo = np.linalg.norm(d[k:n])**2\n",
    "    return x,residuo"
   ]
  },
  {
   "cell_type": "code",
   "execution_count": 16,
   "id": "1555b42a-4d12-4e20-8d17-13b043e6cf91",
   "metadata": {},
   "outputs": [
    {
     "name": "stdout",
     "output_type": "stream",
     "text": [
      "b shape: (20, 1)\n",
      "Matrice A shape: (20, 20)\n",
      "Matrice A densa? True\n",
      "A simmetrica? True\n",
      "A definita positiva? True\n",
      "Indice di cond A: 9999.999999998921\n",
      "Rango A1: 13\n",
      "b1 shape: (20, 1)\n",
      "Matrice A1 shape: (20, 15)\n",
      "Matrice A1 densa?  False\n"
     ]
    }
   ],
   "source": [
    "from scipy.io import loadmat\n",
    "import numpy as np\n",
    "\n",
    "dati = loadmat('test_10_gennaio_2024')\n",
    "A = dati[\"A\"]\n",
    "A = A.astype(float)\n",
    "b = dati[\"b\"]\n",
    "b = b.astype(float)\n",
    "A1 = dati[\"A1\"]\n",
    "A1 = A1.astype(float)\n",
    "b1 = dati[\"b1\"]\n",
    "b1 = b1.astype(float)\n",
    "\n",
    "mA, nA = A.shape\n",
    "mA1, nA1 = A1.shape\n",
    "denseA = np.count_nonzero(A) / (mA * nA)\n",
    "denseA1 = np.count_nonzero(A1) / (mA1 * nA1)\n",
    "print(\"b shape:\", b.shape)\n",
    "print(\"Matrice A shape:\", A.shape)\n",
    "print(\"Matrice A densa?\", denseA < 0.3)\n",
    "\n",
    "eigA = np.linalg.eigvals(A)\n",
    "print(\"A simmetrica?\", np.all(A == A.T))\n",
    "print(\"A definita positiva?\", np.all(eigA > 0))\n",
    "print(\"Indice di cond A:\", np.linalg.cond(A))\n",
    "\n",
    "print(\"Rango A1:\",np.linalg.matrix_rank(A1))\n",
    "print(\"b1 shape:\", b1.shape)\n",
    "print(\"Matrice A1 shape:\", A1.shape)\n",
    "print(\"Matrice A1 densa? \", denseA1 < 0.3)"
   ]
  },
  {
   "cell_type": "code",
   "execution_count": 18,
   "id": "e6014179-9bbf-418d-a772-e5ee4344035e",
   "metadata": {},
   "outputs": [],
   "source": [
    "tol = 1e-12\n",
    "itmax = 2000"
   ]
  },
  {
   "cell_type": "code",
   "execution_count": 19,
   "id": "59aed653-2f1b-48cd-aabb-804b0932f710",
   "metadata": {},
   "outputs": [
    {
     "name": "stdout",
     "output_type": "stream",
     "text": [
      "raggio spettrale Gauss-Seidel  0.9964399151691916\n",
      "raggio spettrale Gauss-Seidel  0.9964399151691916\n",
      "[[1.        ]\n",
      " [1.        ]\n",
      " [1.00000038]\n",
      " [1.        ]\n",
      " [1.        ]\n",
      " [1.00198475]\n",
      " [1.        ]\n",
      " [1.        ]\n",
      " [1.        ]\n",
      " [1.        ]\n",
      " [1.        ]\n",
      " [1.        ]\n",
      " [1.        ]\n",
      " [1.        ]\n",
      " [1.        ]\n",
      " [1.        ]\n",
      " [1.        ]\n",
      " [1.        ]\n",
      " [1.        ]\n",
      " [0.99919941]]\n",
      "2000\n",
      "[[6.42046352]\n",
      " [1.        ]\n",
      " [1.00000038]\n",
      " [1.        ]\n",
      " [1.        ]\n",
      " [1.00198475]\n",
      " [1.        ]\n",
      " [1.        ]\n",
      " [1.        ]\n",
      " [1.        ]\n",
      " [1.        ]\n",
      " [1.        ]\n",
      " [1.        ]\n",
      " [0.56402248]\n",
      " [1.        ]\n",
      " [1.        ]\n",
      " [1.        ]\n",
      " [1.        ]\n",
      " [1.        ]\n",
      " [0.99919941]]\n",
      "2000\n",
      "1.2158945673084547\n",
      "0.00738285977523615\n",
      "16110.038437492956\n"
     ]
    }
   ],
   "source": [
    "x0 = np.zeros_like(b)\n",
    "\n",
    "btilde = b.copy()\n",
    "btilde[0] = btilde[0] + 0.01\n",
    "\n",
    "xgc, itgc, err_vetgc = gauss_seidel(A, b, x0, tol, itmax)\n",
    "xgcp, itgcp, err_vetgcp = gauss_seidel(A, btilde, x0, tol, itmax)\n",
    "\n",
    "print(xgc)\n",
    "print(itgc)\n",
    "\n",
    "print(xgcp)\n",
    "print(itgcp)\n",
    "\n",
    "ex = np.linalg.norm(xgc - xgcp) / np.linalg.norm(xgc)\n",
    "eb = np.linalg.norm(b - btilde) / np.linalg.norm(b)\n",
    "\n",
    "print(ex)\n",
    "print(eb)\n",
    "\n",
    "condProb = np.linalg.norm(np.linalg.inv(A))*np.linalg.norm(A)\n",
    "print(condProb)\n",
    "\n",
    "# Il problema risulta mal condizionato poiché é molto grande l'indice di condizionamento del problema, che nel caso in cui venga perturbato solo il termine noto,\n",
    "# risulta ||A^-1|| * ||A||, quindi dipende dall'indice di condizionamento della matrice, che è mal condizionata"
   ]
  },
  {
   "cell_type": "code",
   "execution_count": 21,
   "id": "5350d46b-76a0-4de9-aacb-95361db1e0a1",
   "metadata": {},
   "outputs": [
    {
     "name": "stdout",
     "output_type": "stream",
     "text": [
      "[[0.5210993 ]\n",
      " [1.25827182]\n",
      " [1.27889527]\n",
      " [0.46087355]\n",
      " [0.89024294]\n",
      " [1.04762977]\n",
      " [0.29616227]\n",
      " [0.59585228]\n",
      " [1.13383321]\n",
      " [0.94430646]\n",
      " [1.32127485]\n",
      " [0.97301581]\n",
      " [0.15568769]\n",
      " [0.79644108]\n",
      " [1.09968922]]\n"
     ]
    }
   ],
   "source": [
    "x, r = SVDLS(A1, b1)\n",
    "\n",
    "print(x)"
   ]
  },
  {
   "cell_type": "markdown",
   "id": "720cdc8a-f858-45aa-84f5-274e7c96a1eb",
   "metadata": {},
   "source": [
    "\n",
    "- Dato il sistema lineare \n",
    "A3 x3 = b3\n",
    "dove \n",
    "\n",
    "A3=np.array([[8,0,1],[0,12,2],[1,2,-14.0]])\n",
    "b3= np.array([9.0, 14.0,  -11.0])\n",
    "\n",
    "- Verificare senza calcolare il raggio spettrale della matrice di iterazione che il metodo di Gauss-Seidel converge, richiamando il teorema che garantisce la convergenza di Gauss-Seidel per classi particolari di \n",
    "matrici     **punti[1]**.\n",
    "- Implementare il metodo di Gauss-Seidel  e risolvere il sistema lineare A3 x3= b3 con  **punti[3]**.\n",
    "\n",
    "Totale **Punti 12**"
   ]
  },
  {
   "cell_type": "code",
   "execution_count": 26,
   "id": "7c32fc1c-2764-4481-a7c3-5a88a7468dc0",
   "metadata": {},
   "outputs": [
    {
     "name": "stdout",
     "output_type": "stream",
     "text": [
      "A3 simmetrica? True\n",
      "A3 definita positiva? False\n",
      "Indice di cond A3: 1.7651462497889765\n",
      "raggio spettrale Gauss-Seidel  0.03273809523809523\n",
      "[[1.]\n",
      " [1.]\n",
      " [1.]]\n"
     ]
    }
   ],
   "source": [
    "A3=np.array([[8,0,1],[0,12,2],[1,2,-14.0]])\n",
    "b3= np.array([9.0, 14.0, -11.0]).reshape(3, 1)\n",
    "x0_3 = np.zeros_like(b3)\n",
    "\n",
    "eigA3 = np.linalg.eigvals(A3)\n",
    "print(\"A3 simmetrica?\", np.all(A3 == A3.T))\n",
    "print(\"A3 definita positiva?\", np.all(eigA3 > 0))\n",
    "print(\"Indice di cond A3:\", np.linalg.cond(A3))\n",
    "\n",
    "# Il teorema garantisce che il teorema di gauss seidel converge se la matrice del sistema lineare A è simmetrica e definita positiva\n",
    "# In questo caso è simmetrica ma non definita positiva, quindi non converge per questa matrice\n",
    "\n",
    "x3, it3, errv3 = gauss_seidel(A3, b3, x0_3, tol, itmax)\n",
    "\n",
    "print(x3)"
   ]
  },
  {
   "cell_type": "markdown",
   "id": "f543c936-6f8e-4115-b920-d5087ffc2a09",
   "metadata": {},
   "source": [
    "# Esercizio 2"
   ]
  },
  {
   "cell_type": "markdown",
   "id": "d9f3e0cd-b8bb-4e1d-9f41-c77e4d6be284",
   "metadata": {},
   "source": [
    "Implementare le function necessarie per costruire il polinomio interpolante di Lagrange. \n",
    "                                       **[4 punti]**\n",
    "                                                         "
   ]
  },
  {
   "cell_type": "code",
   "execution_count": 202,
   "id": "2d573e62-1d03-40d2-b3e3-6cb1a15f5026",
   "metadata": {},
   "outputs": [],
   "source": [
    "def plagr(xnodi, j):\n",
    "    xzeri = np.zeros_like(xnodi)\n",
    "    n = xnodi.size\n",
    "    if j == 0:\n",
    "        xzeri = xnodi[1:n]\n",
    "    else:\n",
    "        xzeri = np.append(xnodi[0:j], xnodi[j + 1:n])\n",
    "\n",
    "    num = np.poly(xzeri)\n",
    "    den = np.polyval(num, xnodi[j])\n",
    "    p = num / den\n",
    "\n",
    "    return p\n",
    "\n",
    "def interpL(x, y, xv):\n",
    "    n = x.size\n",
    "    m = xv.size\n",
    "    L = np.zeros((m, n))\n",
    "    for j in range(n):\n",
    "        p = plagr(x, j)\n",
    "        L[:, j] = np.polyval(p, xv)\n",
    "\n",
    "    pol = L@y\n",
    "    return pol"
   ]
  },
  {
   "cell_type": "markdown",
   "id": "f17cc9f6-e704-4482-8267-081ed315deb3",
   "metadata": {},
   "source": [
    "Sia assegnata la funzione $f(x)=cos(\\pi x)+sin(\\pi x)$, $ x \\in [0,2]$,\n",
    "facendo uso delle functions implementate precedentemente, si determini il polinomio p che interpola f nei nodi  x0 = 1, x1 = 1.5, x2 = 1.75 e si rappresenti in uno stesso grafico la funzione f, il polinomio p e i punti di interpolazione assegnati;\n",
    "                                          **[2 punti]**"
   ]
  },
  {
   "cell_type": "code",
   "execution_count": 238,
   "id": "565c6ce3-4324-49aa-ac1d-4cafc9d571c9",
   "metadata": {},
   "outputs": [
    {
     "data": {
      "image/png": "[encoded data removed]",
      "text/plain": [
       "<Figure size 640x480 with 1 Axes>"
      ]
     },
     "metadata": {},
     "output_type": "display_data"
    }
   ],
   "source": [
    "f = lambda x: np.cos(np.pi * x) + np.sin(np.pi * x)\n",
    "xx = np.linspace(0, 2, 100)\n",
    "\n",
    "x = np.array([1.0, 1.5, 1.75])\n",
    "\n",
    "pol = InterpL(x, f(x), xx)\n",
    "plt.plot(xx, f(xx), x, f(x), 'ro', xx, pol)\n",
    "plt.show()"
   ]
  },
  {
   "cell_type": "markdown",
   "id": "0e8e47f4-5420-4522-a62a-acccc880f6bb",
   "metadata": {},
   "source": [
    " si calcoli il valore assunto dalla funzione errore E(x) := |f(x) − p(x)| nel punto $x^∗$ = 0.75 e si definisca teoricamente da cosa dipende l'errore che si compie quando al posto del polinomio interpolatore si considera la funzione che ha generato i dati, commentando opportunamente la formula \n",
    "                                                             **[3 punti]**"
   ]
  },
  {
   "cell_type": "code",
   "execution_count": 253,
   "id": "7480687b-3db1-48f5-b68a-2e805ecd83fc",
   "metadata": {},
   "outputs": [
    {
     "data": {
      "image/png": "[encoded data removed]",
      "text/plain": [
       "<Figure size 640x480 with 1 Axes>"
      ]
     },
     "metadata": {},
     "output_type": "display_data"
    },
    {
     "name": "stdout",
     "output_type": "stream",
     "text": [
      "24.9505152535425\n"
     ]
    }
   ],
   "source": [
    "x_ = 0.75\n",
    "x2 = np.append(x_, x.copy())\n",
    "polres = np.polyval(np.flip(pol_), x_)\n",
    "e = np.abs(f(x_) - polres)\n",
    "plt.plot(xx, f(xx), x_, f(x_), 'ro', xx, pol, x_, polres, 'bo')\n",
    "plt.show()\n",
    "\n",
    "print(e)"
   ]
  },
  {
   "cell_type": "markdown",
   "id": "d3928581-2fbd-47a2-98bd-4ae41a427372",
   "metadata": {},
   "source": [
    "si stabilisca qual è il polinomio interpolatore per f passante per i nodi $x^*$ \n",
    ", x0, x1 e x2.   **[1 punto]**"
   ]
  },
  {
   "cell_type": "code",
   "execution_count": 269,
   "id": "9488a405-2620-4323-9fa2-1ae838707b36",
   "metadata": {},
   "outputs": [
    {
     "data": {
      "image/png": "[encoded data removed]",
      "text/plain": [
       "<Figure size 640x480 with 1 Axes>"
      ]
     },
     "metadata": {},
     "output_type": "display_data"
    },
    {
     "ename": "ValueError",
     "evalue": "The truth value of an array with more than one element is ambiguous. Use a.any() or a.all()",
     "output_type": "error",
     "traceback": [
      "\u001b[1;31m---------------------------------------------------------------------------\u001b[0m",
      "\u001b[1;31mValueError\u001b[0m                                Traceback (most recent call last)",
      "Cell \u001b[1;32mIn[269], line 6\u001b[0m\n\u001b[0;32m      3\u001b[0m plt\u001b[38;5;241m.\u001b[39mplot(xx, f(xx), x2, f(x2), \u001b[38;5;124m'\u001b[39m\u001b[38;5;124mro\u001b[39m\u001b[38;5;124m'\u001b[39m, xx, pol2)\n\u001b[0;32m      4\u001b[0m plt\u001b[38;5;241m.\u001b[39mshow()\n\u001b[1;32m----> 6\u001b[0m \u001b[38;5;28mprint\u001b[39m(np\u001b[38;5;241m.\u001b[39many(pol \u001b[38;5;241m>\u001b[39m \u001b[38;5;241m0.74\u001b[39m \u001b[38;5;129;01mand\u001b[39;00m pol \u001b[38;5;241m<\u001b[39m \u001b[38;5;241m0.76\u001b[39m))\n\u001b[0;32m      7\u001b[0m \u001b[38;5;28mprint\u001b[39m(pol2)\n",
      "\u001b[1;31mValueError\u001b[0m: The truth value of an array with more than one element is ambiguous. Use a.any() or a.all()"
     ]
    }
   ],
   "source": [
    "x2 = np.append(x_, x.copy())\n",
    "pol2 = InterpL(x, f(x), xx)\n",
    "plt.plot(xx, f(xx), x2, f(x2), 'ro', xx, pol2)\n",
    "plt.show()\n",
    "\n",
    "print(np.any(pol > 0.74 and pol < 0.76))"
   ]
  },
  {
   "cell_type": "markdown",
   "id": "3f8c549a-d714-47e4-a3c7-5e4c98a827f7",
   "metadata": {},
   "source": [
    "Si calcoli la costante di Lebesgue per il problema di interpolazione in esame  e si dica che ruolo svolge nell'ambito dell'interpolazione polinomiale\n",
    "                               **[3 punti]**"
   ]
  },
  {
   "cell_type": "code",
   "execution_count": 247,
   "id": "f5648620-157a-4b0d-b458-280ef799d075",
   "metadata": {},
   "outputs": [
    {
     "name": "stdout",
     "output_type": "stream",
     "text": [
      "29.0\n"
     ]
    }
   ],
   "source": [
    "n = x.size\n",
    "L = np.zeros((100, 1))\n",
    "for i in range(n):\n",
    "    p = plagr(x, i)\n",
    "    L = L + np.abs(np.polyval(p, xx))\n",
    "cost_leb = np.max(L) # Equivale all'indice di condizionamento del problema dell'interpolazione polinomiale\n",
    "print(cost_leb)"
   ]
  },
  {
   "cell_type": "markdown",
   "id": "a57c0b42-c718-4663-a13c-40b35c01199d",
   "metadata": {},
   "source": [
    "Totale **Punti 13**"
   ]
  },
  {
   "cell_type": "markdown",
   "id": "2e317e55-6983-4f36-9f54-91ab25ee6e3e",
   "metadata": {},
   "source": [
    "## Domande Intelligenza Artificiale\n",
    "**NB: Ogni risposta esatta:  +0.5 punti, ogni risposta errata: -0.5 punti. La mancanza di risposta:  0 punti**"
   ]
  },
  {
   "cell_type": "markdown",
   "id": "11eacd04-c27a-44de-9d44-47c0431c9275",
   "metadata": {},
   "source": [
    "**Risolvere un problema mediante Machine Learning significa**:\n",
    "- Fornire alla macchina i dati affinchè impari da sola a risolvere il problema\n",
    "- Fornire alla macchina solo dati etichettati affinchè impari da sola a risolvere il problema\n",
    "- Fornire alla macchina solo dati non etichettati affinchè impari da sola a risolvere il problema\n",
    "- Fornire alla macchina le esatte istruzioni per risolvere il problema\n",
    "edizione"
   ]
  },
  {
   "cell_type": "markdown",
   "id": "52b1e385-3ea5-4137-88f0-4661d5e23745",
   "metadata": {},
   "source": [
    "**2  A cosa serve il validation set?**\n",
    "\n",
    "-  A trovare i migliori iperparametri del modello\n",
    "\n",
    "-  Ad addestrare il modello\n",
    "\n",
    "-  A testare il modello\n",
    "\n",
    "-  A trovare le etichette dei dati di input"
   ]
  },
  {
   "cell_type": "markdown",
   "id": "aeccbc74-c0d5-46ca-9e99-646df20e8f84",
   "metadata": {},
   "source": [
    "**3  Una classica rete CNN è solitamente composta da:**\n",
    "\n",
    "· Layer convolutivi seguiti da layer di pooling, flatten layer e neuroni completamente connessi\n",
    "\n",
    "· Layer di pooling seguiti da layer convolutivi, flatten layer e neuroni completamente connessi\n",
    "\n",
    "· Layer convolutivi seguiti da layer di pooling, flatten layer e softmax\n",
    "\n",
    "· Layer di pooling seguiti da layer convolutivi, flatten layer e softmax"
   ]
  },
  {
   "cell_type": "markdown",
   "id": "4ab0b3aa-6477-4cba-b2ce-cdb4d34ecdfb",
   "metadata": {},
   "source": [
    "**4 Il livello softmax**\n",
    "- Trasforma i digits della rete in probabilità\n",
    "- Trasforma le probabilità della rete in digits\n",
    "- Normalizza i valori di input della rete\n",
    "- È indispensabile nel task di regressione\n",
    "lla rete"
   ]
  },
  {
   "cell_type": "markdown",
   "id": "0e870471-00c9-44d6-8668-b173ca092cfb",
   "metadata": {},
   "source": [
    "**5 Per una rete neurale, l’apprendimento è legato a:**\n",
    "- \tMinimizzare la funzione obiettivo\n",
    "- Minimizzare la funzione di attivazione\n",
    "- \tMassimizzare il valore dei pesi tramite l’algoritmo di back-propagation\n",
    "- Massimizzare il valore della funzione di training\n"
   ]
  },
  {
   "cell_type": "markdown",
   "id": "db908255-e5db-445d-a7d3-0ade6c91ff8a",
   "metadata": {},
   "source": [
    "**Domande Aperte**"
   ]
  },
  {
   "cell_type": "markdown",
   "id": "033c25a0-67eb-43bd-9c08-021c7b22dbd4",
   "metadata": {},
   "source": [
    "**6. Spiega in modo dettagliato come il learning rate influenza la convergenza di una rete neurale durante il training. Quali sono le conseguenze di un learning rate troppo alto o troppo basso nel training di una rete neurale. Descrivi le principali strategie di  aggiornamentodel  learning rate durante il training di una rete neurale.** [punti 1.5]"
   ]
  },
  {
   "cell_type": "markdown",
   "id": "a36b5eec-ff7b-46f9-a3ad-dedd55fe1c66",
   "metadata": {},
   "source": [
    "**7. Descrivi in dettaglio l'algoritmo di discesa del gradiente con momento. Quali sono le motivazioni che hanno portato alla sua introduzione rispetto alla discesa del gradiente standard? Fornisci la formula matematica dell'aggiornamento dei pesi in questo algoritmo e spiega il ruolo del termine di momento** [punti 3]"
   ]
  },
  {
   "cell_type": "code",
   "execution_count": null,
   "id": "8722083f-dd2e-4c0c-a3a6-472f328d6d65",
   "metadata": {},
   "outputs": [],
   "source": []
  }
 ],
 "metadata": {
  "kernelspec": {
   "display_name": "Python [conda env:base] *",
   "language": "python",
   "name": "conda-base-py"
  },
  "language_info": {
   "codemirror_mode": {
    "name": "ipython",
    "version": 3
   },
   "file_extension": ".py",
   "mimetype": "text/x-python",
   "name": "python",
   "nbconvert_exporter": "python",
   "pygments_lexer": "ipython3",
   "version": "3.12.7"
  }
 },
 "nbformat": 4,
 "nbformat_minor": 5
}
