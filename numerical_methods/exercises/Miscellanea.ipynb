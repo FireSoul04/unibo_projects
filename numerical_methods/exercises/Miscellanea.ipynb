{
 "cells": [
  {
   "cell_type": "code",
   "execution_count": 21,
   "id": "4968569b-f209-4990-9853-db52a73f22bf",
   "metadata": {},
   "outputs": [],
   "source": [
    "import scipy as sp\n",
    "import numpy as np\n",
    "import matplotlib.pyplot as plt\n",
    "from SolveTriangular import *"
   ]
  },
  {
   "cell_type": "markdown",
   "id": "336a926b-86a4-4936-bb3d-0d54d27b99a0",
   "metadata": {},
   "source": [
    "## Esercizio A\n",
    "\n",
    "Data la matrice\n",
    "$$\n",
    "\\left[\n",
    "\\begin{array}{cccc}\n",
    "4.5 & 1 & 3 & 2\\\\\n",
    "1 & -8 & 2 & 1\\\\\n",
    "-1 & -2 & -3 & -1\\\\\n",
    "2 & 6 & 0 & 1\n",
    "\\end{array}\n",
    "\\right ],\n",
    "$$\n",
    "\n",
    "calcolarne la fattorizzazione lu di Gauss  facendo uso della funzione scipy.linalg.lu  e sfruttarla per il calcolo del suo determinante e della sua inversa."
   ]
  },
  {
   "cell_type": "code",
   "execution_count": 14,
   "id": "7010221f-6258-40dd-9ebe-66e753511193",
   "metadata": {},
   "outputs": [
    {
     "name": "stdout",
     "output_type": "stream",
     "text": [
      "[[ 4.5  1.   3.   2. ]\n",
      " [ 1.  -8.   2.   1. ]\n",
      " [-1.  -2.  -3.  -1. ]\n",
      " [ 2.   6.   0.   1. ]]\n"
     ]
    }
   ],
   "source": [
    "A = np.array([[4.5, 1, 3, 2], [1, -8, 2, 1], [-1, -2, -3, -1], [2, 6, 0, 1]])\n",
    "print(A)"
   ]
  },
  {
   "cell_type": "code",
   "execution_count": 17,
   "id": "94090ae9-912d-44a5-bd44-a68e5c1525bb",
   "metadata": {},
   "outputs": [
    {
     "name": "stdout",
     "output_type": "stream",
     "text": [
      "[[1. 0. 0. 0.]\n",
      " [0. 1. 0. 0.]\n",
      " [0. 0. 1. 0.]\n",
      " [0. 0. 0. 1.]]\n"
     ]
    }
   ],
   "source": [
    "PT, L, U = sp.linalg.lu(A)\n",
    "P = PT.T\n",
    "print(P)"
   ]
  },
  {
   "cell_type": "code",
   "execution_count": 18,
   "id": "26ec28f7-7e60-41b3-83f5-cf2038aff85f",
   "metadata": {},
   "outputs": [
    {
     "name": "stdout",
     "output_type": "stream",
     "text": [
      "Determinante di A: 58.00000000000001\n",
      "Determinante con np.linalg.det(A): 57.999999999999986\n"
     ]
    }
   ],
   "source": [
    "detA = np.linalg.det(P) * np.prod(np.diag(U))\n",
    "print(\"Determinante di A:\", detA)\n",
    "print(\"Determinante con np.linalg.det(A):\", np.linalg.det(A))"
   ]
  },
  {
   "cell_type": "code",
   "execution_count": 22,
   "id": "cdde4a1a-0351-42c7-9229-384cff9fb573",
   "metadata": {},
   "outputs": [],
   "source": [
    "n = 4\n",
    "I = np.eye(n)\n",
    "X = np.zeros_like(A)"
   ]
  },
  {
   "cell_type": "code",
   "execution_count": 24,
   "id": "c3cd923b-35ae-492a-9e55-4b9fb05230d8",
   "metadata": {},
   "outputs": [],
   "source": [
    "for i in range(n):\n",
    "    b = I[:, i]\n",
    "    y, flag = Lsolve(L, P@b)\n",
    "    if flag == 0:\n",
    "        x, flag = Usolve(U, y)\n",
    "    X[:, i] = x.reshape(n, )"
   ]
  },
  {
   "cell_type": "code",
   "execution_count": 26,
   "id": "4ac14eb6-36a9-4a88-82c0-48484b27fc2f",
   "metadata": {},
   "outputs": [
    {
     "name": "stdout",
     "output_type": "stream",
     "text": [
      "[[ 0.5862069  -0.36206897  0.34482759 -0.46551724]\n",
      " [-0.01724138 -0.07758621 -0.06896552  0.04310345]\n",
      " [ 0.17241379 -0.22413793 -0.31034483 -0.43103448]\n",
      " [-1.06896552  1.18965517 -0.27586207  1.67241379]]\n",
      "Inversa con np.linalg.inv(A)\n",
      " [[ 0.5862069  -0.36206897  0.34482759 -0.46551724]\n",
      " [-0.01724138 -0.07758621 -0.06896552  0.04310345]\n",
      " [ 0.17241379 -0.22413793 -0.31034483 -0.43103448]\n",
      " [-1.06896552  1.18965517 -0.27586207  1.67241379]]\n"
     ]
    }
   ],
   "source": [
    "print(X)\n",
    "print(\"Inversa con np.linalg.inv(A)\\n\", np.linalg.inv(A))"
   ]
  },
  {
   "cell_type": "markdown",
   "id": "ef4cc6d5-a4a1-4a11-a0d3-f7a1e1a2e68c",
   "metadata": {},
   "source": [
    "## Esercizio A1\n",
    "\n",
    "Data La matrice \n",
    "\n",
    "$$\n",
    "\\left[\n",
    "\\begin{array}{cccc}\n",
    "4.5 & 1 & 3 & 2\\\\\n",
    "1 & -8 & 2 & 1\\\\\n",
    "-1 & -2 & -3 & -1\\\\\n",
    "2 & 6 & 0 & 1\n",
    "\\end{array}\n",
    "\\right ],\n",
    "$$\n",
    "dire se esiste la fattorizzaione LU senza pivotaggio a perno massimo, verificando le ipotesi del teorema di esistenza della fattorizzazione LU"
   ]
  },
  {
   "cell_type": "code",
   "execution_count": 28,
   "id": "d609f500-05f8-452a-9af0-56c2ff26128c",
   "metadata": {},
   "outputs": [
    {
     "name": "stdout",
     "output_type": "stream",
     "text": [
      "4.5\n",
      "-36.99999999999999\n",
      "97.0\n"
     ]
    }
   ],
   "source": [
    "for i in range(1, n):\n",
    "    print(np.linalg.det(A[:i, :i]))"
   ]
  },
  {
   "cell_type": "markdown",
   "id": "1a295546-2b9d-4424-aafd-2425f9e1079a",
   "metadata": {
    "tags": []
   },
   "source": [
    "## Esercizio A2\n",
    "Data la matrice \n",
    "A=np.array([[ 21.    37.    57.5 ], [ 37.    94.    72.5 ], [ 57.5   72.5  186.25]])\n",
    "dire se ammette fattorizzazione di Cholesky, verificando le ipotesi del teorema di Cholesky"
   ]
  },
  {
   "cell_type": "code",
   "execution_count": 30,
   "id": "1f27463d-fce1-4011-bd01-6e0c82acd33b",
   "metadata": {},
   "outputs": [
    {
     "name": "stdout",
     "output_type": "stream",
     "text": [
      "[[ 21.    37.    57.5 ]\n",
      " [ 37.    94.    72.5 ]\n",
      " [ 57.5   72.5  186.25]]\n"
     ]
    }
   ],
   "source": [
    "A2 = np.array([[21, 37, 57.5], [37, 94, 72.5], [57.5, 72.5, 186.25]])\n",
    "print(A2)"
   ]
  },
  {
   "cell_type": "code",
   "execution_count": 32,
   "id": "55f97027-a1ed-4ac2-b250-a5664a26e0d0",
   "metadata": {},
   "outputs": [
    {
     "name": "stdout",
     "output_type": "stream",
     "text": [
      "21.0\n",
      "604.9999999999997\n",
      "-9.326929325488851e-12\n"
     ]
    }
   ],
   "source": [
    "n2 = 3\n",
    "for i in range(1, n2 + 1):\n",
    "    print(np.linalg.det(A2[:i, :i]))"
   ]
  },
  {
   "cell_type": "markdown",
   "id": "bf9eaf45-e9ab-4bfb-b294-6ccd148279e2",
   "metadata": {},
   "source": [
    "## Esercizio B\n",
    "- Implementare la function  per il calcolo del polinomio interpolatore di Lagrange\n",
    "\n",
    "- Realizzare uno script python che interpola le coppie $x_i,y_i$, $i=0,\\cdots,3$\n",
    "dove $x_i,i=0,4$ sono punti equidistanti nell' intervallo [-2,2] e $y_i=f(x_i)$ dove $f(x)=5x^4+2x^2+2x-1$ \n",
    "\n",
    "- Visualizzare il polinomio interpolatore, i nodi dell'interpolazione\n",
    "\n",
    "- Visualizzare l'errore assoluto tra il polinomio interpolatore e la funzione che ha generato i dati\n",
    "\n",
    "- Commentare i risultati alla luce della teoria.\n"
   ]
  },
  {
   "cell_type": "code",
   "execution_count": 52,
   "id": "e688f13a-ecba-439d-a7b8-dd7f84b00d10",
   "metadata": {},
   "outputs": [],
   "source": [
    "def plagr(xnodi, j):\n",
    "    xzeri = np.zeros_like(xnodi)\n",
    "    n = xnodi.size\n",
    "    if j == 0:\n",
    "       xzeri = xnodi[1:n]\n",
    "    else:\n",
    "       xzeri = np.append(xnodi[0:j], xnodi[j + 1:n])\n",
    "    \n",
    "    num = np.poly(xzeri)\n",
    "    den = np.polyval(num, xnodi[j])\n",
    "    \n",
    "    p = num / den\n",
    "    \n",
    "    return p\n",
    "\n",
    "def InterpL(x, y, xx):\n",
    "    n = x.size\n",
    "    m = xx.size \n",
    "    L = np.zeros((m, n))\n",
    "    \n",
    "    for j in range(n):\n",
    "        p = plagr(x, j)\n",
    "        L[:, j] = np.polyval(p, xx) \n",
    "    \n",
    "    return L@y"
   ]
  },
  {
   "cell_type": "code",
   "execution_count": 55,
   "id": "31093623-9ce2-420f-904a-62673496c48a",
   "metadata": {},
   "outputs": [
    {
     "data": {
      "image/png": "[encoded data removed]",
      "text/plain": [
       "<Figure size 640x480 with 1 Axes>"
      ]
     },
     "metadata": {},
     "output_type": "display_data"
    }
   ],
   "source": [
    "n = 4\n",
    "x = np.linspace(-2, 2, n + 1)\n",
    "f = lambda x: 5 * x**4 + 2 * x**2 + 2 * x - 1\n",
    "y = f(x)\n",
    "xv = np.linspace(-2, 2, 100)\n",
    "polL = InterpL(x, y, xv)\n",
    "E = np.abs(polL - f(xv))\n",
    "\n",
    "plt.plot(x, y, 'bo', xv, f(xv), 'g-', xv, polL, 'r-', xv, E)\n",
    "plt.show()"
   ]
  },
  {
   "cell_type": "code",
   "execution_count": 56,
   "id": "597075ab-34b1-475c-a0e6-0f78645c66b2",
   "metadata": {},
   "outputs": [
    {
     "name": "stdout",
     "output_type": "stream",
     "text": [
      "[ 1. -5.  6.]\n"
     ]
    }
   ],
   "source": [
    "aa = np.poly([2, 3])\n",
    "print(aa)"
   ]
  },
  {
   "cell_type": "markdown",
   "id": "ee97d047-97be-43c7-a721-fe588e6a2c4c",
   "metadata": {},
   "source": [
    "## Esercizio C\n",
    "Per i dati $(x_i, y_i)$ riportati nei seguenti array\n",
    "\n",
    "x = np.array([0.0004, 0.2507, 0.5008, 2.0007, 8.0013]) \n",
    "\n",
    "y = np.array([0.0007,0.0162, 0.0288, 0.0309, 0.0310])\n",
    "\n",
    "- costruire la retta di regressione;\n",
    "- costruire la parabola approssimante i dati nel senso dei minimi quadrati;\n",
    "- determinare l'approssimazione ai minimi quadrati espressa in termini di\n",
    "basi esponenziali: $y = a + b e^{-x}+ c e^{-2x}$\n",
    "\n",
    "Quale tra le tre approssimazioni risulta la migliore? (Confrontare i grafici e la norma euclidea al quadrato del vettore dei residui)."
   ]
  },
  {
   "cell_type": "code",
   "execution_count": 61,
   "id": "ea900a63-0c48-465f-9ce2-b5fdfd68755c",
   "metadata": {},
   "outputs": [],
   "source": [
    "def eqnorm(A,b):\n",
    "    G = A.T@A\n",
    "    f = A.T@b \n",
    "    L = sp.linalg.cholesky(G, lower=True)\n",
    "    U = L.T\n",
    "\n",
    "    y, flag = Lsolve(L, f)\n",
    "    if flag == 0:\n",
    "        x, _ = Usolve(U, y)\n",
    "        \n",
    "    return x"
   ]
  },
  {
   "cell_type": "code",
   "execution_count": 70,
   "id": "164644b1-20cf-4469-b985-9087bde14eb4",
   "metadata": {},
   "outputs": [
    {
     "name": "stdout",
     "output_type": "stream",
     "text": [
      "[[1.0000e+00 4.0000e-04]\n",
      " [1.0000e+00 2.5070e-01]\n",
      " [1.0000e+00 5.0080e-01]\n",
      " [1.0000e+00 2.0007e+00]\n",
      " [1.0000e+00 8.0013e+00]]\n",
      "Condizionamento Ac1: 4.663457775986457\n",
      "[[1.00000000e+00 4.00000000e-04 1.60000000e-07]\n",
      " [1.00000000e+00 2.50700000e-01 6.28504900e-02]\n",
      " [1.00000000e+00 5.00800000e-01 2.50800640e-01]\n",
      " [1.00000000e+00 2.00070000e+00 4.00280049e+00]\n",
      " [1.00000000e+00 8.00130000e+00 6.40208017e+01]]\n",
      "Condizionamento Ac1: 65.67493525624798\n",
      "[[1.00000000e+00 4.00000000e-04 1.60000000e-07 6.40000000e-11]\n",
      " [1.00000000e+00 2.50700000e-01 6.28504900e-02 1.57566178e-02]\n",
      " [1.00000000e+00 5.00800000e-01 2.50800640e-01 1.25600961e-01]\n",
      " [1.00000000e+00 2.00070000e+00 4.00280049e+00 8.00840294e+00]\n",
      " [1.00000000e+00 8.00130000e+00 6.40208017e+01 5.12249641e+02]]\n",
      "Condizionamento Ac1: 2317.9797259134607\n"
     ]
    }
   ],
   "source": [
    "xc = np.array([0.0004, 0.2507, 0.5008, 2.0007, 8.0013])\n",
    "yc = np.array([0.0007, 0.0162, 0.0288, 0.0309, 0.0310])\n",
    "\n",
    "nc1 = 1\n",
    "Ac1 = np.vander(xc, increasing=True)[:, :nc1 + 1]\n",
    "print(Ac1)\n",
    "condAc1 = np.linalg.cond(Ac1)\n",
    "print(\"Condizionamento Ac1:\", condAc1)\n",
    "\n",
    "nc2 = 2\n",
    "Ac2 = np.vander(xc, increasing=True)[:, :nc2 + 1]\n",
    "print(Ac2)\n",
    "condAc2 = np.linalg.cond(Ac2)\n",
    "print(\"Condizionamento Ac1:\", condAc2)\n",
    "\n",
    "nc3 = 3\n",
    "Ac3 = np.vander(xc, increasing=True)[:, :nc3 + 1]\n",
    "print(Ac3)\n",
    "condAc3 = np.linalg.cond(Ac3)\n",
    "print(\"Condizionamento Ac1:\", condAc3)"
   ]
  },
  {
   "cell_type": "code",
   "execution_count": 82,
   "id": "08ed0d54-b612-44f5-a41a-b12306cf7fc2",
   "metadata": {},
   "outputs": [
    {
     "name": "stdout",
     "output_type": "stream",
     "text": [
      "[[1.00000000e+00 9.99600080e-01 9.99200320e-01]\n",
      " [1.00000000e+00 7.78255813e-01 6.05682111e-01]\n",
      " [1.00000000e+00 6.06045629e-01 3.67291305e-01]\n",
      " [1.00000000e+00 1.35240582e-01 1.82900149e-02]\n",
      " [1.00000000e+00 3.35026810e-04 1.12242963e-07]]\n",
      "Condizionamento M: 18.45808953019451\n"
     ]
    },
    {
     "data": {
      "image/png": "[encoded data removed]",
      "text/plain": [
       "<Figure size 640x480 with 1 Axes>"
      ]
     },
     "metadata": {},
     "output_type": "display_data"
    }
   ],
   "source": [
    "a1 = eqnorm(Ac1, yc)\n",
    "xvc1 = np.linspace(np.min(xc), np.max(xc))\n",
    "pol1 = np.polyval(np.flip(a1), xvc)\n",
    "\n",
    "a2 = eqnorm(Ac2, yc)\n",
    "xvc2 = np.linspace(np.min(xc), np.max(xc))\n",
    "pol2 = np.polyval(np.flip(a2), xvc2)\n",
    "\n",
    "M = np.zeros((5, 3))\n",
    "M[:, 0] = np.ones((5, ))\n",
    "M[:, 1] = np.exp(-xc)\n",
    "M[:, 2] = np.exp(-2.0 * xc)\n",
    "condM = np.linalg.cond(M)\n",
    "print(M)\n",
    "print(\"Condizionamento M:\", condM)\n",
    "aexp = eqnorm(M, yc)\n",
    "polexp = aexp[0] + aexp[1] * np.exp(-xvc) + aexp[2] * np.exp(-2.0 * xvc)\n",
    "\n",
    "plt.plot(xc, yc, 'ro', xvc, pol1, xvc, pol2, xvc, polexp)\n",
    "plt.show()"
   ]
  },
  {
   "cell_type": "markdown",
   "id": "d3626136-ea3b-47bb-861c-4e5de4a8baaf",
   "metadata": {},
   "source": [
    "# Esercizio D\n",
    "\n",
    "La temperatura T in prossimita' del suolo varia al variare della concentrazione k dell'acido carbonico e della latitudine L. Per k=1.5 la temperatura al suolo subisce una variazione dipendente dalla temperatura secondo la seguente tabella \n",
    "\n",
    "L\t[-55\t-45\t-35\t-25\t-15\t-5\t5\t15\t25\t35\t45\t55\t65]\n",
    "\n",
    "T\t[3.7\t3.7\t3.52\t3.27\t3.2\t3.15\t3.15\t3.25\t3.47\t3.52\t3.65\t3.67\t3.52]\n",
    "\n",
    "Si vuole costruire un MODELLO che descriva la legge T=T(L) anche per latitudini non misurate. \n",
    "Ad esempio si vuole valutare la variazione di temperatura a Londra ( L=51°).\n",
    "mediante interpolazione con un polinomio di grado 12.\n",
    "Valutare e disegnare, inoltre, il polinomio interpolatore di Lagrange in un set di 100 dati equidistanti nell’intervallo min(L), max(L).\n",
    "Descrivere i risultati alla luce della teoria."
   ]
  },
  {
   "cell_type": "markdown",
   "id": "d449c9cc-71ed-4c53-a20e-76c6ee75952b",
   "metadata": {},
   "source": [
    "## Esercizio E\n",
    "\n",
    "-  Implementare il  metodo di Newton Raphson, la variante delle corde e la variante di Shamanskii per la soluzione di un sistema non lineare\n",
    "\n",
    "Risolvere il sistema di equazioni non lineare \n",
    "\n",
    "$$\n",
    "\\left[\n",
    "\\begin{array}{c}\n",
    "x_0^2+x_0x_1=10 \\\\\n",
    " x_1+3x_0x_1^2=57\n",
    "\\end{array}\n",
    "\\right.\n",
    "$$\n",
    "con ciascuno dei tre metodi e confrontare per ciascun metodo il grafico dell'errore relativo tra due iterati successivi, giustificando i risultati alla luce della teoria.\n",
    "\n",
    "- Descrivi la variante del Metodod di Newton-Raphson per calcolare il minimo di una funzione non lineare in più variabili\n",
    "\n",
    " \n",
    "\n",
    "**Nota Bene**: Servirsi del metodo grafico per individuare un \n",
    "iterato iniziale  $X_0$ nell'intorno della soluzione che si vuole approssimare. Visualizzare le \n",
    "curve di livello corrisponenti a z=O delle due superfici z = f1 (x1 ,x2 ) e z = f2(x1 , x 2 ) e \n",
    "definire come iterato iniziale un vettore $X_0$ oppurtuno le cui componenti stanno in un \n",
    "intorno della soluzione (punti di intersezione tra le curve di livello delle due superfici) \\]"
   ]
  }
 ],
 "metadata": {
  "kernelspec": {
   "display_name": "Python [conda env:base] *",
   "language": "python",
   "name": "conda-base-py"
  },
  "language_info": {
   "codemirror_mode": {
    "name": "ipython",
    "version": 3
   },
   "file_extension": ".py",
   "mimetype": "text/x-python",
   "name": "python",
   "nbconvert_exporter": "python",
   "pygments_lexer": "ipython3",
   "version": "3.12.7"
  }
 },
 "nbformat": 4,
 "nbformat_minor": 5
}
