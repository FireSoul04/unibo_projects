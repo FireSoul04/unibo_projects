





import numpy as np

arr1 = np.linspace(0, 10, 20)
arr2 = np.random.randint(1, 5, 20)
arr3 = arr1 + arr2
arr4 = arr3 ** 2

print(arr1)
print(arr2)
print(arr3)
print(arr4)





import matplotlib.pyplot as plt

f = lambda x : np.sin(x**2)/(x**2 + 1)
x = np.linspace(-5, 5, 1100)
y = f(x)

plt.plot(x, y, "r-")
plt.title("funzione")
plt.xlabel("x")
plt.ylabel("y")
plt.show()





import numpy as np

arr = np.random.rand(36)
arr = arr.reshape((6, 6))
ris1 = np.sin(arr)
ris2 = np.mean(arr, axis=1)

print(arr)
print(ris1)
print(ris2)





arr = np.random.randint(-10, 10, 100)
mask = (arr>5) | (arr<-5)
arr_filtered = arr[mask]

print(arr)
print(mask)
print(arr_filtered)
print(np.abs(arr_filtered))





x = np.linspace(1, 5, 10)
y = np.linspace(1, 5, 10)

xx = np.tile(x, 10).reshape(10, 10)
yy = np.repeat(y, 10).reshape(10, 10)

z = np.sin(xx**2 + yy**2)/(xx**2 + yy**2)

print(x)
print(y)
print(xx)
print(yy)
print(z)





arr = np.random.randn(1000)
mat = arr.reshape(100, 10)
mean = np.mean(mat, axis=1)

print(arr)
print(mat)
print(mean)
