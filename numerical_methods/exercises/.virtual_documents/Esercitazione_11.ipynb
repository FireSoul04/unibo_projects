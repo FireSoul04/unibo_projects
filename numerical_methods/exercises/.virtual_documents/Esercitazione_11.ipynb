


import numpy as np
import matplotlib.pyplot as plt





def steepestDescent(A, b, x0, itmax, tol):
    x = x0.copy()
    r = A@x - b
    p = -r
    it = 0
    nb = np.linalg.norm(b)
    errore = np.linalg.norm(r)/nb

    vet_sol = []
    vet_sol.append(x.copy())
    vet_r = []
    vet_r.append(errore)

    while errore >= tol and it < itmax:
        it = it + 1
        Ap = A@p
        alpha = -(r.T@p)/(p.T@Ap)
        x = x + alpha*p
        r = r + alpha*Ap
        vet_sol.append(x.copy())
        errore = np.linalg.norm(r)/nb
        vet_r.append(errore)
        p = -r # Direzione opposta alla direzione del gradiente, quindi è la direzione di massima decrescenza

    vet_iterati = np.vstack([vet.T for vet in vet_sol])
    return x, vet_r, vet_iterati, it


def steepestDescentCL(A, b, x0, X, Y, Z, f, itmax, tol):
    x = x0.copy()

    plt.contour(X, Y, Z, levels=f(x, A, b).flatten())
    plt.plot(x[0], x[1], 'ro')
    r = A@x - b
    p = -r
    it = 0
    nb = np.linalg.norm(b)
    errore = np.linalg.norm(r)/nb

    vet_sol = []
    vet_sol.append(x.copy())
    vet_r = []
    vet_r.append(errore)

    while errore >= tol and it < itmax:
        it = it + 1
        Ap = A@p
        alpha = -(r.T@p)/(p.T@Ap)
        x = x + alpha*p
        plt.contour(X, Y, Z, levels=f(x, A, b).flatten())
        plt.plot(x[0], x[1], 'ro')
        r = r + alpha*Ap
        vet_sol.append(x.copy())
        errore = np.linalg.norm(r)/nb
        vet_r.append(errore)
        p = -r # Direzione opposta alla direzione del gradiente, quindi è la direzione di massima decrescenza

    vet_iterati = np.vstack([vet.T for vet in vet_sol])
    return x, vet_r, vet_iterati, it


def gradienteConiugato(A, b, x0, itmax, tol):
    x = x0.copy()
    r = A@x - b
    p = -r
    it = 0
    nb = np.linalg.norm(b)
    errore = np.linalg.norm(r)/nb

    vet_sol = []
    vet_sol.append(x.copy())
    vet_r = []
    vet_r.append(errore)

    while errore >= tol and it < itmax:
        it = it + 1
        Ap = A@p
        alpha = -(r.T@p)/(p.T@Ap)
        x = x + alpha*p
        rtr_old = r.T@r
        r = r + alpha*Ap
        gamma = (r.T@r)/rtr_old
        vet_sol.append(x.copy())
        errore = np.linalg.norm(r)/nb
        vet_r.append(errore)
        p = -r + gamma*p # Direzione opposta alla direzione del gradiente, quindi è la direzione di massima decrescenza

    vet_iterati = np.vstack([vet.T for vet in vet_sol])
    return x, vet_r, vet_iterati, it


def gradienteConiugatoCL(A, b, x0, X, Y, Z, f, itmax, tol):
    x = x0.copy()
    
    plt.contour(X, Y, Z, levels=f(x, A, b).flatten())
    plt.plot(x[0], x[1], 'ro')
    r = A@x - b
    p = -r
    it = 0
    nb = np.linalg.norm(b)
    errore = np.linalg.norm(r)/nb

    vet_sol = []
    vet_sol.append(x.copy())
    vet_r = []
    vet_r.append(errore)

    while errore >= tol and it < itmax:
        it = it + 1
        Ap = A@p
        alpha = -(r.T@p)/(p.T@Ap)
        x = x + alpha*p
        
        plt.contour(X, Y, Z, levels=f(x, A, b).flatten())
        plt.plot(x[0], x[1], 'ro')
        rtr_old = r.T@r
        r = r + alpha*Ap
        gamma = (r.T@r)/rtr_old
        vet_sol.append(x.copy())
        errore = np.linalg.norm(r)/nb
        vet_r.append(errore)
        p = -r + gamma*p # Direzione opposta alla direzione del gradiente, quindi è la direzione di massima decrescenza

    vet_iterati = np.vstack([vet.T for vet in vet_sol])
    return x, vet_r, vet_iterati, it

















A = np.array([[8, 4], [4, 3]], dtype=float)
b = np.array([8, 10]).reshape(2, 1)
x0 = np.zeros_like(b)
tol = 1e-10
itmax = 200
# x_G_0, vet_r_G, vet_sol_G, itG = steepestDescent(A, b, x0, itmax, tol);
# print("Soluzione:\n", x_G_0, "\nIterazioni:", itG)


def f(x, A, b):
    Ax = A@x
    xAx = x.T@Ax
    bx = b.T@x
    return 0.5*xAx - bx


x = np.linspace(-7, 3, 100)
y = np.linspace(-5, 14, 100)
 
X, Y = np.meshgrid(x, y)
Z = np.zeros(X.shape)
for i in range(len(y)):
    for j in range(len(x)):
        x_coor = X[i][j]
        y_coor = Y[i][j]
        Z[i][j] = f(np.array([[x_coor], [y_coor]]), A, b)
 
fig = plt.figure()
ax = fig.add_subplot(111, projection='3d')

# Plotta la superficie
ax.plot_surface(X, Y, Z, cmap=plt.cm.viridis)

# Mostra il grafico
plt.show() 



x_G_0, vet_r_G, vet_sol_G, itG_0 = steepestDescentCL(A, b, x0, X, Y, Z, f, itmax, tol);

plt.show()
x_Gc_0, vet_r_Gc, vet_sol_Gc, itGc_0 = gradienteConiugatoCL(A, b, x0, X, Y, Z, f, itmax, tol);

plt.show()


print("Soluzione sistema ", x_G_0)
print("Numero di iterati ", itG_0)
# Visualizzazione grafica 3D
# Creazione della griglia per la superficie
fig = plt.figure(figsize=(12, 8))
ax = fig.add_subplot(121, projection='3d')
ax_c = fig.add_subplot(211, projection='3d')

# Plot della superficie

surf = ax.plot_surface(X, Y, Z, cmap='Blues', alpha=0.6, rstride=1, cstride=1, linewidth=0)
surf_c = ax_c.plot_surface(X, Y, Z, cmap='Blues', alpha=0.6, rstride=1, cstride=1, linewidth=0)

# Calcolo di z_iterates
z_iterates_G = np.array([f(vet_sol_G[i, :].reshape(2, 1), A, b) for i in range(vet_sol_G.shape[0])])
z_iterates_Gc = np.array([f(vet_sol_Gc[i, :].reshape(2, 1), A, b) for i in range(vet_sol_Gc.shape[0])])

# Plot del percorso degli iterati
ax.plot(vet_sol_G[:, 0], vet_sol_G[:, 1], z_iterates_G.flatten(), color='red', linewidth=2, label='Percorso a zig-zag')
ax.scatter(vet_sol_G[:5, 0], vet_sol_G[:5, 1], z_iterates_G[:5].flatten(), color='red', s=80, label='Iterati')
ax_c.plot(vet_sol_Gc[:, 0], vet_sol_Gc[:, 1], z_iterates_Gc.flatten(), color='red', linewidth=2, label='Percorso a zig-zag')
ax_c.scatter(vet_sol_Gc[:5, 0], vet_sol_Gc[:5, 1], z_iterates_Gc[:5].flatten(), color='red', s=80, label='Iterati')

# Punto iniziale e minimo

ax.scatter([x0[0, 0]], [x0[1, 0]], [f(x0, A, b)], color='blue', s=200, marker='o', label='Punto iniziale')
ax.scatter([x_G_0[0, 0]], [x_G_0[1, 0]], f(x_G_0,A,b), color='green', s=200, marker='*', label='Minimo trovato')
ax_c.scatter([x0[0, 0]], [x0[1, 0]], [f(x0, A, b)], color='blue', s=200, marker='o', label='Punto iniziale')
ax_c.scatter([x_Gc_0[0, 0]], [x_Gc_0[1, 0]], f(x_G_0,A,b), color='green', s=200, marker='*', label='Minimo trovato')

# Personalizzazione
ax.set_title(f'Metodo del Gradiente per f(x) = 0.5*x^T A x - b^T x')
ax.set_xlabel('x')
ax.set_ylabel('y')
ax.set_zlabel('f(x, y)')
ax.legend()
ax_c.set_title(f'Metodo del Gradiente coniugato per f(x) = 0.5*x^T A x - b^T x')
ax_c.set_xlabel('x')
ax_c.set_ylabel('y')
ax_c.set_zlabel('f(x, y)')
ax_c.legend()
fig.colorbar(surf, ax=ax, shrink=0.5, aspect=5, label='f(x, y)')
fig.colorbar(surf_c, ax=ax_c, shrink=0.5, aspect=5, label='f(x, y)')
plt.show()
print("cond A",np.linalg.norm(A))











def creaPoisson(n):
    d = np.ones((n))*4
    e = -np.ones((n - 1,))
    f = -np.ones((n - 3,))
    A = np.diag(d) + np.diag(e, -1) + np.diag(e, 1) + np.diag(f, 3) + np.diag(f, -3)
    return A


n3 = 10
A3 = creaPoisson(n3)
b3 = np.sum(A, axis=1).reshape(n3, 1)
x0_3 = np.zeros_like(b3)

x_G_3, vet_r_G_3, vet_sol_G_3, itG_3 = steepestDescent(A3, b3, x0_3, itmax, tol)
print("Num it:", itG_3)
print("Soluzione:\n", x_G_3)
x_Gc_3, vet_r_Gc_3, vet_sol_Gc_3, itGc_3 = gradienteConiugato(A3, b3, x0_3, itmax, tol)
print("Num it:", itGc_3)
print("Soluzione:\n", x_Gc_3)

































