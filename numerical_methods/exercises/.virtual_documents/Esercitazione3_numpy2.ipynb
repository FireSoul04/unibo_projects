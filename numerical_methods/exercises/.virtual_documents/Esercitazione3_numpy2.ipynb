





import numpy as np
import time as t

arr1 = np.random.randn(5000, 5000)
arr2 = np.random.randn(5000, 5000)

start = t.time()
arr3 = arr1 + arr2
print("Numpy's sum:", t.time() - start)

start = t.time()
arr4 = np.zeros_like(arr1)
for i in range(5000):
    for j in range(5000):
        arr4[i, j] = arr1[i, j] + arr2[i, j]
print("Python's sum:", t.time() - start)





s = np.linspace(0, 20, 40)
b = s.reshape(4, -1)
print(b.base)





t = np.linspace(0, 4, 100)
b = t.reshape(-1, 4)
print(b.base)





c = np.arange(15, 42, 2)
c.resize(7, 2)
print(c)





arr = np.random.randint(1, 101, 10)
print(arr)





arr = np.random.randint(100, 201, 30)
np.random.shuffle(arr)
print(arr)





arr = np.random.randn(20)
arr = np.random.permutation(arr)
print(arr)





a = np.array(range(10, 19)).reshape(3, 3)
b = a.ravel()
print(b)
print(b.base)





a = np.array(range(10, 19)).reshape(3, 3)
b = a.flatten()
print(b)
print(b.base)





f1 = np.array(range(16))
f2 = np.array(range(16, 32))
a = f1.view()
b = f2.view()
a.resize(4, 4)
b.resize(4, 4)
f3 = a @ b

print(f3)





a = np.random.rand(20).reshape(2, 10)
b = np.array(range(20))
a = a.ravel() + b

print(a)
print(a.base)





f = np.linspace(0, 1, 10).reshape(10, 1)

print(f)





a = np.array([14,13,12,11]).reshape(1, 4)
b = np.array([[4,3,2,1],[9,10,11,12]])
arr = np.concatenate((a, b), axis=0)

print(arr)







































