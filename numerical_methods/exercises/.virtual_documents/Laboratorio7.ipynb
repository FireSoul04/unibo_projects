





import numpy as np
import sympy as sym
import matplotlib.pyplot as plt

def corde(fname, coeff_ang, x0, tolx, tolf, nmax):
    xk = []
    it = 0
    errorex = 1 + tolx
    erroref = 1 + tolf
    while it < nmax and errorex >= tolx and erroref >= tolf:
        fx0 = fname(x0)
        d = fx0/coeff_ang
        x1 = x0 - d
        erroref = abs(fname(x1))
        if x1 != 0:
            errorex = abs(d)/abs(x1)
        else:
            errorex = abs(d)
        x0 = x1
        it = it + 1
        xk.append(x1)
    if it == nmax:
        print("Raggiunto il numero massimo di iterazioni")
    return x1, it, xk

def secanti(fname, coeff_ang, x0, tolx, tolf, nmax):
    xk = []
    it = 0
    errorex = 1 + tolx
    erroref = 1 + tolf
    while it < nmax and errorex >= tolx and erroref >= tolf:
        fx0 = fname(x0)
        d = fx0/coeff_ang
        x1 = x0 - d
        fx1 = fname(x1)
        erroref = abs(fname(x1))
        if x1 != 0:
            errorex = abs(d)/abs(x1)
        else:
            errorex = abs(d)
        coeff_ang = (fx0 - fx1)/(x0 - x1)
        x0 = x1
        it = it + 1
        xk.append(x1)
    if it == nmax:
        print("Raggiunto il numero massimo di iterazioni")
    return x1, it, xk

def newton(fname, dfname, x0, tolx, tolf, nmax):
    xk = []
    it = 0
    errorex = 1 + tolx
    erroref = 1 + tolf
    while it < nmax and errorex >= tolx and erroref >= tolf:
        fx0 = fname(x0)
        coeff_ang = dfname(x0)
        d = fx0/coeff_ang
        x1 = x0 - d
        erroref = abs(fname(x1))
        if x1 != 0:
            errorex = abs(d)/abs(x1)
        else:
            errorex = abs(d)
        x0 = x1
        it = it + 1
        xk.append(x1)
    if it == nmax:
        print("Raggiunto il numero massimo di iterazioni")
    return x1, it, xk

def stima_ordine(xk, iterazioni):
      k = iterazioni - 4
      p = np.log(abs(xk[k + 2] - xk[k + 3])/abs(xk[k + 1] - xk[k + 2]))/np.log(abs(xk[k + 1] - xk[k + 2])/np.abs(xk[k] - xk[k + 1]))
     
      ordine = p
      return ordine


x = sym.symbols('x')
fs = sym.exp(-x) - x - 1
dfs = sym.diff(fs, x, 1)
print(dfs)


f_n = sym.lambdify(x, fs, np)
df_n = sym.lambdify(x, dfs, np)
a = -1.0
b = 2.0
xx = np.linspace(a, b, 100)
plt.plot(xx, f_n(xx), xx, np.zeros_like(xx))


coeff_ang = (f_n(b) - f_n(a))/(b - a)
tolx = 1e-12
tolf = 1e-12
nmax = 100
x0 = -0.5
alpha = 0.0
x1_c, it1_c, xk1_c = corde(f_n, coeff_ang, x0, tolx, tolf, nmax)
x2_c, it2_c, xk2_c = secanti(f_n, coeff_ang, x0, tolx, tolf, nmax)
x3_c, it3_c, xk3_c = newton(f_n, df_n, x0, tolx, tolf, nmax)
print("zero corde", x1_c, "Numero iterazioni", it1_c)
print("zero secante", x2_c, "Numero iterazioni", it2_c)
print("zero newton", x3_c, "Numero iterazioni", it3_c)
print("ordine corde", stima_ordine(xk1_c, it1_c))
print("ordine secante", stima_ordine(xk2_c, it2_c))
print("ordine newton", stima_ordine(xk3_c, it3_c))
e1_c = np.abs(np.array(xk1_c) - alpha)
e2_c = np.abs(np.array(xk2_c) - alpha)
e3_c = np.abs(np.array(xk3_c) - alpha)
plt.semilogy(np.arange(it1_c), e1_c, 'ro')
plt.semilogy(np.arange(it2_c), e2_c, 'go')
plt.semilogy(np.arange(it3_c), e3_c, 'bo')

















import numpy as np
import matplotlib.pyplot as plt
from mpl_toolkits.mplot3d import Axes3D
import sympy as sym
from sympy import symbols, Matrix, lambdify


# Definizione variabili simboliche
x_sym, y_sym = symbols('x_sym y_sym')

# Definizione funzioni simboliche usando variabili simboliche 
       
f1_sym = lambda x_sym,y_sym: x_sym+y_sym-3   #[-1,1]
f2_sym = lambda x_sym,y_sym: x_sym**2+y_sym**2-9



def F_sym(f1_sym,f2_sym):
    return Matrix([[f1_sym(x_sym,y_sym)], [f2_sym(x_sym,y_sym)]])   

# Calcolo della matrice Jacobiana simbolicamente
J_sym = F_sym(f1_sym,f2_sym).jacobian(Matrix([x_sym, y_sym]))

# Converte la matrice jacobiana Simbolica in una funzione che può essere valutata numericamente mediante lambdify
J_numerical = lambdify([x_sym, y_sym], J_sym, np)

# Converte il vettore di funzioni Simbolico in una funzione che può essere valutata numericamente mediante lambdify
F_numerical = lambdify([x_sym, y_sym], F_sym(f1_sym,f2_sym), np)







x = np.arange(-4, 4, 0.1)
y = np.arange(-4, 4, 0.1)
X, Y = np.meshgrid(x, y)
Z=np.zeros_like(X)
superfici=F_numerical(X,Y).squeeze()
 
# Plotta la superficie direttamente
fig = plt.figure()
ax = fig.add_subplot(111, projection='3d')
# Plotta la superficie
ax.plot_surface(X, Y, superfici[0,:,:], cmap='viridis',alpha=0.5)
# Plotta la superficie
ax.plot_surface(X, Y, superfici[1,:,:], cmap='Reds',alpha=0.5)
ax.plot_surface(X, Y, Z, cmap='gray',alpha=0.5)
plt.contour(X, Y,superfici[0,:,:], levels=[0], colors='black')
plt.contour(X, Y,superfici[1,:,:], levels=[0], colors='red')
 
plt.show()



def newton_raphson(initial_guess, F_numerical, J_numerical, tolx, tolf, max_it):
    x = np.array(initial_guess)
    it = 0
    erroreF = 1 + tolf
    erroreX = 1 + tolx
    errore = []
    while it < mat_it and erroreF >= tolf and erroreX >= tolx:
        jx = J_numerical(X[0], X[1])
        if np.linalg.det(jx) == 0:
            print("La matrice jacobiana calcolata nell'iterato precedente non ha rango massimo")
            return None, None, None
        fx = F_numerical(X[0], X[1])
        fx = fx.squeeze()
        s = np.linalg.solve(jx, -fx)
        Xnew = X + s
        normaXnew = np.linalg.norm(Xnew, 1)
        if normaXnew != 0:
            erroreX = np.linalg.norm(s, 1)/normaXnew
        else:
            erroreX = np.linalg.norm(s, 1)
        errore.append(erroreX)
        fXnew = F_numerical(Xnew[0], Xnew[1])
        erroreF = np.linalg.norm(fXnew.squeeze(), 1)
        X = Xnew
        it = it + 1
    return X, it, errore















