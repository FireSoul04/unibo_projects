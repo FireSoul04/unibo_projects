





import sys

print(sys.float_info)





beta = 2.0
t = 53 # cifre mantissa
p = 52
spacing = beta**(p + 1 - t)
print("spacing:", spacing)


x = 2.0**52
y = x + spacing
print("x =", x, "| y =", y)


z = x + 0.5
print("x =", x, "| x + 0.5 =", z)


q = y + 0.5
print("y =", y, "| y + 0.5 =", q)





L = -1022
U = 1023
cardin = (beta**t - beta**(t - 1))*(U - L + 1)*2 + 1
print("Cardinalita =", cardin)





eps = 2.0**(-52)
p = 0
x = beta**(p + 1 - t)
print("x =", x, "| 1 + x =", x + 1, "| 1 + x/2 =", x/2 + 1)





a = 0.1234567890123400e+16
b = -0.1234567890123401e+16
c = 0.06
print("(a + b) + c =", ((a + b) + c))
print("(a + c) + b =", ((a + c) + b))
print("a + (b + c) =", (a + (b + c)))

a = 0.23371258e-4
b = 0.33678429e+2
c = -0.33677911e+2
print("(a + b) + c =", ((a + b) + c))
print("(a + c) + b =", ((a + c) + b))
print("a + (b + c) =", (a + (b + c)))





import numpy as np

arr = np.full(10, 0.1)
s = 0.0
for n in arr:
    s = s + n
    print(s)
print("sum =", s)
print("numpy sum =", arr.sum())





y1 = lambda x: np.sqrt(x**2 + 1) - x
y2 = lambda x: 1/(np.sqrt(x**2 + 1) + x)
x1 = 7777
x2 = 77777777
print("x1:",x1)
print("y1(x1):",y1(x1))
print("y2(x1):",y2(x1))
err_rel_x1 = np.abs(y1(x1) - y2(x1))/np.abs(y2(x1))
print("err_rel_x1:", err_rel_x1)

print("x2:",x2)
print("y1(x2):",y1(x2))
print("y2(x2):",y2(x2))
err_rel_x2 = np.abs(y1(x2) - y2(x2))/np.abs(y2(x2))
print("err_rel_x2:", err_rel_x2)





import matplotlib.pyplot as plt
    
exp = np.arange(0, 21)
x = 10.0**exp

A = lambda x: 1/x - 1/(x + 1)
B = lambda x: 1/(x*(x + 1))
err_rel = np.abs(A(x) - B(x))/np.abs(B(x))

plt.loglog(x, err_rel)
plt.show()





import math as m

f = lambda n: (1/n + 1)**n
k = np.arange(0, 17)
n = 10.0**k

err_rel = lambda n: np.abs(f(n) - m.exp(1))/np.abs(m.exp(1))

plt.subplot(1,2,1)
plt.plot(n, f(n), 'r-')
plt.title("f(n)")
plt.subplot(1,2,2)
plt.plot(n, err_rel(n), 'b-')
plt.title("Err rel")
plt.show()
