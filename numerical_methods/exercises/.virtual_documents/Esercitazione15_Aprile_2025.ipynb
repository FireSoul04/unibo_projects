





import numpy as np
import matplotlib.pyplot as plt
from SolveTriangular import *





def Jacobi(A, b, x0, tol, it_max):
    n = A.shape[0]
    d = np.diag(A)
    E = np.tril(A, -1)
    F = np.triu(A, 1)
    N = -(E + F)
    invM = np.diag(1.0/d) # perché l'inversa di una matrice diagonale è la diagonale dei reciproci
    T = invM@N
    autovalori = np.linalg.eigvals(T)
    raggio_spettrale = np.max(np.abs(autovalori))
    print("Raggio spettrale Jacobi:", raggio_spettrale)

    it = 0
    er_vet = []
    errore = 1 + tol
    while it < it_max and errore > tol:
        x = (b + N@x0)/d.reshape(n, 1)
        errore = np.linalg.norm(x - x0)/np.linalg.norm(x)
        er_vet.append(errore)
        x0 = x.copy()
        it = it + 1
    return x, it, er_vet





def GaussSeidel(A, b, x0, tol, it_max):
    n = A.shape[0]
    d = np.diag(A)
    D = np.diag(d)
    E = np.tril(A, -1)
    F = np.triu(A, 1)
    N = -F
    invM = np.linalg.inv(E + D)
    T = invM@N
    autovalori = np.linalg.eigvals(T)
    raggio_spettrale = np.max(np.abs(autovalori))
    print("Raggio spettrale Gauss Seidel:", raggio_spettrale)

    it = 0
    er_vet = []
    errore = 1 + tol
    while it < it_max and errore > tol:
        x, fl = Lsolve(D + E, b + N@x0)
        errore = np.linalg.norm(x - x0)/np.linalg.norm(x)
        er_vet.append(errore)
        x0 = x.copy()
        it = it + 1
    return x, it, er_vet


def GaussSeidelSor(A, b, x0, tol, it_max, omega):
    n = A.shape[0]
    d = np.diag(A)
    D = np.diag(d)
    E = np.tril(A, -1)
    F = np.triu(A, 1)
    Momega = D + omega*E
    Nomega = (1 - omega)*D - omega*F
    Tomega = np.linalg.inv(Momega)@Nomega
    autovalori = np.linalg.eigvals(Tomega)
    raggio_spettrale = np.max(np.abs(autovalori))
    print("Raggio spettrale Gauss Seidel:", raggio_spettrale, " omega:", omega)

    M = D + E
    N = -F
    
    it = 0
    er_vet = []
    errore = 1 + tol
    while it < it_max and errore > tol:
        xtilde, fl = Lsolve(M, b + N@x0)
        x = (1 - omega)*x0 + omega*xtilde
        errore = np.linalg.norm(x - x0)/np.linalg.norm(x)
        er_vet.append(errore)
        x0 = x.copy()
        it = it + 1
    return x, it, er_vet





#A = np.array([[8, 1, 3], [3, 5, 1], [1, 1, 17]], dtype=float)
#A = np.array([[3, 0, 4],[7, 4, 3],[-1, -1 ,-2]], dtype=float
#A = np.array([[1, 3, 2], [7, 8, 3], [14, 3, 10]], dtype=float)
#A = np.array([[5, 0, -1, 2],[ -2, 4, 1, 0],[0, -1, 4, -1],[ 2, 0, 0, 3]], dtype=float)
A = np.array([[9, 1, 16], [1, 11, 1], [16, 1, 29]], dtype=float)
n = A.shape[0]
b = np.sum(A, axis=1).reshape(n, 1)
tol = 1e-8
it_max = 1000
x0 = np.zeros_like(b)
xJ, itJ, er_vetJ = Jacobi(A, b, x0, tol, it_max)
print("Soluzione Jacobi:", xJ)
print("Iterazioni Jacobi:", itJ)

xG, itG, er_vetG = GaussSeidel(A, b, x0, tol, it_max)
print("Soluzione Gauss Seidel:", xG)
print("Iterazioni Gauss Seidel:", itG)

plt.loglog(np.arange(0, itJ), er_vetJ)
plt.loglog(np.arange(0, itG), er_vetG)
plt.show()








def creaPoisson(n):
    d = np.full((n,), 4)
    e = np.full((n - 1,), -1)
    f = np.full((n - 3,), -1)

    A = np.diag(d) + np.diag(e, -1) + np.diag(e, 1) + np.diag(f, -3) + np.diag(f, 3)
    
    return A


n5 = 10
A5 = creaPoisson(n5)
print(A5)


b5 = np.sum(A5, axis=1).reshape(n5, 1)
x0_5 = np.zeros_like(b5)
tol = 1e-10
it_max = 1000
xJ5, itJ5, er_vetJ5 = Jacobi(A5, b5, x0_5, tol, it_max)
xG5, itG5, er_vetG5 = GaussSeidel(A5, b5, x0_5, tol, it_max)
omega = 1.4
xG_sor5, itG_sor5, er_vetG_sor5 = GaussSeidelSor(A5, b5, x0_5, tol, it_max, omega)
print("Soluzione Jacobi:", xJ5)
print("Iterazioni Jacobi:", itJ5)
print("Soluzione Gauss Seidel:", xG5)
print("Iterazioni Gauss Seidel:", itG5)
print("Soluzione Gauss Seidel Sor:", xG_sor5)
print("Iterazioni Gauss Seidel Sor:", itG_sor5)


plt.semilogy(np.arange(0, itJ5), er_vetJ5, np.arange(0, itG5), er_vetG5, np.arange(0, itG_sor5), er_vetG_sor5)
plt.legend(["Jacobi", "Gauss Seidel", "Gauss Seidel Sor Omega " + str(omega)])
plt.show()
