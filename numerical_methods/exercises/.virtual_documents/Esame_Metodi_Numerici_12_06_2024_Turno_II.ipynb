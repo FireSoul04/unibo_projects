





import numpy as np
import sympy as sym
from sympy import symbols, Matrix, lambdify
import matplotlib.pyplot as plt
x = sym.symbols('x')
fs = 2 * x**4 - 3.5 * x**3 + 3/4.0 * x**2 + x - 1.0 / 4
dfs = sym.diff(fs, x, 1)
fp = lambdify(x, dfs, np)
f = lambdify(x, fs, np)
xx = np.linspace(-1, 2.0, 100)

plt.plot(xx, f(xx), xx, np.zeros_like(xx), 'r-')
plt.show()


import math
def sign(x):
    """
    Funzione segno che restituisce 1 se x è positivo, 0 se x è zero e -1 se x è negativo.
    """
    return math.copysign(1, x)


def stima_ordine(xk,iterazioni):
    #Vedi dispensa allegata per la spiegazione
    
    k=iterazioni-4
    p=np.log(abs(xk[k+2]-xk[k+3])/abs(xk[k+1]-xk[k+2]))/np.log(abs(xk[k+1]-xk[k+2])/abs(xk[k]-xk[k+1]));
    
    ordine=p
    return ordine


def newton(fname,fpname,x0,tolx,tolf,nmax):
    xk=[]
   
    it=0
    errorex=1+tolx
    erroref=1+tolf
    while errorex > tolx and erroref > tolf and it <= nmax:
       
       fx0=fname(x0)
       if np.abs(fpname(x0)) <= np.spacing(1):
            print(" derivata prima nulla in x0")
            return None, None,None
       d=fx0 / fpname(x0) 

       x1=x0 - d
       fx1=fname(x1)
       erroref=np.abs(fx1)
       if x1!=0:
            errorex=np.abs(d) / np.abs(x1)
       else:
            errorex=np.abs(d)

       it=it+1
       x0=x1
       xk.append(x1)
      
    if it==nmax:
        print('Newton: raggiunto massimo numero di iterazioni \n')
    
    return x1,it,xk


def newton_modificato(fname,fpname,m,x0,tolx,tolf,nmax):
    xk=[]
   
    it=0
    errorex=1+tolx
    erroref=1+tolf
    while errorex > tolx and erroref > tolf and it <= nmax:
       
       fx0=fname(x0)
       if np.abs(fpname(x0)) <= np.spacing(1):
            print(" derivata prima nulla in x0")
            return None, None,None
       d=(fx0 / fpname(x0))*m

       x1=x0 - d
       fx1=fname(x1)
       erroref=np.abs(fx1)
       if x1!=0:
            errorex=np.abs(d) / np.abs(x1)
       else:
            errorex=np.abs(d)

       it=it+1
       x0=x1
       xk.append(x1)
      
    if it==nmax:
        print('Newton: raggiunto massimo numero di iterazioni \n')
    
    return x1,it,xk


def metodo_bisezione(fname, a, b, tolx):
    fa=fname(a)
    fb=fname(b)
    if sign(fa) * sign(fb) >= 0:
        print("Non è possibile applicare il metodo di bisezione \n")
        return None, None,None
    
    it = 0
    v_xk = []
    
    while np.abs(b - a) > tolx:
        xk = a + (b - a) / 2
        v_xk.append(xk)
        it += 1
        fxk=fname(xk)
        if fxk==0:
            return xk, it, v_xk
        if sign(fxk) * sign(fa) > 0:
            a = xk
            fa = fxk 
        elif sign(fxk) * sign(fb) > 0:
            b = xk
            fb = fxk
    
    return xk, it, v_xk


a = 0.0
b = 0.6
tolx = 1e-10
tolf = 1e-10
xbis, itbis, xkbis = metodo_bisezione(f, a, b, tolx)
print("Soluzione:", xbis, " Iterazioni:", itbis)


x0 = 2.0
nmax = 100
x3N, it3N, xk3N = newton(f, fp, x0, tolx, tolf, nmax)
print(x3N, it3N)
ordineN = stima_ordine(xk3N, it3N)
print("Ordine Newton:", ordineN)


m = 2
x3Nm, it3Nm, xk3Nm = newton_modificato(f, fp, m, x0, tolx, tolf, nmax)
print(x3Nm, it3Nm)
ordineNm = stima_ordine(xk3Nm, it3Nm)
print("Ordine Newton modificato:", ordineNm)


























**
