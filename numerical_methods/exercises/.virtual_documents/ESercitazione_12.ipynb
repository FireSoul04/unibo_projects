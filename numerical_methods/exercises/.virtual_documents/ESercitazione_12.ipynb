





import numpy as np
import scipy.linalg as spLin
import matplotlib.pyplot as plt
from SolveTriangular import *


def eqnorm(A, b):
    G = A.T@A
    condG = np.linalg.cond(G)
    print("Condizionamento G ", condG)

    f = A.T@b

    L = spLin.cholesky(G, lower=True)
    U = L.T
    z, flag = Lsolve(L, f)
    if flag == 0:
        a, flag = Usolve(U, z)

    return a


x = np.array([-3.5, -3, -2, -1.5, -0.5, 0.5, 1.7, 2.5, 3])
y = np.array([-3.9, -4.8, -3.3, -2.5, 0.3, 1.8, 4, 6.9, 7.1])
n = 4 # Grado del polinomio di approssimazione nel senso dei minimi quadrati
n1 = n + 1 # Gradi di libertà di un polinomio di grado n
A = np.vander(x, increasing=True)[:, :n1]
print(A)


coeff_eqn = eqnorm(A, y)
print(coeff_eqn)


m = x.shape[0]
xv = np.linspace(np.min(x), np.max(x), 100)
pol_eqn = np.polyval(np.flip(coeff_eqn), xv)
plt.plot(x, y, 'ro', xv, pol_eqn)
plt.show()

errore_eqn = np.linalg.norm(A@coeff_eqn - y.reshape(m, 1))**2
aa = A@coeff_eqn
print("errore eqn ", errore_eqn)
print("y.shape ", y.shape)
print("aa.shape ", aa.shape)





def qrLS(A, b):
    Q, R = spLin.qr(A)
    h = Q.T@b
    n = R.shape[1]
    m = R.shape[0]
    h1 = h[:n].reshape(n, 1)
    h2 = h[n:].reshape(n - m, 1)
    R1 = R[n:, ]
    x = Usolve(R1 - h1, h2)

    return x


x = np.array([-3.5, -3, -2, -1.5, -0.5, 0.5, 1.7, 2.5, 3])
y = np.array([-3.9, -4.8, -3.3, -2.5, 0.3, 1.8, 4, 6.9, 7.1])
n = 4 # Grado del polinomio di approssimazione nel senso dei minimi quadrati
n1 = n + 1 # Gradi di libertà di un polinomio di grado n
A = np.vander(x, increasing=True)[:, :n1]
coeff_eqn = qrLS(A, y)
print(coeff_eqn)


m = x.shape[0]
xv = np.linspace(np.min(x), np.max(x), 100)
pol_eqn = np.polyval(np.flip(coeff_eqn), xv)
plt.plot(x, y, 'ro', xv, pol_eqn)
plt.show()

errore_eqn = np.linalg.norm(A@coeff_eqn - y.reshape(m, 1))**2
aa = A@coeff_eqn
print("errore eqn ", errore_eqn)
print("y.shape ", y.shape)
print("aa.shape ", aa.shape)





def svdLS(A, b):
    m, n = A.shape
    U, s, VT = spLin.svd(A)
    V = VT.T
    thresh = np.spacing(1)*m*s[0]
    k = np.count_nonzero(s > thresh) # Il rango della matrice A
    d = U.T@b
    d1 = d[:k].reshape(k, 1)
    s1 = s[:k].reshape(k, 1)
    c = d1 / s1
    x = V[:, k]@c
    residuo = np.linalg.norm(d[k:n])**2
    return x, residuo







































