








import numpy as np

x = np.arange(1.0, 7.0)
A = np.vander(x, increasing=True)
print(A)
KA = np.linalg.cond(A, 1)
print("Condizionamento di A ", KA)


b = np.sum(A, axis=1).reshape(6, 1)
print(b)


x = np.linalg.solve(A, b)
print(x)


bper = b.copy()
bper[0] = bper[0] + 0.025
xper = np.linalg.solve(A, bper)
print(xper)


errore_dati = np.linalg.norm(bper - b, 1)/np.linalg.norm(b, 1)
errore_soluzione = np.linalg.norm(xper - x, 1)/np.linalg.norm(x, 1)
print("Errore dati -->", errore_dati, " errore soluzione -->", errore_soluzione, " K(A) -->", KA)








import scipy as sp

x = np.arange(1.0, 7.0)
A3 = sp.linalg.hilbert(4)
print(A3)
KA = np.linalg.cond(A3, 1)
print("Condizionamento di A ", KA)


b = np.ones(4).reshape(4, 1)
print(b)


x = sp.linalg.solve(A3, b)
print(x)


bper = b.copy()
bper[0] = bper[0] + 0.01
xper = sp.linalg.solve(A3, bper)
print(xper)


errore_dati = sp.linalg.norm(bper - b, 1)/sp.linalg.norm(b, 1)
errore_soluzione = sp.linalg.norm(xper - x, 1)/sp.linalg.norm(x, 1)
print("Errore dati -->", errore_dati, " errore soluzione -->", errore_soluzione, " K(A) -->", KA)








import numpy as np
import scipy as sp
from scipy.linalg import lu
A=np.array([[2,1],[3,4]])
PT,L,U=lu(A)  #Restituisce in output la trasposta della matrice di Permutazione
P=PT.copy()   #P è la matrice di permutazione
print("A=",A)
print("L=",L)
print("U=",U)
print("P=",P)
#LU è la fattorizzazione di P*A (terorema 2)
A1=P@A # equivale al prodotto matrice x matrice np.dot(P,A)
A1Fatt=L@U # equivale a np.dot(L,U)
print("Matrice P*A \n", A1)
print("Matrice ottenuta moltipicando Le ed U \n",A1Fatt)






from scipy.linalg import cholesky
A=np.array([[2,1,3],[1,5,7],[3,7,12]])
print(A)


L=cholesky(A,lower=True)
print(L)
A1=L@L.T
print("A1=\n",A1)





from scipy.linalg import qr
A=np.array([[2,1,3],[1,5,7],[3,7,12]])
Q,R=qr(A)
print("Q=",Q)
print("R=",R)
A1=Q@R
print(A1)





from SolveTriangular import *


def LUsolve(P, L, U, b):
    y, flag = Lsolve(L, P@b)
    if flag == 0:
        x, flag = Usolve(U, y)
    else:
        return [], flag
        
    return x, flag





















