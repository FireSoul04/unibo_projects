{
 "cells": [
  {
   "cell_type": "markdown",
   "id": "b97be3ab-d6dd-495f-a342-e5e837cfb8bc",
   "metadata": {},
   "source": [
    "# Esercitazione 4 - 11 Marzo 2025\n",
    " "
   ]
  },
  {
   "cell_type": "markdown",
   "id": "3f58ec10-478d-463a-9828-9f4d7fbd2f2c",
   "metadata": {},
   "source": [
    "Esplorate le caratteristiche dell'insieme dei numeri di macchina F($\\beta$,t,L,U) sul vostro calcolatore utilizzando il comando sys.float_info, dopo aver importato im modulo sys:\n",
    "\n",
    "import sys\n",
    "\n",
    "print(sys.float_info)"
   ]
  },
  {
   "cell_type": "code",
   "execution_count": 5,
   "id": "8d63f07c-f329-4ba4-ae80-b28043d752c7",
   "metadata": {},
   "outputs": [
    {
     "name": "stdout",
     "output_type": "stream",
     "text": [
      "sys.float_info(max=1.7976931348623157e+308, max_exp=1024, max_10_exp=308, min=2.2250738585072014e-308, min_exp=-1021, min_10_exp=-307, dig=15, mant_dig=53, epsilon=2.220446049250313e-16, radix=2, rounds=1)\n"
     ]
    }
   ],
   "source": [
    "import sys\n",
    "\n",
    "print(sys.float_info)"
   ]
  },
  {
   "cell_type": "markdown",
   "id": "224ac7e6-31df-4f15-8ffc-9c82bd21c82e",
   "metadata": {},
   "source": [
    "- **1.**  Calcolare lo spacing in  $[2^{52}, 2^{53}]$.\n",
    "    - Sia $x=2^{52}$ individuare il numero successivo a $2^{52}$ ed assegnarlo ad una variabile  y.\n",
    "    - Cosa succede se consideriamo il valore z=x+0.5?\n",
    "    - Cosa succede se consideriamo il valore q=y+0.5?\n",
    "  "
   ]
  },
  {
   "cell_type": "code",
   "execution_count": 3,
   "id": "14200e98-8e6e-47cf-b66e-b871e4262456",
   "metadata": {},
   "outputs": [
    {
     "name": "stdout",
     "output_type": "stream",
     "text": [
      "spacing: 1.0\n"
     ]
    }
   ],
   "source": [
    "beta = 2.0\n",
    "t = 53 # cifre mantissa\n",
    "p = 52\n",
    "spacing = beta**(p + 1 - t)\n",
    "print(\"spacing:\", spacing)"
   ]
  },
  {
   "cell_type": "code",
   "execution_count": 16,
   "id": "32a69b38-0206-4c8a-aea9-2a2492a91f69",
   "metadata": {},
   "outputs": [
    {
     "name": "stdout",
     "output_type": "stream",
     "text": [
      "x = 4503599627370496.0 | y = 4503599627370497.0\n"
     ]
    }
   ],
   "source": [
    "x = 2.0**52\n",
    "y = x + spacing\n",
    "print(\"x =\", x, \"| y =\", y)"
   ]
  },
  {
   "cell_type": "code",
   "execution_count": 17,
   "id": "5d9cb68e-23d4-461b-bfdf-0fd685aaa40f",
   "metadata": {},
   "outputs": [
    {
     "name": "stdout",
     "output_type": "stream",
     "text": [
      "x = 4503599627370496.0 | x + 0.5 = 4503599627370496.0\n"
     ]
    }
   ],
   "source": [
    "z = x + 0.5\n",
    "print(\"x =\", x, \"| x + 0.5 =\", z)"
   ]
  },
  {
   "cell_type": "code",
   "execution_count": 18,
   "id": "556024b5-a82b-41ed-a98e-329945aa0f5d",
   "metadata": {},
   "outputs": [
    {
     "name": "stdout",
     "output_type": "stream",
     "text": [
      "y = 4503599627370497.0 | y + 0.5 = 4503599627370498.0\n"
     ]
    }
   ],
   "source": [
    "q = y + 0.5\n",
    "print(\"y =\", y, \"| y + 0.5 =\", q)"
   ]
  },
  {
   "cell_type": "markdown",
   "id": "c73d1758-eb82-48af-8618-6dfb522dcdd6",
   "metadata": {},
   "source": [
    "- **2** Calcolare la cardinalità dell'insieme dei numeri finiti di Python"
   ]
  },
  {
   "cell_type": "code",
   "execution_count": 19,
   "id": "1c8f5fb8-7e08-4290-a4a1-7af8f728152a",
   "metadata": {},
   "outputs": [
    {
     "name": "stdout",
     "output_type": "stream",
     "text": [
      "Cardinalita = 1.842872967520007e+19\n"
     ]
    }
   ],
   "source": [
    "L = -1022\n",
    "U = 1023\n",
    "cardin = (beta**t - beta**(t - 1))*(U - L + 1)*2 + 1\n",
    "print(\"Cardinalita =\", cardin)"
   ]
  },
  {
   "cell_type": "markdown",
   "id": "cee853bd-aca6-47f4-980f-7e44473f7523",
   "metadata": {},
   "source": [
    "- **3**  Verificare numericamente che $\\texttt{eps} = 2^{-52}$, spacing nell'intervallo $[1, 2]$,\n",
    "è il piu' piccolo $x$ tale che $fl(1 + x)$ è  diverso da $1$."
   ]
  },
  {
   "cell_type": "code",
   "execution_count": 29,
   "id": "97095eac-f217-4cc1-8177-467c5afad112",
   "metadata": {},
   "outputs": [
    {
     "name": "stdout",
     "output_type": "stream",
     "text": [
      "x = 2.220446049250313e-16 | 1 + x = 1.0000000000000002 | 1 + x/2 = 1.0\n"
     ]
    }
   ],
   "source": [
    "eps = 2.0**(-52)\n",
    "p = 0\n",
    "x = beta**(p + 1 - t)\n",
    "print(\"x =\", x, \"| 1 + x =\", x + 1, \"| 1 + x/2 =\", x/2 + 1)"
   ]
  },
  {
   "cell_type": "markdown",
   "id": "d19cd104-d1ea-4444-996c-0a9672063450",
   "metadata": {},
   "source": [
    "- **4.** Siano $a=0.1234567890123400 e+16$, $b=-0.1234567890123401 e+16$, $c=0.06$. \n",
    "  Calcolare $(a+b)+c$, $(a+c)+b$, $a+(b+c)$. Che cosa si osserva? Ripetere l'esercizio con $a=0.23371258 e-4$, $b=0.33678429 e+2$, $c=-0.33677911 e+2$."
   ]
  },
  {
   "cell_type": "code",
   "execution_count": 48,
   "id": "efe9dd2d-62c6-40a2-ba33-441ff7d47bfa",
   "metadata": {},
   "outputs": [
    {
     "name": "stdout",
     "output_type": "stream",
     "text": [
      "(a + b) + c = -0.94\n",
      "(a + c) + b = -1.0\n",
      "a + (b + c) = -1.0\n",
      "(a + b) + c = 0.0005413712580022434\n",
      "(a + c) + b = 0.0005413712580022434\n",
      "a + (b + c) = 0.0005413712579995743\n"
     ]
    }
   ],
   "source": [
    "a = 0.1234567890123400e+16\n",
    "b = -0.1234567890123401e+16\n",
    "c = 0.06\n",
    "print(\"(a + b) + c =\", ((a + b) + c))\n",
    "print(\"(a + c) + b =\", ((a + c) + b))\n",
    "print(\"a + (b + c) =\", (a + (b + c)))\n",
    "\n",
    "a = 0.23371258e-4\n",
    "b = 0.33678429e+2\n",
    "c = -0.33677911e+2\n",
    "print(\"(a + b) + c =\", ((a + b) + c))\n",
    "print(\"(a + c) + b =\", ((a + c) + b))\n",
    "print(\"a + (b + c) =\", (a + (b + c)))"
   ]
  },
  {
   "cell_type": "markdown",
   "id": "269a23ac-daeb-49f4-b1f1-26a3b5cd8300",
   "metadata": {},
   "source": [
    "- **5** Costruire un numpy array costituito da n=10 valori tutti uguali a 0.1\n",
    "-     Effettuate la somma utilizzando un ciclo for.\n",
    "-     Effettuate la somma effettuando la somma con la funzione sum del modulo numpy.\n",
    "  Cosa osservate? Cercate di giustificare i risultati "
   ]
  },
  {
   "cell_type": "code",
   "execution_count": 7,
   "id": "8241358b-65b2-402a-a99f-91b4a0c21651",
   "metadata": {},
   "outputs": [
    {
     "name": "stdout",
     "output_type": "stream",
     "text": [
      "0.1\n",
      "0.2\n",
      "0.30000000000000004\n",
      "0.4\n",
      "0.5\n",
      "0.6\n",
      "0.7\n",
      "0.7999999999999999\n",
      "0.8999999999999999\n",
      "0.9999999999999999\n",
      "sum = 0.9999999999999999\n",
      "numpy sum = 1.0\n"
     ]
    }
   ],
   "source": [
    "import numpy as np\n",
    "\n",
    "arr = np.full(10, 0.1)\n",
    "s = 0.0\n",
    "for n in arr:\n",
    "    s = s + n\n",
    "    print(s)\n",
    "print(\"sum =\", s)\n",
    "print(\"numpy sum =\", arr.sum())"
   ]
  },
  {
   "cell_type": "markdown",
   "id": "960d25c1-9677-4b1e-92c1-c16870d520b6",
   "metadata": {},
   "source": [
    "- **6.** Si considerino le espressioni $y_1=\\sqrt{x^2+1}-x$ e $y_2=\\frac{1}{\\sqrt{x^2+1}+x}$. Calcolare il valore di $y_1$ e $y_2$ per $x=7777$ e $x=77777777$. Che cosa si osserva? Commentare i risultati ottenuti."
   ]
  },
  {
   "cell_type": "code",
   "execution_count": 65,
   "id": "031bfa3e-51af-40d0-afb3-b8d708a0e692",
   "metadata": {},
   "outputs": [
    {
     "name": "stdout",
     "output_type": "stream",
     "text": [
      "x1: 7777\n",
      "y1(x1): 6.429214317904552e-05\n",
      "y2(x1): 6.429214323431402e-05\n",
      "err_rel_x1: 8.59646147292077e-10\n",
      "x2: 77777777\n",
      "y1(x2): 0.0\n",
      "y2(x2): 6.428571492857143e-09\n",
      "err_rel_x2: 1.0\n"
     ]
    }
   ],
   "source": [
    "y1 = lambda x: np.sqrt(x**2 + 1) - x\n",
    "y2 = lambda x: 1/(np.sqrt(x**2 + 1) + x)\n",
    "x1 = 7777\n",
    "x2 = 77777777\n",
    "print(\"x1:\",x1)\n",
    "print(\"y1(x1):\",y1(x1))\n",
    "print(\"y2(x1):\",y2(x1))\n",
    "err_rel_x1 = np.abs(y1(x1) - y2(x1))/np.abs(y2(x1))\n",
    "print(\"err_rel_x1:\", err_rel_x1)\n",
    "\n",
    "print(\"x2:\",x2)\n",
    "print(\"y1(x2):\",y1(x2))\n",
    "print(\"y2(x2):\",y2(x2))\n",
    "err_rel_x2 = np.abs(y1(x2) - y2(x2))/np.abs(y2(x2))\n",
    "print(\"err_rel_x2:\", err_rel_x2)"
   ]
  },
  {
   "cell_type": "markdown",
   "id": "e3d8c3b3-d514-41ec-a6f2-eb22311ab157",
   "metadata": {},
   "source": [
    "- **7.** Valutare in aritmetica floating point l'espressione\n",
    "$$A(x)=\\frac{1}{x}-\\frac{1}{(x+1)}$$  nel vettore   $x=[10^0, 10^1,... ,10^{20}]$ contenente potenze successive  di $10$,  Si calcoli per ogni elemento di x l'errore relativo considerando come valore esatto quello calcolato usando  l'espressione algebricamente equivalente\n",
    "$$\n",
    "B(x)=\\frac{1}{x (x+1)}.\n",
    "$$ Si visualizzi l'errore relativo in un grafico in scala logaritmica su $x$ e $y$"
   ]
  },
  {
   "cell_type": "code",
   "execution_count": 15,
   "id": "be121771-5c8b-4d13-9710-f62c90f4e6be",
   "metadata": {},
   "outputs": [
    {
     "data": {
      "image/png": "[encoded data removed]",
      "text/plain": [
       "<Figure size 640x480 with 1 Axes>"
      ]
     },
     "metadata": {},
     "output_type": "display_data"
    }
   ],
   "source": [
    "import matplotlib.pyplot as plt\n",
    "    \n",
    "exp = np.arange(0, 21)\n",
    "x = 10.0**exp\n",
    "\n",
    "A = lambda x: 1/x - 1/(x + 1)\n",
    "B = lambda x: 1/(x*(x + 1))\n",
    "err_rel = np.abs(A(x) - B(x))/np.abs(B(x))\n",
    "\n",
    "plt.loglog(x, err_rel)\n",
    "plt.show()"
   ]
  },
  {
   "cell_type": "markdown",
   "id": "9f6294cc-b0df-40b8-a1f5-450f4e756ffa",
   "metadata": {},
   "source": [
    "- **8.** Scrivere uno script Matlab che fornisca le approssimazioni di $e=\\exp(1)$ ottenute con la formula\n",
    "$f(n)=(1/n+1)^n$ per $n=10^k$ e  $k=0, ..., 16$. Visualizzare: un grafico con i valori di $f(n)$ al variare di n ed un grafico con i valori dell'errore relativo (considerando come valore esatto il valore math.exp(1)).  Cosa si osserva? Commentare i risultati ottenuti."
   ]
  },
  {
   "cell_type": "code",
   "execution_count": 128,
   "id": "089bdff9-3748-480a-828e-145bd59a072a",
   "metadata": {},
   "outputs": [
    {
     "data": {
      "image/png": "[encoded data removed]",
      "text/plain": [
       "<Figure size 640x480 with 2 Axes>"
      ]
     },
     "metadata": {},
     "output_type": "display_data"
    }
   ],
   "source": [
    "import math as m\n",
    "\n",
    "f = lambda n: (1/n + 1)**n\n",
    "k = np.arange(0, 17)\n",
    "n = 10.0**k\n",
    "\n",
    "err_rel = lambda n: np.abs(f(n) - m.exp(1))/np.abs(m.exp(1))\n",
    "\n",
    "plt.subplot(1,2,1)\n",
    "plt.plot(n, f(n), 'r-')\n",
    "plt.title(\"f(n)\")\n",
    "plt.subplot(1,2,2)\n",
    "plt.plot(n, err_rel(n), 'b-')\n",
    "plt.title(\"Err rel\")\n",
    "plt.show()"
   ]
  }
 ],
 "metadata": {
  "kernelspec": {
   "display_name": "Python [conda env:base] *",
   "language": "python",
   "name": "conda-base-py"
  },
  "language_info": {
   "codemirror_mode": {
    "name": "ipython",
    "version": 3
   },
   "file_extension": ".py",
   "mimetype": "text/x-python",
   "name": "python",
   "nbconvert_exporter": "python",
   "pygments_lexer": "ipython3",
   "version": "3.12.7"
  }
 },
 "nbformat": 4,
 "nbformat_minor": 5
}
