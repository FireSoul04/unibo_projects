{
 "cells": [
  {
   "cell_type": "markdown",
   "id": "9edf6b43-5c77-43f5-a179-9986fc68abf8",
   "metadata": {},
   "source": [
    "## Simulazione dell'esame di Metodi Numerici\n"
   ]
  },
  {
   "cell_type": "markdown",
   "id": "ff8dd546-5e8d-4dde-ab61-51251c05bad2",
   "metadata": {},
   "source": [
    "## Esercizio 1\n"
   ]
  },
  {
   "cell_type": "markdown",
   "id": "378dc3b4-702c-4e2f-b388-fc5275db9a75",
   "metadata": {},
   "source": [
    "# Esercizio 1\n",
    "Nel file ``testI.mat`` sono memorizzati la matrice A ed il vettore b. \n",
    "\n",
    " - Verificare che per risolvere il sistema Ax=b sia possibile utilizzare i due metodi di discesa visti a lezione. Richiamare il teorema che  garantisce che risolvere un sistema lineare con specifiche proprietà equivale a trovare il minimo di un opportuni funzionale quadratico.  [**Punti 2**]\n",
    " - implementare entrambi gli algoritmi e dire quante iterazioni sono necessarie per ciascuno di essi  per calcolare la soluzione con una toll=1e-6 e maxit=4000. Visualizzare in un grafico l'errore in scala logaritmica ad ogni iterazione per ciascuno dei due metodi. [**Punti 5**]\n",
    " - Verificare se la matrice è  malcondizionata, dire teoricamente cosa questo implica in termini di velocità di  convergenza alla soluzione di ciascuno dei due metodi, richiamando il risultato teorico visto a lezione. [**Punti 2**]\n",
    "\n",
    " - Costruire la matrice A1, ottenuta a partire da A sommandole una matrice diagonale con elementi sulla\n",
    "      diagonali tutti uguali a 0.05\n",
    "   nel seguente modo:\n",
    "   \n",
    "   A1=A+np.eye(A.shape[0])*0.05\n",
    "   \n",
    "   e termine noto b1, costruito in maniera tale che la soluzione del sistema A1 x1 =b1 sia il vettore formato da tutti 1.  Risolvere il sistema lineare con matrice dei coefficienti A1 e termine noto b1, sia con il metodo del gradiente che con il metodo del gradiente coniugato. Osservare il numero di iterazioni eseguito da ciascun metodo e giustificare i risultati  [**Punti 2**]\n",
    "  \n",
    "   **Totale: Punti 11**\n",
    "\n",
    "Per la lettura dei dati procedere nel seguente modo:\n",
    "\n",
    "``from scipy.io import loadmat``\n",
    "\n",
    "``import numpy as np``\n",
    "\n",
    "``dati = loadmat('testI.mat')``\n",
    "\n",
    "``A=dati[\"A\"] ``\n",
    "\n",
    "``A=A.astype(float)``\n",
    "\n",
    "`` b=dati[\"b\"] ``\n",
    "\n",
    "`` b=b.astype(float)``\n",
    "\n",
    "\n",
    "\n",
    "\n",
    "\n"
   ]
  },
  {
   "cell_type": "code",
   "execution_count": 5,
   "id": "85407d26-9b98-4e08-92bb-6b0ba7e279d9",
   "metadata": {},
   "outputs": [],
   "source": [
    "from scipy.io import loadmat\n",
    "import numpy as np\n",
    "\n",
    "dati = loadmat('test_symI.mat')\n",
    "A=dati[\"A\"] \n",
    "A=A.astype(float)\n",
    "b=dati[\"b\"]\n",
    "b=b.astype(float)"
   ]
  },
  {
   "cell_type": "code",
   "execution_count": 9,
   "id": "4371301f-44ff-4cab-9509-57fc9eabd060",
   "metadata": {},
   "outputs": [
    {
     "name": "stdout",
     "output_type": "stream",
     "text": [
      "A simmetrica? True\n",
      "A def pos? True\n"
     ]
    }
   ],
   "source": [
    "eig = np.linalg.eigvals(A)\n",
    "\n",
    "print(\"A simmetrica?\", np.all(A == A.T))\n",
    "print(\"A def pos?\", np.all(eig > 0))"
   ]
  },
  {
   "cell_type": "markdown",
   "id": "d4fd6b39-8501-479a-b403-99dd577bede4",
   "metadata": {},
   "source": [
    "Il teorema dice che per le matrici simmetriche e definite positive, la soluzione del sistema lineare Ax = b equivale a trovare il minimo della funzione f(x) = 1/2<Ax, x> - <b, x>"
   ]
  },
  {
   "cell_type": "code",
   "execution_count": 18,
   "id": "41cdc660-3985-42ec-b7b6-30faffa4da47",
   "metadata": {},
   "outputs": [],
   "source": [
    "def steepestdescent(A,b,x0,itmax,tol):\n",
    "    n,m=A.shape\n",
    "    if n!=m:\n",
    "        print(\"Matrice non quadrata\")\n",
    "        return [],[]\n",
    "    # inizializzare le variabili necessarie\n",
    "    x = x0\n",
    "    r = A@x - b\n",
    "    p = -r \n",
    "    it = 0\n",
    "    nb=np.linalg.norm(b)\n",
    "    errore=np.linalg.norm(r)/nb\n",
    "    vec_sol=[]\n",
    "    vec_sol.append(x.copy())\n",
    "    vet_r=[]\n",
    "    vet_r.append(errore)\n",
    "    # utilizzare il metodo del gradiente per trovare la soluzione\n",
    "    while errore >= tol and it < itmax:\n",
    "        it=it+1\n",
    "        Ap=A@p\n",
    "        alpha = -(r.T@p) / (p.T@Ap)\n",
    "        x = x + alpha * p\n",
    "        vec_sol.append(x.copy())\n",
    "        r= r + alpha * Ap \n",
    "        errore=np.linalg.norm(r)/nb\n",
    "        vet_r.append(errore)\n",
    "        p = -r \n",
    "    iterates_array = np.vstack([arr.T for arr in vec_sol])\n",
    "    return x,vet_r,iterates_array,it"
   ]
  },
  {
   "cell_type": "code",
   "execution_count": 20,
   "id": "35a6b594-0039-48e4-aebd-30d767003193",
   "metadata": {},
   "outputs": [],
   "source": [
    "def conjugate_gradient(A,b,x0,itmax,tol):\n",
    "    n,m=A.shape\n",
    "    if n!=m:\n",
    "        print(\"Matrice non quadrata\")\n",
    "        return [],[]\n",
    "    x = x0\n",
    "    r = A.dot(x) - b\n",
    "    p = -r\n",
    "    it = 0\n",
    "    nb=np.linalg.norm(b)\n",
    "    errore=np.linalg.norm(r)/nb\n",
    "    vec_sol=[]\n",
    "    vec_sol.append(x0.copy())\n",
    "    vet_r=[]\n",
    "    vet_r.append(errore)\n",
    "    # utilizzare il metodo del gradiente coniugato per calcolare la soluzione\n",
    "    while errore >= tol and it < itmax:\n",
    "        it=it+1\n",
    "        Ap=A.dot(p)\n",
    "        alpha = -(r.T@p) / (p.T@Ap)\n",
    "        x = x + alpha * p\n",
    "        vec_sol.append(x.copy())\n",
    "        rtr_old= r.T@r\n",
    "        r= r + alpha * Ap\n",
    "        gamma= (r.T@r) / rtr_old\n",
    "        errore=np.linalg.norm(r)/nb\n",
    "        vet_r.append(errore)\n",
    "        p = -r + gamma * p\n",
    "    iterates_array = np.vstack([arr.T for arr in vec_sol])\n",
    "    return x,vet_r,iterates_array,it"
   ]
  },
  {
   "cell_type": "code",
   "execution_count": 52,
   "id": "086c8062-0755-46fa-af11-aeb35dfd8078",
   "metadata": {},
   "outputs": [
    {
     "data": {
      "image/png": "[encoded data removed]",
      "text/plain": [
       "<Figure size 640x480 with 1 Axes>"
      ]
     },
     "metadata": {},
     "output_type": "display_data"
    }
   ],
   "source": [
    "import matplotlib.pyplot as plt\n",
    "\n",
    "tol = 1e-6\n",
    "maxit = 4000\n",
    "x0 = np.zeros_like(b)\n",
    "\n",
    "x_g, vet_err_g, vet_x_g, it_g = steepestdescent(A, b, x0, maxit, tol)\n",
    "x_gc, vet_err_gc, vet_x_gc, it_gc = conjugate_gradient(A, b, x0, maxit, tol)\n",
    "\n",
    "plt.semilogy(np.arange(it_g + 1), vet_err_g, np.arange(it_gc + 1), vet_err_gc)\n",
    "plt.show()"
   ]
  },
  {
   "cell_type": "code",
   "execution_count": 62,
   "id": "c1eea95b-9d81-4933-9d1a-aaac0038e711",
   "metadata": {},
   "outputs": [
    {
     "name": "stdout",
     "output_type": "stream",
     "text": [
      "Indice di condizionamento A: 9999.999999996193\n"
     ]
    }
   ],
   "source": [
    "print(\"Indice di condizionamento A:\", np.linalg.cond(A))"
   ]
  },
  {
   "cell_type": "markdown",
   "id": "23ed7ae9-db09-4e91-84c7-7c25aa0a3c8c",
   "metadata": {},
   "source": [
    "Poiché la matrice ha indice di condizionamento maggiore di 10^3, la matrice è mal condizionata e poiché il fattore di convergenza di steepest descent è data da (K(A) - 1) / (K(A) + 1), mentre per gradiente coniugato è (sqrt(K(A)) - 1) / (sqrt(K(A)) + 1). Tanto più è alto K(A), tanto più si avvicina a zero, quindi ha convergenza più lenta. Il metodo del gradiente coniugato è più veloce poiché dipende meno dall'indice di condizionamento."
   ]
  },
  {
   "cell_type": "code",
   "execution_count": 91,
   "id": "84fc2b91-3ff1-4c08-85b9-0c5cb4c4048d",
   "metadata": {},
   "outputs": [
    {
     "name": "stdout",
     "output_type": "stream",
     "text": [
      "Condizionamento di A1: 20.958083832335358\n",
      "Iterazioni gradiente: 120\n",
      "Iterazioni gradiente coniugato: 33\n"
     ]
    }
   ],
   "source": [
    "A1=A+np.eye(A.shape[0])*0.05\n",
    "x1 = np.ones_like(b)\n",
    "b0 = np.zeros_like(b)\n",
    "b1 = A1@x1\n",
    "\n",
    "b1_g, vet_err_g1, vet_b1_g1, it_g1 = steepestdescent(invA1, b1, b0, maxit, tol)\n",
    "b1_gc, vet_err_gc1, vet_b1_gc1, it_gc1 = conjugate_gradient(invA1, b1, b0, maxit, tol)\n",
    "\n",
    "print(\"Condizionamento di A1:\", np.linalg.cond(A1))\n",
    "\n",
    "print(\"Iterazioni gradiente:\", it_g1)\n",
    "print(\"Iterazioni gradiente coniugato:\", it_gc1)"
   ]
  },
  {
   "cell_type": "markdown",
   "id": "44a89757-99d6-464d-afbe-3fc0f8d19316",
   "metadata": {},
   "source": [
    "Poiché il fattore di convergenza di steepest descent è data da (K(A) - 1) / (K(A) + 1), mentre per gradiente coniugato è (sqrt(K(A)) - 1) / (sqrt(K(A)) + 1) e poiché la matrice A1 è ben condizionata, converge con un numero minore di passi."
   ]
  },
  {
   "cell_type": "markdown",
   "id": "7f29d3fc-3800-4a2e-93a1-9c31f878c266",
   "metadata": {},
   "source": [
    "## Esercizio 2 ##\n",
    "\n",
    "Siano assegnati i numpy array\n",
    "\n",
    "x =[1.0,1.2,1.4,1.6,1.8,2.0,2.2,2.4,2.6,2.8,3.0] \n",
    "\n",
    "y =[1.18,1.26,1.23,1.37,1.37,1.45,1.42,1.46,1.53,1.59,1.59] \n",
    "                                                               \n",
    "contenenti rispettivamente le ascisse e le ordinate di 11 punti nel piano.                                                          "
   ]
  },
  {
   "cell_type": "markdown",
   "id": "2fa94727-34cb-4782-b764-c56b7e95f321",
   "metadata": {},
   "source": [
    "Scrivere lo script python in cui:"
   ]
  },
  {
   "cell_type": "markdown",
   "id": "30cd6520-ed15-4c05-bf8c-1261c002b60f",
   "metadata": {},
   "source": [
    "- si calcola il polinomio di approssimazione ai minimi quadrati di grado 1 dei punti assegnati, sviluppando le functions necessarie. e lo si valuti su 200 punti equidistanti nell'intervallo [1,3]  [**Punti: 4**]"
   ]
  },
  {
   "cell_type": "code",
   "execution_count": 134,
   "id": "d5160e37-0d21-40dc-bb30-af231ce8db73",
   "metadata": {},
   "outputs": [],
   "source": [
    "import scipy as sp\n",
    "from SolveTriangular import *\n",
    "\n",
    "def eqnorm(A,b):\n",
    "    G=A.T@A\n",
    "    f=A.T@b\n",
    "    L = sp.linalg.cholesky(G, lower=True)\n",
    "    U = L.T\n",
    "    y, flag = Lsolve(L, f)\n",
    "    if flag == 0:\n",
    "        x, flag = Usolve(U, y)\n",
    "    return x"
   ]
  },
  {
   "cell_type": "code",
   "execution_count": 207,
   "id": "96d3c095-a7ea-4080-94ca-c98776d394a7",
   "metadata": {},
   "outputs": [],
   "source": [
    "x =np.array([1.0,1.2,1.4,1.6,1.8,2.0,2.2,2.4,2.6,2.8,3.0])\n",
    "y =np.array([1.18,1.26,1.23,1.37,1.37,1.45,1.42,1.46,1.53,1.59,1.59])\n",
    "\n",
    "xx = np.linspace(1, 3, 200)\n",
    "\n",
    "A = np.vander(x, 2, increasing=True)\n",
    "pol = eqnorm(A, y)"
   ]
  },
  {
   "cell_type": "markdown",
   "id": "148b9058-2505-4f5e-97c8-6db9a372d025",
   "metadata": {},
   "source": [
    "- si calcola il polinomio di interpolazione dei punti assegnati sviluppando le functions necessarie e lo si valuti su 200 punti equidistanti nell'intervallo [1,3]  [**Punti: 4**]"
   ]
  },
  {
   "cell_type": "code",
   "execution_count": 210,
   "id": "a1ec659e-6575-4b27-abc6-3c31d350a01c",
   "metadata": {},
   "outputs": [],
   "source": [
    "def plagr(xnodi,j):\n",
    "    xzeri=np.zeros_like(xnodi)\n",
    "    n=xnodi.size\n",
    "    if j==0:\n",
    "        xzeri=xnodi[1:]\n",
    "    else:\n",
    "        xzeri=np.append(xnodi[:j], xnodi[j + 1:])\n",
    "    num= np.poly(xzeri)\n",
    "    den= np.polyval(num, xnodi[j])\n",
    "    p= num/den\n",
    "    return p"
   ]
  },
  {
   "cell_type": "code",
   "execution_count": 211,
   "id": "0c0fc0d3-324d-4230-9761-c47f8f8acee9",
   "metadata": {},
   "outputs": [],
   "source": [
    "def InterpL(x, y, xx):\n",
    "    n=x.size\n",
    "    m=xx.size \n",
    "    L=np.zeros((m,n))\n",
    "    for j in range(n):\n",
    "        p=plagr(x, j)\n",
    "        L[:,j]=np.polyval(p, xx)\n",
    "    return L@y"
   ]
  },
  {
   "cell_type": "code",
   "execution_count": 214,
   "id": "aaa0197c-eb0e-4ae2-97a2-fb8e800a7318",
   "metadata": {},
   "outputs": [],
   "source": [
    "pol2 = InterpL(x, y, xx)"
   ]
  },
  {
   "cell_type": "markdown",
   "id": "ccbf2e51-4085-4cfb-a411-e04d142ff647",
   "metadata": {},
   "source": [
    "- Si modifichino le ordinate dei punti assegnati, facendo uso della formula   $\\hat{y_i}=2*x_i+1$, $i=1,...,11$, e si ricalcoli il polinomio interpolante ed il polinomio di approssimazione di grado 1, a partire dalle coppie $(x_i,\\hat{y_i})$, $i=1,11$   [**Punti: 1**]"
   ]
  },
  {
   "cell_type": "code",
   "execution_count": 217,
   "id": "edefaab2-2317-444a-8232-a23eaf78865c",
   "metadata": {},
   "outputs": [],
   "source": [
    "y2 = 2 * x + 1\n",
    "\n",
    "pol3 = eqnorm(A, y2)\n",
    "pol4 = InterpL(x, y2, xx)"
   ]
  },
  {
   "cell_type": "markdown",
   "id": "6758a777-c7c6-4459-bdc7-8e6ec235ca98",
   "metadata": {},
   "source": [
    "- Si visualizzi in un grafico il polinomio interpolante, il polinomio di approssimazione di grado 1 ed i punti$(x_i,y_i)$, i=1,11 ed in un altro grafico il polinomio interpolante, il polinomio di approssimazione di grado 1 ed i $(x_i,\\hat{y_i})$, $i=1,11$  [**Punti:1**]"
   ]
  },
  {
   "cell_type": "code",
   "execution_count": 250,
   "id": "9fbf662c-36f1-486b-b3a5-a4ef2134d411",
   "metadata": {},
   "outputs": [
    {
     "data": {
      "image/png": "[encoded data removed]",
      "text/plain": [
       "<Figure size 640x480 with 1 Axes>"
      ]
     },
     "metadata": {},
     "output_type": "display_data"
    },
    {
     "data": {
      "image/png": "[encoded data removed]",
      "text/plain": [
       "<Figure size 640x480 with 1 Axes>"
      ]
     },
     "metadata": {},
     "output_type": "display_data"
    }
   ],
   "source": [
    "plt.plot(xx, np.polyval(np.flip(pol), xx), 'g-', xx, pol2, 'r--', x, y, 'bo')\n",
    "plt.show()\n",
    "\n",
    "plt.plot(xx, np.polyval(np.flip(pol3), xx), 'g-', xx, pol4, 'r--', x, y2, 'bo')\n",
    "plt.show()"
   ]
  },
  {
   "cell_type": "markdown",
   "id": "a77ba739-c5b7-4f04-8f37-30f1584c2e90",
   "metadata": {},
   "source": [
    "- Si fornisca una spiegazione teorica dei risultati ottenuti\n",
    "  [**Punti: 4**]"
   ]
  },
  {
   "cell_type": "markdown",
   "id": "95b7d2bc-5276-4854-b6bc-de4647ade507",
   "metadata": {},
   "source": [
    "Si ha che nel primo caso l'errore non è nullo poiché la derivata k-esima della funzione è diversa da zero per ogni k da 0 a n + 1, mentre nel secondo caso l'errore è nullo poiché la derivata n + 1-esima della funzione è uguale a zero nel caso."
   ]
  },
  {
   "cell_type": "markdown",
   "id": "a37c8888-3dfe-4ea5-a93b-e0adab565e1b",
   "metadata": {},
   "source": [
    "                                                                        Totale 14 punti"
   ]
  },
  {
   "cell_type": "markdown",
   "id": "911860d3-45d8-45fc-99f2-bf79c64f1a80",
   "metadata": {},
   "source": [
    "## Domanda intelligenza artificiale"
   ]
  },
  {
   "cell_type": "markdown",
   "id": "31f72b3e-3533-4866-bf02-44fea1b7c825",
   "metadata": {},
   "source": [
    "- Importanza del learning rate nell'allenamento di una rete neurale \n",
    "[**Punti: 1**]\n",
    "- Illustra l'algoritmo di backpropagation per il calcolo delle derivate parziale della funzione costo rispetto ai pesi di tutti i layer, nel caso di una MLP con 1 nodo di input, 3 layer nascosti formati da un solo nodo, ed 1 nodo di output. [**Punti: 4**] \n",
    " \n",
    "- Tecniche di Ottimizzazione: metodo di discesa del gradient batch, metodo del gradiente stocastico (SGD) ,metodo del gradiente stocastico minibatch. [**Punti: 2**]\n",
    "\n",
    "\n",
    "    [**Totale: punti 7**]\n"
   ]
  },
  {
   "cell_type": "code",
   "execution_count": null,
   "id": "b1093f4a-2764-405d-8bdb-3867f47d9097",
   "metadata": {},
   "outputs": [],
   "source": []
  }
 ],
 "metadata": {
  "kernelspec": {
   "display_name": "Python [conda env:base] *",
   "language": "python",
   "name": "conda-base-py"
  },
  "language_info": {
   "codemirror_mode": {
    "name": "ipython",
    "version": 3
   },
   "file_extension": ".py",
   "mimetype": "text/x-python",
   "name": "python",
   "nbconvert_exporter": "python",
   "pygments_lexer": "ipython3",
   "version": "3.12.7"
  }
 },
 "nbformat": 4,
 "nbformat_minor": 5
}
