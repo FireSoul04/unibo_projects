{
 "cells": [
  {
   "cell_type": "markdown",
   "id": "d2903ef7-4c36-4b4f-b8dd-01fa2f35dfc5",
   "metadata": {},
   "source": [
    "## Esercitazione 9   del   15  Aprile 2025\n"
   ]
  },
  {
   "cell_type": "markdown",
   "id": "66ae0b30-e823-4742-9b43-95268605d358",
   "metadata": {},
   "source": [
    "## Metodi iterativi di Jacobi, Guass-Seidel e Gausseidel_SOR per la soluzione numerica di un sistema lineare"
   ]
  },
  {
   "cell_type": "code",
   "execution_count": 28,
   "id": "1441370f-b623-4483-9652-ef566cd0f043",
   "metadata": {},
   "outputs": [],
   "source": [
    "import numpy as np\n",
    "import matplotlib.pyplot as plt\n",
    "from SolveTriangular import *"
   ]
  },
  {
   "cell_type": "markdown",
   "id": "28bc92ed-296e-4af1-9b6a-839bf95f81ca",
   "metadata": {},
   "source": [
    "## Esercizio 1\n",
    "Implementare la  funzione $jacobi(A,b,x0,toll,itmax)$ per risolvere il  sistema lineare Ax=b utilizzando il Metodo iterativo di Jacobi. \n",
    "La funzione prende in input:\n",
    "- A: matrice dei coefficienti\n",
    "- b: termine noto\n",
    "- x0: vettore iniziale della stessa dimensione di b\n",
    "- toll: tolleranza per il criterio di arresto\n",
    "- itmax: iterazioni massime oltre le quali il metodo si ferma\n",
    "\n",
    "Restituisce in output\n",
    "- la soluzione x\n",
    "- l'errore ad ogni iterazione calcolato come $||x^{(k)}-x^{(k-1)}||/||x^{(k)}||$\n",
    "\n",
    "Calcola\n",
    "- d= np.diag(A) #Estrae la diagonale di A in un 1d numpy array\n",
    "- D=np.diag(d) #Costruisce la matrice diagonale avente d come elementi della diagonale.\n",
    "- E=np.tril(A,-1) #Costruisce la matrice E, formata dagli elementi della matrice A sotto la diagonale \n",
    "                 principale esclusi gli elementi diagonali (vedi teoria)\n",
    "- F=np.triu(A,1) #Costruisce la matrice F, formata dagli elementi della matrice A sopra la diagonale \n",
    "                 principale esclusi gli elementi diagonali (vedi teoria)\n",
    "- il raggio spettrale della matrice di iterazione $T=-D^{(-1)}(E+F)$ e la norma infinito della stessa matrice e li stampa\n",
    "\n",
    "- Implementare in formato  matriciale, l'aggiornamento della soluzione ad ogni iterazione:\n",
    "\n",
    "$$x^{(k)}=D^{(-1)}(b-(E+F)x^{(k-1)})$$\n",
    "\n",
    "Implementare un criterio di arresto per il procedimento iterativo in termini di : $||x^{(k)}-x^{(k-1)}||/||x^{(k)}|| <toll$"
   ]
  },
  {
   "cell_type": "code",
   "execution_count": null,
   "id": "ef99aed5-6cfa-46e9-a653-603fa9925c2a",
   "metadata": {},
   "outputs": [],
   "source": [
    "def jacobi(A,b,x0,toll,it_max):\n",
    "    errore=1000\n",
    "    d=np.diag(A)\n",
    "    n=A.shape[0]\n",
    "    invM=np.diag(1/d)\n",
    "    E=np.tril(A, -1)\n",
    "    F=np.triu(A, 1)\n",
    "    N= -(E + F)\n",
    "    T=invM@N\n",
    "    autovalori=np.linalg.eigvals(T)\n",
    "    raggiospettrale=np.max(np.abs(autovalori))\n",
    "    print(\"raggio spettrale jacobi\", raggiospettrale)\n",
    "    it=0\n",
    "    \n",
    "    er_vet=[]\n",
    "    while it<=it_max and errore>=toll:\n",
    "        x=(b + N@x0) / d.T\n",
    "        errore=np.linalg.norm(x - x0) / np.linalg.norm(x)\n",
    "        er_vet.append(errore)\n",
    "        x0=x.copy()\n",
    "        it=it+1\n",
    "    return x,it,er_vet"
   ]
  },
  {
   "cell_type": "code",
   "execution_count": 10,
   "id": "b67c4324-9825-43eb-9b4e-358057598361",
   "metadata": {},
   "outputs": [],
   "source": [
    "def Jacobi(A, b, x0, tol, it_max):\n",
    "    n = A.shape[0]\n",
    "    d = np.diag(A)\n",
    "    E = np.tril(A, -1)\n",
    "    F = np.triu(A, 1)\n",
    "    N = -(E + F)\n",
    "    invM = np.diag(1.0/d) # perché l'inversa di una matrice diagonale è la diagonale dei reciproci\n",
    "    T = invM@N\n",
    "    autovalori = np.linalg.eigvals(T)\n",
    "    raggio_spettrale = np.max(np.abs(autovalori))\n",
    "    print(\"Raggio spettrale Jacobi:\", raggio_spettrale)\n",
    "\n",
    "    it = 0\n",
    "    er_vet = []\n",
    "    errore = 1 + tol\n",
    "    while it < it_max and errore > tol:\n",
    "        x = (b + N@x0)/d.reshape(n, 1)\n",
    "        errore = np.linalg.norm(x - x0)/np.linalg.norm(x)\n",
    "        er_vet.append(errore)\n",
    "        x0 = x.copy()\n",
    "        it = it + 1\n",
    "    return x, it, er_vet"
   ]
  },
  {
   "cell_type": "markdown",
   "id": "94f1b913-cae9-4b23-b6ab-ed8dcc1d4ce6",
   "metadata": {},
   "source": [
    "## Esercizio 2\n",
    "Implementare la  funzione $gauss$_$seidel(A,b,x0,toll,itmax)$ per risolvere il  sistema lineare Ax=b utilizzando il Metodo iterativo di Gauss-Seidel. \n",
    "La funzione prende in input:\n",
    "- A: matrice dei coefficienti\n",
    "- b: termine noto\n",
    "- x0: vettore iniziale della stessa dimensione di b\n",
    "- toll: tolleranza per il criterio di arresto\n",
    "- itmax: iterazioni massime oltre le quali il metodo si ferma\n",
    "\n",
    "Restituisce in output\n",
    "- la soluzione x\n",
    "- l'errore ad ogni iterazione l calcolato come $||x^{(k)}-x^{(k-1)}||/||x^{(k)}||$\n",
    "\n",
    "Calcola\n",
    "- d= np.diag(A) #Estrae la diagonale di A in un 1d numpy array\n",
    "- D=np.diag(d) #Costruisce la matrice diagonale avente d come elementi della diagonale.\n",
    "- E=np.tril(A,-1) #Costruisce la matrice E, formata dagli elementi della matrice A sotto la diagonale \n",
    "                 principale esclusi gli elementi diagonali (vedi teoria)\n",
    "- F=np.triu(A,1) #Costruisce la matrice F, formata dagli elementi della matrice A sopra la diagonale \n",
    "                 principale esclusi gli elementi diagonali (vedi teoria)\n",
    "- il raggio spettrale della matrice di iterazione $T=-(D+E)^{-1}F$ e la sua norma infinito e li stampa.\n",
    "\n",
    "- Implementare in formato  matriciale, l'aggiornamento della soluzione ad ogni iterazione come soluzione del sistema triangolare inferiore (usa Lsolve per risolverlo) con matrice dei coefficienti (D+E) e termine noto $b-Fx^{(k-1)}$ (vedi Teoria)\n",
    "\n",
    "$$(D+E) x^{(k)}= b-Fx^{(k-1)}$$\n",
    "\n",
    "Implementare un criterio di arresto per il procedimento iterativo in termini di : $||x^{(k)}-x^{(k-1)}||/||x^{(k)}|| <toll$"
   ]
  },
  {
   "cell_type": "code",
   "execution_count": null,
   "id": "da9ab4f4-2f84-4f14-9395-919d95e9f586",
   "metadata": {},
   "outputs": [],
   "source": [
    "def gauss_seidel(A,b,x0,toll,it_max):\n",
    "    errore=1000\n",
    "    n = A.shape[0]\n",
    "    d = np.diag(A)\n",
    "    D = np.diag(d)\n",
    "    E = np.tril(A, -1)\n",
    "    F = np.triu(A, 1)\n",
    "    M = D + E\n",
    "    N = -F\n",
    "    invM = np.linalg.inv(M)\n",
    "    T = invM@N\n",
    "    autovalori = np.linalg.eigvals(T)\n",
    "    raggio_spettrale = np.max(np.abs(autovalori))\n",
    "    print(\"raggio spettrale Gauss-Seidel \",raggiospettrale)\n",
    "    it=0\n",
    "    er_vet=[]\n",
    "    while it < it_max and errore > tol:\n",
    "        x = invM@(b + N@x0)\n",
    "        errore=np.linalg.norm(x - x0) / np.linalg.norm(x)\n",
    "        er_vet.append(errore)\n",
    "        x0=x.copy()\n",
    "        it=it+1\n",
    "    return x,it,er_vet"
   ]
  },
  {
   "cell_type": "code",
   "execution_count": 57,
   "id": "146b1b68-d3a2-447a-9151-6617e8157558",
   "metadata": {},
   "outputs": [],
   "source": [
    "def GaussSeidel(A, b, x0, tol, it_max):\n",
    "    n = A.shape[0]\n",
    "    d = np.diag(A)\n",
    "    D = np.diag(d)\n",
    "    E = np.tril(A, -1)\n",
    "    F = np.triu(A, 1)\n",
    "    N = -F\n",
    "    invM = np.linalg.inv(E + D)\n",
    "    T = invM@N\n",
    "    autovalori = np.linalg.eigvals(T)\n",
    "    raggio_spettrale = np.max(np.abs(autovalori))\n",
    "    print(\"Raggio spettrale Gauss Seidel:\", raggio_spettrale)\n",
    "\n",
    "    it = 0\n",
    "    er_vet = []\n",
    "    errore = 1 + tol\n",
    "    while it < it_max and errore > tol:\n",
    "        x, fl = Lsolve(D + E, b + N@x0)\n",
    "        errore = np.linalg.norm(x - x0)/np.linalg.norm(x)\n",
    "        er_vet.append(errore)\n",
    "        x0 = x.copy()\n",
    "        it = it + 1\n",
    "    return x, it, er_vet"
   ]
  },
  {
   "cell_type": "code",
   "execution_count": 83,
   "id": "ea3e13a9-5ab8-4c61-b08b-4239adee1362",
   "metadata": {},
   "outputs": [],
   "source": [
    "def GaussSeidelSor(A, b, x0, tol, it_max, omega):\n",
    "    n = A.shape[0]\n",
    "    d = np.diag(A)\n",
    "    D = np.diag(d)\n",
    "    E = np.tril(A, -1)\n",
    "    F = np.triu(A, 1)\n",
    "    Momega = D + omega*E\n",
    "    Nomega = (1 - omega)*D - omega*F\n",
    "    Tomega = np.linalg.inv(Momega)@Nomega\n",
    "    autovalori = np.linalg.eigvals(Tomega)\n",
    "    raggio_spettrale = np.max(np.abs(autovalori))\n",
    "    print(\"Raggio spettrale Gauss Seidel:\", raggio_spettrale, \" omega:\", omega)\n",
    "\n",
    "    M = D + E\n",
    "    N = -F\n",
    "    \n",
    "    it = 0\n",
    "    er_vet = []\n",
    "    errore = 1 + tol\n",
    "    while it < it_max and errore > tol:\n",
    "        xtilde, fl = Lsolve(M, b + N@x0)\n",
    "        x = (1 - omega)*x0 + omega*xtilde\n",
    "        errore = np.linalg.norm(x - x0)/np.linalg.norm(x)\n",
    "        er_vet.append(errore)\n",
    "        x0 = x.copy()\n",
    "        it = it + 1\n",
    "    return x, it, er_vet"
   ]
  },
  {
   "cell_type": "markdown",
   "id": "d45f316b-0e7e-4d7a-9d5d-08ffc5610cab",
   "metadata": {},
   "source": [
    "## Esercizio 3\n",
    "Testare i metodi di Jacobi e di Gauss Seidel nella soluzione dei sistemi lineare Ax=b, dove \n",
    "- A=np.array([[8,1,3],[3,5,1],[1,1,17]],dtype=float) \n",
    "- A=np.array([[3,0, 4],[7, 4, 3],[-1, -1 ,-2]],dtype=float)\n",
    "- A=np.array([[1,3,2],[7,8,3],[14,3,10]],dtype=float)\n",
    "- A=np.array([[5, 0, -1, 2],[ -2, 4, 1, 0],[0, -1, 4, -1],[ 2, 0, 0, 3]],dtype=float)\n",
    "- A=np.array([[9,1,16],[1,11,1],[16,1,29]],dtype=float)\n",
    "ed il termine noto del sistema è scelto in maniera tale che la soluzione esatta del sistema sia il vettore fatto da tutti 1.\n",
    "Visualizzare in un grafico in scala logaritmica  l'errore per ogni iterazione per ciascun metodo. Cosa si osserva?\n",
    "Porre toll=1e-8 it_max=1000 e x0=np.zeros(A.shape[0]"
   ]
  },
  {
   "cell_type": "code",
   "execution_count": 54,
   "id": "eb565b7f-221f-4d63-a02a-fefee9833f9d",
   "metadata": {},
   "outputs": [
    {
     "name": "stdout",
     "output_type": "stream",
     "text": [
      "Raggio spettrale Jacobi: 1.0025945424811649\n",
      "Soluzione Jacobi: [[-18.58906859]\n",
      " [ -1.76228885]\n",
      " [ -9.87487893]]\n",
      "Iterazioni Jacobi: 1000\n",
      "Raggio spettrale Gauss Seidel: 0.9828354478894896\n",
      "Soluzione Gauss Seidel: [[1.00000087]\n",
      " [0.99999997]\n",
      " [0.99999952]]\n",
      "Iterazioni Gauss Seidel: 844\n"
     ]
    },
    {
     "data": {
      "image/png": "[encoded data removed]",
      "text/plain": [
       "<Figure size 640x480 with 1 Axes>"
      ]
     },
     "metadata": {},
     "output_type": "display_data"
    }
   ],
   "source": [
    "#A = np.array([[8, 1, 3], [3, 5, 1], [1, 1, 17]], dtype=float)\n",
    "#A = np.array([[3, 0, 4],[7, 4, 3],[-1, -1 ,-2]], dtype=float\n",
    "#A = np.array([[1, 3, 2], [7, 8, 3], [14, 3, 10]], dtype=float)\n",
    "#A = np.array([[5, 0, -1, 2],[ -2, 4, 1, 0],[0, -1, 4, -1],[ 2, 0, 0, 3]], dtype=float)\n",
    "A = np.array([[9, 1, 16], [1, 11, 1], [16, 1, 29]], dtype=float)\n",
    "n = A.shape[0]\n",
    "b = np.sum(A, axis=1).reshape(n, 1)\n",
    "tol = 1e-8\n",
    "it_max = 1000\n",
    "x0 = np.zeros_like(b)\n",
    "xJ, itJ, er_vetJ = Jacobi(A, b, x0, tol, it_max)\n",
    "print(\"Soluzione Jacobi:\", xJ)\n",
    "print(\"Iterazioni Jacobi:\", itJ)\n",
    "\n",
    "xG, itG, er_vetG = GaussSeidel(A, b, x0, tol, it_max)\n",
    "print(\"Soluzione Gauss Seidel:\", xG)\n",
    "print(\"Iterazioni Gauss Seidel:\", itG)\n",
    "\n",
    "plt.loglog(np.arange(0, itJ), er_vetJ)\n",
    "plt.loglog(np.arange(0, itG), er_vetG)\n",
    "plt.show()"
   ]
  },
  {
   "cell_type": "markdown",
   "id": "389daa82-16aa-4c52-b830-41693c320ecd",
   "metadata": {},
   "source": [
    "## Esercizio 4\n",
    "Implementare la  funzione $gauss$_$seidel$_sor(A,b,x0,omega, toll,itmax) per risolvere il  sistema lineare Ax=b utilizzando il Metodo iterativo di Gauss-Seidel-SOR\n",
    "La funzione prende in input:\n",
    "- A: matrice dei coefficienti\n",
    "- b: termine noto\n",
    "- x0: vettore iniziale della stessa dimensione di b\n",
    "- omega: il parametro di rilassamento\n",
    "- toll: tolleranza per il criterio di arresto\n",
    "- itmax: iterazioni massime oltre le quali il metodo si ferma\n",
    "\n",
    "Restituisce in output\n",
    "- la soluzione x\n",
    "- l'errore ad ogni iterazione calcolato come $||x^{(k)}-x^{(k-1)}||/||x^{(k)}||$\n",
    "\n",
    "Calcola\n",
    "- d= np.diag(A) #Estrae la diagonale di A in un 1d numpy array\n",
    "- D=np.diag(d) #Costruisce la matrice diagonale avente d come elementi della diagonale.\n",
    "- E=np.tril(A,-1) #Costruisce la matrice E, formata dagli elementi della matrice A sotto la diagonale \n",
    "                 principale esclusi gli elementi diagonali (vedi teoria)\n",
    "- F=np.triu(A,1) #Costruisce la matrice F, formata dagli elementi della matrice A sopra la diagonale \n",
    "                 principale esclusi gli elementi diagonali (vedi teoria)\n",
    "- il raggio spettrale della matrice di iterazione $T(\\omega)$$ (vedi dispense per la formula della matrice di iterazione T nel caso di Gauss_Seidel SOR) e la sua norma infinito e li stampa.\n",
    "\n",
    "- Implementare in formato  matriciale, l'aggiornamento della soluzione ad ogni iterazione con i seguenti passi:\n",
    "\n",
    "  -  calcolare \n",
    "  $$\\tilde{x}^{(k)}$$\n",
    "  come soluzione del sistema triangolare inferiore (usa Lsolve per risolverlo) con matrice dei coefficienti (D+E) e termine noto $b-Fx^{(k-1)}$ (vedi Teoria)\n",
    "  $$(D+E) \\tilde{x}^{(k)}= b-Fx^{(k-1)}$$\n",
    "\n",
    "  - la soluzione al passo k di Gauss Seidel SOR sarà quindi calcolata come \n",
    "  $$x^{(k)}= (1-\\omega)x^{(k-1)}+\\omega \\tilde{x}^{(k)}$$\n",
    "\n",
    "Indicato con $x^{(0)}$ un vettore casuale di n componenti (n è l'ordine della matrice), il procedimento iterativo per il calcolo della soluzione del sistema lineare consiste nell'iterare il segeunte schema fino a quando non venga soddisfatto il criterio di arresto:\n",
    "\n",
    "$$(D+E) \\tilde{x}^{(k)}= b-Fx^{(k-1)}$$\n",
    "$$x^{(k)}= (1-\\omega)x^{(k-1)}+\\omega  \\tilde{x}^{(k)}$$\n",
    "\n",
    "Implementare un criterio di arresto per il procedimento iterativo in termini di : $||x^{(k)}-x^{(k-1)}||/||x^{(k)}|| <toll$"
   ]
  },
  {
   "cell_type": "markdown",
   "id": "2d2d64d1-52ae-43c5-a76c-e869474b6496",
   "metadata": {},
   "source": [
    "## Esercizio 5\n",
    "Scrivere una funzione creaPoisson(n) che preso in input l'ordine della matrice quadrata di Poisson la costruzione secondo la seguente formula:\n",
    "$$A =\n",
    "\\left [\n",
    "\\begin{array}{ccccccccccc}\n",
    "4 & -1 & 0 & -1 &0 &0 & 0& 0& \\cdots &   0 & 0\\\\\n",
    "-1 & 4 & -1 & 0  &-1 &0 & 0& 0& \\cdots &   0 & 0\\\\\n",
    "0 & -1 & 4 & -1  &0 &-1 & 0& 0& \\cdots &   0 & 0 \\\\\n",
    "-1 & 0 & -1 & 4  &-1 &0  & -1 & 0& \\cdots &   0 & 0\\\\\n",
    "0 & -1 & 0 & -1  & 4 &-1 & 0 & -1& \\cdots &   0 & 0\\\\\n",
    "0 & 0 & -1 & 0  & -1 &4 & -1 & 0&  -1 & 0 & 0 \\\\\n",
    "0 & 0 & 0 & \\ddots  & 0 &\\ddots & \\ddots & \\ddots& \\ddots & \\ddots & 0\\\\\n",
    "0 & 0 & 0 & 0  & -1 &0  & -1 & 4& -1 &   0& -1\\\\\n",
    "\\end{array}\n",
    " \\right ], \\qquad\n",
    "$$\n",
    "- Risolvere il sistema lineare Ax=b con matrice dei coefficienti A di Poisson di ordine 10 e termine noto b scelto in maniera tale che il sistema abbia soluzione il vettore x con tutte le componenti  uguali ad 1, utilizzando  il metodo iterativo di Jacobi, Gauss-Seidel e Gauss-Seidel-Sor con parametro omega scelto tra 1 e 2 in maniera tale che il raggio spettrale della matrice di iterazione sia il più piccolo possibile e confrontare su un unico grafico l'andamento degli errori in scala logaritmica. Usare toll=1e-10."
   ]
  },
  {
   "cell_type": "code",
   "execution_count": 73,
   "id": "a64e027e-4019-41fe-8c22-eb0b08bad285",
   "metadata": {},
   "outputs": [],
   "source": [
    "def creaPoisson(n):\n",
    "    d = np.full((n,), 4)\n",
    "    e = np.full((n - 1,), -1)\n",
    "    f = np.full((n - 3,), -1)\n",
    "\n",
    "    A = np.diag(d) + np.diag(e, -1) + np.diag(e, 1) + np.diag(f, -3) + np.diag(f, 3)\n",
    "    \n",
    "    return A"
   ]
  },
  {
   "cell_type": "code",
   "execution_count": 115,
   "id": "70977d8b-15bc-4cee-89b5-6aea86b295c7",
   "metadata": {},
   "outputs": [
    {
     "name": "stdout",
     "output_type": "stream",
     "text": [
      "[[ 4 -1  0 -1  0  0  0  0  0  0]\n",
      " [-1  4 -1  0 -1  0  0  0  0  0]\n",
      " [ 0 -1  4 -1  0 -1  0  0  0  0]\n",
      " [-1  0 -1  4 -1  0 -1  0  0  0]\n",
      " [ 0 -1  0 -1  4 -1  0 -1  0  0]\n",
      " [ 0  0 -1  0 -1  4 -1  0 -1  0]\n",
      " [ 0  0  0 -1  0 -1  4 -1  0 -1]\n",
      " [ 0  0  0  0 -1  0 -1  4 -1  0]\n",
      " [ 0  0  0  0  0 -1  0 -1  4 -1]\n",
      " [ 0  0  0  0  0  0 -1  0 -1  4]]\n"
     ]
    }
   ],
   "source": [
    "n5 = 10\n",
    "A5 = creaPoisson(n5)\n",
    "print(A5)"
   ]
  },
  {
   "cell_type": "code",
   "execution_count": 118,
   "id": "bd41f535-3f6d-45dd-abac-d44b8feef2fb",
   "metadata": {},
   "outputs": [
    {
     "name": "stdout",
     "output_type": "stream",
     "text": [
      "Raggio spettrale Jacobi: 0.8451732757464308\n",
      "Raggio spettrale Gauss Seidel: 0.7185579379397853\n",
      "Raggio spettrale Gauss Seidel: 0.5103393892922706  omega: 1.4\n",
      "Soluzione Jacobi: [[1.]\n",
      " [1.]\n",
      " [1.]\n",
      " [1.]\n",
      " [1.]\n",
      " [1.]\n",
      " [1.]\n",
      " [1.]\n",
      " [1.]\n",
      " [1.]]\n",
      "Iterazioni Jacobi: 127\n",
      "Soluzione Gauss Seidel: [[1.]\n",
      " [1.]\n",
      " [1.]\n",
      " [1.]\n",
      " [1.]\n",
      " [1.]\n",
      " [1.]\n",
      " [1.]\n",
      " [1.]\n",
      " [1.]]\n",
      "Iterazioni Gauss Seidel: 68\n",
      "Soluzione Gauss Seidel Sor: [[1.]\n",
      " [1.]\n",
      " [1.]\n",
      " [1.]\n",
      " [1.]\n",
      " [1.]\n",
      " [1.]\n",
      " [1.]\n",
      " [1.]\n",
      " [1.]]\n",
      "Iterazioni Gauss Seidel Sor: 46\n"
     ]
    }
   ],
   "source": [
    "b5 = np.sum(A5, axis=1).reshape(n5, 1)\n",
    "x0_5 = np.zeros_like(b5)\n",
    "tol = 1e-10\n",
    "it_max = 1000\n",
    "xJ5, itJ5, er_vetJ5 = Jacobi(A5, b5, x0_5, tol, it_max)\n",
    "xG5, itG5, er_vetG5 = GaussSeidel(A5, b5, x0_5, tol, it_max)\n",
    "omega = 1.4\n",
    "xG_sor5, itG_sor5, er_vetG_sor5 = GaussSeidelSor(A5, b5, x0_5, tol, it_max, omega)\n",
    "print(\"Soluzione Jacobi:\", xJ5)\n",
    "print(\"Iterazioni Jacobi:\", itJ5)\n",
    "print(\"Soluzione Gauss Seidel:\", xG5)\n",
    "print(\"Iterazioni Gauss Seidel:\", itG5)\n",
    "print(\"Soluzione Gauss Seidel Sor:\", xG_sor5)\n",
    "print(\"Iterazioni Gauss Seidel Sor:\", itG_sor5)"
   ]
  },
  {
   "cell_type": "code",
   "execution_count": 119,
   "id": "b885885c-67f8-4264-9d76-b6fa31e345e3",
   "metadata": {},
   "outputs": [
    {
     "data": {
      "image/png": "[encoded data removed]",
      "text/plain": [
       "<Figure size 640x480 with 1 Axes>"
      ]
     },
     "metadata": {},
     "output_type": "display_data"
    }
   ],
   "source": [
    "plt.semilogy(np.arange(0, itJ5), er_vetJ5, np.arange(0, itG5), er_vetG5, np.arange(0, itG_sor5), er_vetG_sor5)\n",
    "plt.legend([\"Jacobi\", \"Gauss Seidel\", \"Gauss Seidel Sor Omega \" + str(omega)])\n",
    "plt.show()"
   ]
  }
 ],
 "metadata": {
  "kernelspec": {
   "display_name": "Python [conda env:base] *",
   "language": "python",
   "name": "conda-base-py"
  },
  "language_info": {
   "codemirror_mode": {
    "name": "ipython",
    "version": 3
   },
   "file_extension": ".py",
   "mimetype": "text/x-python",
   "name": "python",
   "nbconvert_exporter": "python",
   "pygments_lexer": "ipython3",
   "version": "3.12.7"
  }
 },
 "nbformat": 4,
 "nbformat_minor": 5
}
